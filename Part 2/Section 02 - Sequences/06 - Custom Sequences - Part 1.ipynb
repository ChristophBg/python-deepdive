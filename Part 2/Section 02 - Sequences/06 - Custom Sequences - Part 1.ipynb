{
 "cells": [
  {
   "cell_type": "markdown",
   "metadata": {},
   "source": [
    "### Custom Sequences (Part 1)"
   ]
  },
  {
   "cell_type": "markdown",
   "metadata": {},
   "source": [
    "We'll focus first on how to create a custom sequence type that supports indexing, slicing (read only) and iteration. We'll look into mutable custom sequences in an upcoming video."
   ]
  },
  {
   "cell_type": "markdown",
   "metadata": {},
   "source": [
    "First we should understand how the `__getitem__` method works for iteration and retrieving individual elements from a sequence:"
   ]
  },
  {
   "cell_type": "code",
   "execution_count": 2,
   "metadata": {
    "collapsed": true
   },
   "outputs": [],
   "source": [
    "my_list = [0, 1, 2, 3, 4, 5]"
   ]
  },
  {
   "cell_type": "code",
   "execution_count": 3,
   "metadata": {},
   "outputs": [
    {
     "data": {
      "text/plain": [
       "0"
      ]
     },
     "execution_count": 3,
     "metadata": {},
     "output_type": "execute_result"
    }
   ],
   "source": [
    "my_list.__getitem__(0)"
   ]
  },
  {
   "cell_type": "code",
   "execution_count": 4,
   "metadata": {},
   "outputs": [
    {
     "data": {
      "text/plain": [
       "5"
      ]
     },
     "execution_count": 4,
     "metadata": {},
     "output_type": "execute_result"
    }
   ],
   "source": [
    "my_list.__getitem__(5)"
   ]
  },
  {
   "cell_type": "markdown",
   "metadata": {},
   "source": [
    "But if our index is out of bounds:"
   ]
  },
  {
   "cell_type": "code",
   "execution_count": 5,
   "metadata": {},
   "outputs": [
    {
     "ename": "IndexError",
     "evalue": "list index out of range",
     "output_type": "error",
     "traceback": [
      "\u001B[1;31m---------------------------------------------------------------------------\u001B[0m",
      "\u001B[1;31mIndexError\u001B[0m                                Traceback (most recent call last)",
      "\u001B[1;32m<ipython-input-5-af8e15c3db49>\u001B[0m in \u001B[0;36m<module>\u001B[1;34m()\u001B[0m\n\u001B[1;32m----> 1\u001B[1;33m \u001B[0mmy_list\u001B[0m\u001B[1;33m.\u001B[0m\u001B[0m__getitem__\u001B[0m\u001B[1;33m(\u001B[0m\u001B[1;36m6\u001B[0m\u001B[1;33m)\u001B[0m\u001B[1;33m\u001B[0m\u001B[0m\n\u001B[0m",
      "\u001B[1;31mIndexError\u001B[0m: list index out of range"
     ]
    }
   ],
   "source": [
    "my_list.__getitem__(6)"
   ]
  },
  {
   "cell_type": "markdown",
   "metadata": {},
   "source": [
    "we get an IndexError."
   ]
  },
  {
   "cell_type": "markdown",
   "metadata": {},
   "source": [
    "Technically, the `list` object's `__getitem__` method also supports negative indexing and slicing:"
   ]
  },
  {
   "cell_type": "code",
   "execution_count": 6,
   "metadata": {},
   "outputs": [
    {
     "data": {
      "text/plain": [
       "5"
      ]
     },
     "execution_count": 6,
     "metadata": {},
     "output_type": "execute_result"
    }
   ],
   "source": [
    "my_list.__getitem__(-1)"
   ]
  },
  {
   "cell_type": "code",
   "execution_count": 7,
   "metadata": {},
   "outputs": [
    {
     "data": {
      "text/plain": [
       "[0, 2, 4]"
      ]
     },
     "execution_count": 7,
     "metadata": {},
     "output_type": "execute_result"
    }
   ],
   "source": [
    "my_list.__getitem__(slice(0,6,2))"
   ]
  },
  {
   "cell_type": "code",
   "execution_count": 8,
   "metadata": {},
   "outputs": [
    {
     "data": {
      "text/plain": [
       "[5, 4, 3, 2, 1, 0]"
      ]
     },
     "execution_count": 8,
     "metadata": {},
     "output_type": "execute_result"
    }
   ],
   "source": [
    "my_list.__getitem__(slice(None, None, -1))"
   ]
  },
  {
   "cell_type": "markdown",
   "metadata": {},
   "source": [
    "#### Mimicking Python's `for` loop using the `__getitem__` method"
   ]
  },
  {
   "cell_type": "code",
   "execution_count": 9,
   "metadata": {
    "collapsed": true
   },
   "outputs": [],
   "source": [
    "my_list = [0, 1, 2, 3, 4, 5]"
   ]
  },
  {
   "cell_type": "code",
   "execution_count": 10,
   "metadata": {},
   "outputs": [
    {
     "name": "stdout",
     "output_type": "stream",
     "text": [
      "0\n",
      "1\n",
      "4\n",
      "9\n",
      "16\n",
      "25\n"
     ]
    }
   ],
   "source": [
    "for item in my_list:\n",
    "    print(item ** 2)"
   ]
  },
  {
   "cell_type": "markdown",
   "metadata": {},
   "source": [
    "Now let's do the same thing ourselves without a for loop:"
   ]
  },
  {
   "cell_type": "code",
   "execution_count": 11,
   "metadata": {},
   "outputs": [
    {
     "name": "stdout",
     "output_type": "stream",
     "text": [
      "0\n",
      "1\n",
      "4\n",
      "9\n",
      "16\n",
      "25\n"
     ]
    }
   ],
   "source": [
    "index = 0\n",
    "while True:\n",
    "    try:\n",
    "        item = my_list.__getitem__(index)\n",
    "    except IndexError:\n",
    "        # reached the end of the sequence\n",
    "        break\n",
    "    # do something with the item...\n",
    "    print(item ** 2)\n",
    "    index += 1"
   ]
  },
  {
   "cell_type": "markdown",
   "metadata": {},
   "source": [
    "#### Implementing a custom Sequence "
   ]
  },
  {
   "cell_type": "markdown",
   "metadata": {},
   "source": [
    "Custom objects can support slicing - we'll see this later in this course, but for now we'll take a quick peek ahead.\n",
    "\n",
    "To make a custom classes support indexing (and slicing) we only need to implement the `__getitem__` method which receives the index (or slice) we are interested in."
   ]
  },
  {
   "cell_type": "code",
   "execution_count": 12,
   "metadata": {
    "collapsed": true
   },
   "outputs": [],
   "source": [
    "class MySequence:\n",
    "    def __getitem__(self, index):\n",
    "        print(type(index), index)"
   ]
  },
  {
   "cell_type": "code",
   "execution_count": 13,
   "metadata": {
    "collapsed": true
   },
   "outputs": [],
   "source": [
    "my_seq = MySequence()"
   ]
  },
  {
   "cell_type": "code",
   "execution_count": 14,
   "metadata": {},
   "outputs": [
    {
     "name": "stdout",
     "output_type": "stream",
     "text": [
      "<class 'int'> 0\n"
     ]
    }
   ],
   "source": [
    "my_seq[0]"
   ]
  },
  {
   "cell_type": "code",
   "execution_count": 15,
   "metadata": {},
   "outputs": [
    {
     "name": "stdout",
     "output_type": "stream",
     "text": [
      "<class 'int'> 100\n"
     ]
    }
   ],
   "source": [
    "my_seq[100]"
   ]
  },
  {
   "cell_type": "code",
   "execution_count": 16,
   "metadata": {},
   "outputs": [
    {
     "name": "stdout",
     "output_type": "stream",
     "text": [
      "<class 'slice'> slice(0, 2, None)\n"
     ]
    }
   ],
   "source": [
    "my_seq[0:2]"
   ]
  },
  {
   "cell_type": "code",
   "execution_count": 17,
   "metadata": {},
   "outputs": [
    {
     "name": "stdout",
     "output_type": "stream",
     "text": [
      "<class 'slice'> slice(0, 10, 2)\n"
     ]
    }
   ],
   "source": [
    "my_seq[0:10:2]"
   ]
  },
  {
   "cell_type": "markdown",
   "metadata": {},
   "source": [
    "As you can see, the `__getitem__` method receives an index number of type `int` when we use `[n]` and a `slice` object when we use `[i:j]` or `[i:j:k]`."
   ]
  },
  {
   "cell_type": "markdown",
   "metadata": {},
   "source": [
    "As we saw in a previous lecture, given the bounds for a slice, and the length of the sequence we are slicing, we can always define a `range` that will generate the desired indices.\n",
    "\n",
    "We also saw that the `slice` object has a method, `indices`, that precisely tells us the start/stop/step values we would need for an equivalent `range`, given the length of the sequence we are slicing.\n",
    "\n",
    "Let's recall a simple example first:"
   ]
  },
  {
   "cell_type": "code",
   "execution_count": 18,
   "metadata": {},
   "outputs": [
    {
     "data": {
      "text/plain": [
       "6"
      ]
     },
     "execution_count": 18,
     "metadata": {},
     "output_type": "execute_result"
    }
   ],
   "source": [
    "l = 'python'\n",
    "len(l)"
   ]
  },
  {
   "cell_type": "code",
   "execution_count": 19,
   "metadata": {},
   "outputs": [
    {
     "data": {
      "text/plain": [
       "'pto'"
      ]
     },
     "execution_count": 19,
     "metadata": {},
     "output_type": "execute_result"
    }
   ],
   "source": [
    "s = slice(0, 6, 2)\n",
    "l[s]"
   ]
  },
  {
   "cell_type": "code",
   "execution_count": 20,
   "metadata": {},
   "outputs": [
    {
     "data": {
      "text/plain": [
       "(0, 6, 2)"
      ]
     },
     "execution_count": 20,
     "metadata": {},
     "output_type": "execute_result"
    }
   ],
   "source": [
    "s.start, s.stop, s.step"
   ]
  },
  {
   "cell_type": "code",
   "execution_count": 21,
   "metadata": {},
   "outputs": [
    {
     "data": {
      "text/plain": [
       "(0, 6, 2)"
      ]
     },
     "execution_count": 21,
     "metadata": {},
     "output_type": "execute_result"
    }
   ],
   "source": [
    "s.indices(6)"
   ]
  },
  {
   "cell_type": "code",
   "execution_count": 22,
   "metadata": {},
   "outputs": [
    {
     "data": {
      "text/plain": [
       "[0, 2, 4]"
      ]
     },
     "execution_count": 22,
     "metadata": {},
     "output_type": "execute_result"
    }
   ],
   "source": [
    "list(range(0, 6, 2))"
   ]
  },
  {
   "cell_type": "markdown",
   "metadata": {},
   "source": [
    "This matches exactly the indices that were selected from the sequence `'python'`"
   ]
  },
  {
   "cell_type": "markdown",
   "metadata": {},
   "source": [
    "### Example"
   ]
  },
  {
   "cell_type": "markdown",
   "metadata": {},
   "source": [
    "So, why am I re-emphasizing this equivalence between the indices in a `slice` and and equivalent `range` object?"
   ]
  },
  {
   "cell_type": "markdown",
   "metadata": {},
   "source": [
    "Let's say we want to implement our own sequence type and we want to support slicing."
   ]
  },
  {
   "cell_type": "markdown",
   "metadata": {},
   "source": [
    "For this example we'll create a custom Fibonacci sequence type."
   ]
  },
  {
   "cell_type": "markdown",
   "metadata": {},
   "source": [
    "First recall that the `__getitem__` will receive either an integer (for simple indexing), or a slice object:"
   ]
  },
  {
   "cell_type": "code",
   "execution_count": 1,
   "metadata": {
    "collapsed": true,
    "ExecuteTime": {
     "end_time": "2023-07-21T13:51:04.357159Z",
     "start_time": "2023-07-21T13:51:04.334006Z"
    }
   },
   "outputs": [],
   "source": [
    "class Fib:\n",
    "    def __getitem__(self, s):\n",
    "        print(type(s), s)"
   ]
  },
  {
   "cell_type": "code",
   "execution_count": 2,
   "metadata": {
    "ExecuteTime": {
     "end_time": "2023-07-21T13:51:18.397123Z",
     "start_time": "2023-07-21T13:51:18.249292Z"
    }
   },
   "outputs": [
    {
     "name": "stdout",
     "output_type": "stream",
     "text": [
      "<class 'int'> 2\n",
      "<class 'slice'> slice(2, 10, 2)\n"
     ]
    }
   ],
   "source": [
    "f = Fib()\n",
    "f[2]\n",
    "f[2:10:2]"
   ]
  },
  {
   "cell_type": "markdown",
   "metadata": {},
   "source": [
    "We'll use that to implement both indexing and slicing for our custom Fibonacci sequence type."
   ]
  },
  {
   "cell_type": "markdown",
   "metadata": {},
   "source": [
    "We'll make our sequence type bounded (i.e. we'll have to specify the size of the sequence). But we are not going to pre-generate the entire sequence of Fibonacci numbers, we'll only generate the ones that are being requested as needed."
   ]
  },
  {
   "cell_type": "code",
   "execution_count": 3,
   "metadata": {
    "collapsed": true,
    "ExecuteTime": {
     "end_time": "2023-07-21T13:51:55.946708Z",
     "start_time": "2023-07-21T13:51:55.927965Z"
    }
   },
   "outputs": [],
   "source": [
    "class Fib:\n",
    "    def __init__(self, n):\n",
    "        self._n = n\n",
    "    \n",
    "    def __getitem__(self, s):\n",
    "        if isinstance(s, int):\n",
    "            # single item requested\n",
    "            print(f'requesting [{s}]')\n",
    "        else:\n",
    "            # slice being requested\n",
    "            print(f'requesting [{s.start}:{s.stop}:{s.step}]')"
   ]
  },
  {
   "cell_type": "code",
   "execution_count": 4,
   "metadata": {
    "collapsed": true,
    "ExecuteTime": {
     "end_time": "2023-07-21T13:51:57.315873Z",
     "start_time": "2023-07-21T13:51:57.281628Z"
    }
   },
   "outputs": [],
   "source": [
    "f = Fib(10)"
   ]
  },
  {
   "cell_type": "code",
   "execution_count": 5,
   "metadata": {
    "ExecuteTime": {
     "end_time": "2023-07-21T13:52:01.910994Z",
     "start_time": "2023-07-21T13:52:01.848864Z"
    }
   },
   "outputs": [
    {
     "name": "stdout",
     "output_type": "stream",
     "text": [
      "requesting [3]\n"
     ]
    }
   ],
   "source": [
    "f[3]"
   ]
  },
  {
   "cell_type": "code",
   "execution_count": 6,
   "metadata": {
    "ExecuteTime": {
     "end_time": "2023-07-21T13:52:05.547439Z",
     "start_time": "2023-07-21T13:52:05.444035Z"
    }
   },
   "outputs": [
    {
     "name": "stdout",
     "output_type": "stream",
     "text": [
      "requesting [None:5:None]\n"
     ]
    }
   ],
   "source": [
    "f[:5]"
   ]
  },
  {
   "cell_type": "markdown",
   "metadata": {},
   "source": [
    "Let's now add in what the equivalent range would be:"
   ]
  },
  {
   "cell_type": "code",
   "execution_count": 7,
   "metadata": {
    "collapsed": true,
    "ExecuteTime": {
     "end_time": "2023-07-21T13:52:28.468456Z",
     "start_time": "2023-07-21T13:52:28.400224Z"
    }
   },
   "outputs": [],
   "source": [
    "class Fib:\n",
    "    def __init__(self, n):\n",
    "        self._n = n\n",
    "    \n",
    "    def __getitem__(self, s):\n",
    "        if isinstance(s, int):\n",
    "            # single item requested\n",
    "            print(f'requesting [{s}]')\n",
    "        else:\n",
    "            # slice being requested\n",
    "            print(f'requesting [{s.start}:{s.stop}:{s.step}]')\n",
    "            idx = s.indices(self._n)\n",
    "            rng = range(*idx)\n",
    "            print(f'\\trange({idx[0]}, {idx[1]}, {idx[2]}) --> {list(rng)}')"
   ]
  },
  {
   "cell_type": "code",
   "execution_count": 8,
   "metadata": {
    "ExecuteTime": {
     "end_time": "2023-07-21T13:52:29.498724Z",
     "start_time": "2023-07-21T13:52:29.252635Z"
    }
   },
   "outputs": [
    {
     "name": "stdout",
     "output_type": "stream",
     "text": [
      "requesting [3:5:None]\n",
      "\trange(3, 5, 1) --> [3, 4]\n",
      "requesting [None:None:-1]\n",
      "\trange(9, -1, -1) --> [9, 8, 7, 6, 5, 4, 3, 2, 1, 0]\n"
     ]
    }
   ],
   "source": [
    "f = Fib(10)\n",
    "f[3:5]\n",
    "f[::-1]"
   ]
  },
  {
   "cell_type": "markdown",
   "metadata": {},
   "source": [
    "Next step is for us to actually calculate the n-th Fibonacci number, we'll use memoization as well (see lecture on decorators and memoization if you need to refresh your memory on that):"
   ]
  },
  {
   "cell_type": "code",
   "execution_count": 9,
   "metadata": {
    "collapsed": true,
    "ExecuteTime": {
     "end_time": "2023-07-21T13:52:45.411296Z",
     "start_time": "2023-07-21T13:52:45.378537Z"
    }
   },
   "outputs": [],
   "source": [
    "from functools import lru_cache"
   ]
  },
  {
   "cell_type": "code",
   "execution_count": 10,
   "metadata": {
    "collapsed": true,
    "ExecuteTime": {
     "end_time": "2023-07-21T13:52:46.507302Z",
     "start_time": "2023-07-21T13:52:46.451066Z"
    }
   },
   "outputs": [],
   "source": [
    "@lru_cache(2**10)\n",
    "def fib(n):\n",
    "    if n < 2:\n",
    "        return 1\n",
    "    else:\n",
    "        return fib(n-1) + fib(n-2)"
   ]
  },
  {
   "cell_type": "code",
   "execution_count": 11,
   "metadata": {
    "ExecuteTime": {
     "end_time": "2023-07-21T13:52:48.043878Z",
     "start_time": "2023-07-21T13:52:47.943487Z"
    }
   },
   "outputs": [
    {
     "data": {
      "text/plain": "(1, 1, 2, 3, 5, 8, 20365011074)"
     },
     "execution_count": 11,
     "metadata": {},
     "output_type": "execute_result"
    }
   ],
   "source": [
    "fib(0), fib(1), fib(2), fib(3), fib(4), fib(5), fib(50)"
   ]
  },
  {
   "cell_type": "markdown",
   "metadata": {},
   "source": [
    "Now, let's make this function part of our class:"
   ]
  },
  {
   "cell_type": "code",
   "execution_count": 12,
   "metadata": {
    "collapsed": true,
    "ExecuteTime": {
     "end_time": "2023-07-21T13:52:54.200417Z",
     "start_time": "2023-07-21T13:52:54.128192Z"
    }
   },
   "outputs": [],
   "source": [
    "class Fib:\n",
    "    def __init__(self, n):\n",
    "        self._n = n\n",
    "    \n",
    "    def __getitem__(self, s):\n",
    "        if isinstance(s, int):\n",
    "            # single item requested\n",
    "            print(f'requesting [{s}]')\n",
    "        else:\n",
    "            # slice being requested\n",
    "            print(f'requesting [{s.start}:{s.stop}:{s.step}]')\n",
    "            idx = s.indices(self._n)\n",
    "            rng = range(idx[0], idx[1], idx[2])\n",
    "            print(f'\\trange({idx[0]}, {idx[1]}, {idx[2]}) --> {list(rng)}')\n",
    "    \n",
    "    @staticmethod\n",
    "    @lru_cache(2**32)\n",
    "    def _fib(n):\n",
    "        if n < 2:\n",
    "            return 1\n",
    "        else:\n",
    "            return fib(n-1) + fib(n-2)"
   ]
  },
  {
   "cell_type": "markdown",
   "metadata": {},
   "source": [
    "The next step is to implement the `__getitem__` method. Let's start by implementing the simple indexing:"
   ]
  },
  {
   "cell_type": "code",
   "execution_count": 13,
   "metadata": {
    "collapsed": true,
    "ExecuteTime": {
     "end_time": "2023-07-21T14:03:01.722682Z",
     "start_time": "2023-07-21T14:03:01.633720Z"
    }
   },
   "outputs": [],
   "source": [
    "class Fib:\n",
    "    def __init__(self, n):\n",
    "        self._n = n\n",
    "    \n",
    "    def __getitem__(self, s):\n",
    "        if isinstance(s, int):\n",
    "            # single item requested\n",
    "            return self._fib(s)\n",
    "        else:\n",
    "            # slice being requested\n",
    "            print(f'requesting [{s.start}:{s.stop}:{s.step}]')\n",
    "            idx = s.indices(self._n)\n",
    "            rng = range(idx[0], idx[1], idx[2])\n",
    "            print(f'\\trange({idx[0]}, {idx[1]}, {idx[2]}) --> {list(rng)}')\n",
    "            \n",
    "    @staticmethod\n",
    "    @lru_cache(2**32)\n",
    "    def _fib(n):\n",
    "        if n < 2:\n",
    "            return 1\n",
    "        else:\n",
    "            return fib(n-1) + fib(n-2)"
   ]
  },
  {
   "cell_type": "markdown",
   "metadata": {},
   "source": [
    "Let's test that out:"
   ]
  },
  {
   "cell_type": "code",
   "execution_count": 14,
   "metadata": {
    "collapsed": true,
    "ExecuteTime": {
     "end_time": "2023-07-21T14:03:04.802760Z",
     "start_time": "2023-07-21T14:03:04.755784Z"
    }
   },
   "outputs": [],
   "source": [
    "f = Fib(100)"
   ]
  },
  {
   "cell_type": "code",
   "execution_count": 15,
   "metadata": {
    "ExecuteTime": {
     "end_time": "2023-07-21T14:03:07.597338Z",
     "start_time": "2023-07-21T14:03:07.430098Z"
    }
   },
   "outputs": [
    {
     "data": {
      "text/plain": "(1, 1, 2, 3, 5, 8, 20365011074)"
     },
     "execution_count": 15,
     "metadata": {},
     "output_type": "execute_result"
    }
   ],
   "source": [
    "f[0], f[1], f[2], f[3], f[4], f[5], f[50]"
   ]
  },
  {
   "cell_type": "markdown",
   "metadata": {},
   "source": [
    "But we still have a few problems.\n",
    "\n",
    "First we do not handle negative values, and we also will return results for indices that should technically be out of bounds, so we can't really iterate through this sequence yet as we would end up with an infinite iteration!"
   ]
  },
  {
   "cell_type": "code",
   "execution_count": 16,
   "metadata": {
    "ExecuteTime": {
     "end_time": "2023-07-21T14:03:16.930850Z",
     "start_time": "2023-07-21T14:03:16.818493Z"
    }
   },
   "outputs": [
    {
     "data": {
      "text/plain": "(453973694165307953197296969697410619233826, 1)"
     },
     "execution_count": 16,
     "metadata": {},
     "output_type": "execute_result"
    }
   ],
   "source": [
    "f[200], f[-5]"
   ]
  },
  {
   "cell_type": "markdown",
   "metadata": {},
   "source": [
    "So we first need to raise an `IndexError` exception when the index is out of bounds, and we also need to remap negative indices (for example `-1` should correspond to the last element of the sequence, and so on)"
   ]
  },
  {
   "cell_type": "code",
   "execution_count": 17,
   "metadata": {
    "ExecuteTime": {
     "end_time": "2023-07-21T14:03:21.781119Z",
     "start_time": "2023-07-21T14:03:21.725431Z"
    }
   },
   "outputs": [],
   "source": [
    "class Fib:\n",
    "    def __init__(self, n):\n",
    "        self._n = n\n",
    "    \n",
    "    def __getitem__(self, s):\n",
    "        if isinstance(s, int):\n",
    "            # single item requested\n",
    "            if s < 0:\n",
    "                s = self._n + s\n",
    "            if s < 0 or s > self._n - 1:\n",
    "                raise IndexError\n",
    "            return self._fib(s)\n",
    "        else:\n",
    "            # slice being requested\n",
    "            print(f'requesting [{s.start}:{s.stop}:{s.step}]')\n",
    "            idx = s.indices(self._n)\n",
    "            rng = range(idx[0], idx[1], idx[2])\n",
    "            print(f'\\trange({idx[0]}, {idx[1]}, {idx[2]}) --> {list(rng)}')\n",
    "            \n",
    "    @staticmethod\n",
    "    @lru_cache(2**32)\n",
    "    def _fib(n):\n",
    "        if n < 2:\n",
    "            return 1\n",
    "        else:\n",
    "            return fib(n-1) + fib(n-2)"
   ]
  },
  {
   "cell_type": "code",
   "execution_count": 18,
   "metadata": {
    "collapsed": true,
    "ExecuteTime": {
     "end_time": "2023-07-21T14:03:23.245495Z",
     "start_time": "2023-07-21T14:03:23.227279Z"
    }
   },
   "outputs": [],
   "source": [
    "f = Fib(10)"
   ]
  },
  {
   "cell_type": "code",
   "execution_count": 19,
   "metadata": {
    "ExecuteTime": {
     "end_time": "2023-07-21T14:03:24.034743Z",
     "start_time": "2023-07-21T14:03:23.935314Z"
    }
   },
   "outputs": [
    {
     "data": {
      "text/plain": "(55, 55)"
     },
     "execution_count": 19,
     "metadata": {},
     "output_type": "execute_result"
    }
   ],
   "source": [
    "f[9], f[-1]"
   ]
  },
  {
   "cell_type": "code",
   "execution_count": 20,
   "metadata": {
    "ExecuteTime": {
     "end_time": "2023-07-21T14:03:26.391911Z",
     "start_time": "2023-07-21T14:03:25.250866Z"
    }
   },
   "outputs": [
    {
     "ename": "IndexError",
     "evalue": "",
     "output_type": "error",
     "traceback": [
      "\u001B[0;31m---------------------------------------------------------------------------\u001B[0m",
      "\u001B[0;31mIndexError\u001B[0m                                Traceback (most recent call last)",
      "Cell \u001B[0;32mIn [20], line 1\u001B[0m\n\u001B[0;32m----> 1\u001B[0m \u001B[43mf\u001B[49m\u001B[43m[\u001B[49m\u001B[38;5;241;43m10\u001B[39;49m\u001B[43m]\u001B[49m\n",
      "Cell \u001B[0;32mIn [17], line 11\u001B[0m, in \u001B[0;36mFib.__getitem__\u001B[0;34m(self, s)\u001B[0m\n\u001B[1;32m      9\u001B[0m         s \u001B[38;5;241m=\u001B[39m \u001B[38;5;28mself\u001B[39m\u001B[38;5;241m.\u001B[39m_n \u001B[38;5;241m+\u001B[39m s\n\u001B[1;32m     10\u001B[0m     \u001B[38;5;28;01mif\u001B[39;00m s \u001B[38;5;241m<\u001B[39m \u001B[38;5;241m0\u001B[39m \u001B[38;5;129;01mor\u001B[39;00m s \u001B[38;5;241m>\u001B[39m \u001B[38;5;28mself\u001B[39m\u001B[38;5;241m.\u001B[39m_n \u001B[38;5;241m-\u001B[39m \u001B[38;5;241m1\u001B[39m:\n\u001B[0;32m---> 11\u001B[0m         \u001B[38;5;28;01mraise\u001B[39;00m \u001B[38;5;167;01mIndexError\u001B[39;00m\n\u001B[1;32m     12\u001B[0m     \u001B[38;5;28;01mreturn\u001B[39;00m \u001B[38;5;28mself\u001B[39m\u001B[38;5;241m.\u001B[39m_fib(s)\n\u001B[1;32m     13\u001B[0m \u001B[38;5;28;01melse\u001B[39;00m:\n\u001B[1;32m     14\u001B[0m     \u001B[38;5;66;03m# slice being requested\u001B[39;00m\n",
      "\u001B[0;31mIndexError\u001B[0m: "
     ]
    }
   ],
   "source": [
    "f[10]"
   ]
  },
  {
   "cell_type": "code",
   "execution_count": 21,
   "metadata": {
    "ExecuteTime": {
     "end_time": "2023-07-21T14:03:30.211895Z",
     "start_time": "2023-07-21T14:03:30.068221Z"
    }
   },
   "outputs": [
    {
     "ename": "IndexError",
     "evalue": "",
     "output_type": "error",
     "traceback": [
      "\u001B[0;31m---------------------------------------------------------------------------\u001B[0m",
      "\u001B[0;31mIndexError\u001B[0m                                Traceback (most recent call last)",
      "Cell \u001B[0;32mIn [21], line 1\u001B[0m\n\u001B[0;32m----> 1\u001B[0m \u001B[43mf\u001B[49m\u001B[43m[\u001B[49m\u001B[38;5;241;43m-\u001B[39;49m\u001B[38;5;241;43m100\u001B[39;49m\u001B[43m]\u001B[49m\n",
      "Cell \u001B[0;32mIn [17], line 11\u001B[0m, in \u001B[0;36mFib.__getitem__\u001B[0;34m(self, s)\u001B[0m\n\u001B[1;32m      9\u001B[0m         s \u001B[38;5;241m=\u001B[39m \u001B[38;5;28mself\u001B[39m\u001B[38;5;241m.\u001B[39m_n \u001B[38;5;241m+\u001B[39m s\n\u001B[1;32m     10\u001B[0m     \u001B[38;5;28;01mif\u001B[39;00m s \u001B[38;5;241m<\u001B[39m \u001B[38;5;241m0\u001B[39m \u001B[38;5;129;01mor\u001B[39;00m s \u001B[38;5;241m>\u001B[39m \u001B[38;5;28mself\u001B[39m\u001B[38;5;241m.\u001B[39m_n \u001B[38;5;241m-\u001B[39m \u001B[38;5;241m1\u001B[39m:\n\u001B[0;32m---> 11\u001B[0m         \u001B[38;5;28;01mraise\u001B[39;00m \u001B[38;5;167;01mIndexError\u001B[39;00m\n\u001B[1;32m     12\u001B[0m     \u001B[38;5;28;01mreturn\u001B[39;00m \u001B[38;5;28mself\u001B[39m\u001B[38;5;241m.\u001B[39m_fib(s)\n\u001B[1;32m     13\u001B[0m \u001B[38;5;28;01melse\u001B[39;00m:\n\u001B[1;32m     14\u001B[0m     \u001B[38;5;66;03m# slice being requested\u001B[39;00m\n",
      "\u001B[0;31mIndexError\u001B[0m: "
     ]
    }
   ],
   "source": [
    "f[-100]"
   ]
  },
  {
   "cell_type": "code",
   "execution_count": 22,
   "metadata": {
    "ExecuteTime": {
     "end_time": "2023-07-21T14:03:33.507784Z",
     "start_time": "2023-07-21T14:03:33.360556Z"
    }
   },
   "outputs": [
    {
     "name": "stdout",
     "output_type": "stream",
     "text": [
      "1\n",
      "1\n",
      "2\n",
      "3\n",
      "5\n",
      "8\n",
      "13\n",
      "21\n",
      "34\n",
      "55\n"
     ]
    }
   ],
   "source": [
    "for item in f:\n",
    "    print(item)"
   ]
  },
  {
   "cell_type": "markdown",
   "metadata": {},
   "source": [
    "We still don't support slicing though..."
   ]
  },
  {
   "cell_type": "code",
   "execution_count": 23,
   "metadata": {
    "ExecuteTime": {
     "end_time": "2023-07-21T14:03:37.924092Z",
     "start_time": "2023-07-21T14:03:37.400793Z"
    }
   },
   "outputs": [
    {
     "name": "stdout",
     "output_type": "stream",
     "text": [
      "requesting [0:2:None]\n",
      "\trange(0, 2, 1) --> [0, 1]\n"
     ]
    }
   ],
   "source": [
    "f[0:2]"
   ]
  },
  {
   "cell_type": "markdown",
   "metadata": {},
   "source": [
    "So let's implement slicing as well:"
   ]
  },
  {
   "cell_type": "code",
   "execution_count": 24,
   "metadata": {
    "collapsed": true,
    "ExecuteTime": {
     "end_time": "2023-07-21T14:03:42.303794Z",
     "start_time": "2023-07-21T14:03:42.208190Z"
    }
   },
   "outputs": [],
   "source": [
    "class Fib:\n",
    "    def __init__(self, n):\n",
    "        self._n = n\n",
    "    \n",
    "    def __getitem__(self, s):\n",
    "        if isinstance(s, int):\n",
    "            # single item requested\n",
    "            if s < 0:\n",
    "                s = self._n + s\n",
    "            if s < 0 or s > self._n - 1:\n",
    "                raise IndexError\n",
    "            return self._fib(s)\n",
    "        else:\n",
    "            # slice being requested\n",
    "            idx = s.indices(self._n)\n",
    "            rng = range(idx[0], idx[1], idx[2])\n",
    "            return [self._fib(n) for n in rng]\n",
    "            \n",
    "    @staticmethod\n",
    "    @lru_cache(2**32)\n",
    "    def _fib(n):\n",
    "        if n < 2:\n",
    "            return 1\n",
    "        else:\n",
    "            return fib(n-1) + fib(n-2)"
   ]
  },
  {
   "cell_type": "code",
   "execution_count": 25,
   "metadata": {
    "collapsed": true,
    "ExecuteTime": {
     "end_time": "2023-07-21T14:03:58.006379Z",
     "start_time": "2023-07-21T14:03:57.974840Z"
    }
   },
   "outputs": [],
   "source": [
    "f = Fib(10)"
   ]
  },
  {
   "cell_type": "code",
   "execution_count": 26,
   "metadata": {
    "ExecuteTime": {
     "end_time": "2023-07-21T14:03:58.415665Z",
     "start_time": "2023-07-21T14:03:58.365315Z"
    }
   },
   "outputs": [
    {
     "data": {
      "text/plain": "[1, 1, 2, 3, 5]"
     },
     "execution_count": 26,
     "metadata": {},
     "output_type": "execute_result"
    }
   ],
   "source": [
    "f[0:5]"
   ]
  },
  {
   "cell_type": "code",
   "execution_count": 27,
   "metadata": {
    "ExecuteTime": {
     "end_time": "2023-07-21T14:03:59.187570Z",
     "start_time": "2023-07-21T14:03:59.134156Z"
    }
   },
   "outputs": [
    {
     "data": {
      "text/plain": "[8, 5, 3, 2, 1, 1]"
     },
     "execution_count": 27,
     "metadata": {},
     "output_type": "execute_result"
    }
   ],
   "source": [
    "f[5::-1]"
   ]
  },
  {
   "cell_type": "code",
   "execution_count": 28,
   "metadata": {
    "ExecuteTime": {
     "end_time": "2023-07-21T14:04:01.194593Z",
     "start_time": "2023-07-21T14:04:01.139062Z"
    }
   },
   "outputs": [
    {
     "data": {
      "text/plain": "[1, 1, 2, 3, 5, 8, 13, 21, 34, 55]"
     },
     "execution_count": 28,
     "metadata": {},
     "output_type": "execute_result"
    }
   ],
   "source": [
    "list(f)"
   ]
  },
  {
   "cell_type": "code",
   "execution_count": 29,
   "metadata": {
    "ExecuteTime": {
     "end_time": "2023-07-21T14:04:02.051306Z",
     "start_time": "2023-07-21T14:04:01.939668Z"
    }
   },
   "outputs": [
    {
     "data": {
      "text/plain": "[55, 34, 21, 13, 8, 5, 3, 2, 1, 1]"
     },
     "execution_count": 29,
     "metadata": {},
     "output_type": "execute_result"
    }
   ],
   "source": [
    "f[::-1]"
   ]
  },
  {
   "cell_type": "markdown",
   "metadata": {},
   "source": [
    "One other thing, is that the built-in `len` function will not work with our class:"
   ]
  },
  {
   "cell_type": "code",
   "execution_count": 30,
   "metadata": {
    "collapsed": true,
    "ExecuteTime": {
     "end_time": "2023-07-21T14:04:07.340626Z",
     "start_time": "2023-07-21T14:04:07.293341Z"
    }
   },
   "outputs": [],
   "source": [
    "f = Fib(10)"
   ]
  },
  {
   "cell_type": "code",
   "execution_count": 31,
   "metadata": {
    "ExecuteTime": {
     "end_time": "2023-07-21T14:04:08.150124Z",
     "start_time": "2023-07-21T14:04:08.045055Z"
    }
   },
   "outputs": [
    {
     "ename": "TypeError",
     "evalue": "object of type 'Fib' has no len()",
     "output_type": "error",
     "traceback": [
      "\u001B[0;31m---------------------------------------------------------------------------\u001B[0m",
      "\u001B[0;31mTypeError\u001B[0m                                 Traceback (most recent call last)",
      "Cell \u001B[0;32mIn [31], line 1\u001B[0m\n\u001B[0;32m----> 1\u001B[0m \u001B[38;5;28;43mlen\u001B[39;49m\u001B[43m(\u001B[49m\u001B[43mf\u001B[49m\u001B[43m)\u001B[49m\n",
      "\u001B[0;31mTypeError\u001B[0m: object of type 'Fib' has no len()"
     ]
    }
   ],
   "source": [
    "len(f)"
   ]
  },
  {
   "cell_type": "markdown",
   "metadata": {},
   "source": [
    "That's an easy fix, we just need to implement the `__len__` method:"
   ]
  },
  {
   "cell_type": "code",
   "execution_count": 32,
   "metadata": {
    "collapsed": true,
    "ExecuteTime": {
     "end_time": "2023-07-21T14:04:11.852840Z",
     "start_time": "2023-07-21T14:04:11.776577Z"
    }
   },
   "outputs": [],
   "source": [
    "class Fib:\n",
    "    def __init__(self, n):\n",
    "        self._n = n\n",
    "    \n",
    "    def __len__(self):\n",
    "        return self._n\n",
    "    \n",
    "    def __getitem__(self, s):\n",
    "        if isinstance(s, int):\n",
    "            # single item requested\n",
    "            if s < 0:\n",
    "                s = self._n + s\n",
    "            if s < 0 or s > self._n - 1:\n",
    "                raise IndexError\n",
    "            return self._fib(s)\n",
    "        else:\n",
    "            # slice being requested\n",
    "            idx = s.indices(self._n)\n",
    "            rng = range(idx[0], idx[1], idx[2])\n",
    "            return [self._fib(n) for n in rng]\n",
    "            \n",
    "    @staticmethod\n",
    "    @lru_cache(2**32)\n",
    "    def _fib(n):\n",
    "        if n < 2:\n",
    "            return 1\n",
    "        else:\n",
    "            return fib(n-1) + fib(n-2)"
   ]
  },
  {
   "cell_type": "code",
   "execution_count": 33,
   "metadata": {
    "collapsed": true,
    "ExecuteTime": {
     "end_time": "2023-07-21T14:04:12.945159Z",
     "start_time": "2023-07-21T14:04:12.912143Z"
    }
   },
   "outputs": [],
   "source": [
    "f = Fib(10)"
   ]
  },
  {
   "cell_type": "code",
   "execution_count": 34,
   "metadata": {
    "ExecuteTime": {
     "end_time": "2023-07-21T14:04:13.383513Z",
     "start_time": "2023-07-21T14:04:13.294515Z"
    }
   },
   "outputs": [
    {
     "data": {
      "text/plain": "10"
     },
     "execution_count": 34,
     "metadata": {},
     "output_type": "execute_result"
    }
   ],
   "source": [
    "len(f)"
   ]
  },
  {
   "cell_type": "markdown",
   "metadata": {},
   "source": [
    "One thing I want to point out here: we did not need to use inheritance! There was no need to inherit from another sequence type. All we really needed was to implement the `__getitem__` and `__len__` methods."
   ]
  },
  {
   "cell_type": "markdown",
   "metadata": {},
   "source": [
    "The other thing I want to mention, is that I would not use recursion for production purposes for a Fibonacci sequence, even with memoization - partly because of the cost of recursion and the limit to the recursion depth that is possible.\n",
    "\n",
    "Also, when we look at generators, and more particularly generator expressions, we'll see better ways of doing this as well.\n",
    "\n",
    "I really wanted to show you a simple example of how to create your own sequence types."
   ]
  },
  {
   "cell_type": "markdown",
   "source": [
    "### comment:\n",
    "difficult subject... didn't fully understand the class definition\n",
    "*should got through that again*"
   ],
   "metadata": {
    "collapsed": false
   }
  },
  {
   "cell_type": "code",
   "execution_count": null,
   "outputs": [],
   "source": [],
   "metadata": {
    "collapsed": false
   }
  }
 ],
 "metadata": {
  "kernelspec": {
   "display_name": "Python 3",
   "language": "python",
   "name": "python3"
  },
  "language_info": {
   "codemirror_mode": {
    "name": "ipython",
    "version": 3
   },
   "file_extension": ".py",
   "mimetype": "text/x-python",
   "name": "python",
   "nbconvert_exporter": "python",
   "pygments_lexer": "ipython3",
   "version": "3.6.2"
  }
 },
 "nbformat": 4,
 "nbformat_minor": 2
}
