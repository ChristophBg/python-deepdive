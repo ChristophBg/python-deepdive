{
 "cells": [
  {
   "cell_type": "markdown",
   "metadata": {},
   "source": [
    "### Custom Sequences (Part 2b/c)"
   ]
  },
  {
   "cell_type": "markdown",
   "metadata": {},
   "source": [
    "For this example we'll re-use the Polygon class from a previous lecture on extending sequences.\n",
    "\n",
    "We are going to consider a polygon as nothing more than a collection of points (and we'll stick to a 2-dimensional space).\n",
    "\n",
    "So, we'll need a `Point` class, but we're going to use our own custom class instead of just using a named tuple.\n",
    "\n",
    "We do this because we want to enforce a rule that our Point co-ordinates will be real numbers. We would not be able to use a named tuple to do that and we could end up with points whose `x` and `y` coordinates could be of any type."
   ]
  },
  {
   "cell_type": "markdown",
   "metadata": {},
   "source": [
    "First we'll need to see how we can test if a type is a numeric real type.\n",
    "\n",
    "We can do this by using the numbers module."
   ]
  },
  {
   "cell_type": "code",
   "execution_count": 1,
   "metadata": {
    "collapsed": true,
    "ExecuteTime": {
     "end_time": "2023-07-26T14:58:14.091145Z",
     "start_time": "2023-07-26T14:58:10.285434Z"
    }
   },
   "outputs": [],
   "source": [
    "import numbers"
   ]
  },
  {
   "cell_type": "markdown",
   "metadata": {},
   "source": [
    "This module contains certain base types for numbers that we can use, such as Number, Real, Complex, etc."
   ]
  },
  {
   "cell_type": "code",
   "execution_count": 2,
   "metadata": {
    "ExecuteTime": {
     "end_time": "2023-07-26T14:58:15.504724Z",
     "start_time": "2023-07-26T14:58:10.322054Z"
    }
   },
   "outputs": [
    {
     "data": {
      "text/plain": "True"
     },
     "execution_count": 2,
     "metadata": {},
     "output_type": "execute_result"
    }
   ],
   "source": [
    "isinstance(10, numbers.Number)"
   ]
  },
  {
   "cell_type": "code",
   "execution_count": 3,
   "metadata": {
    "ExecuteTime": {
     "end_time": "2023-07-26T14:58:15.565109Z",
     "start_time": "2023-07-26T14:58:10.487251Z"
    }
   },
   "outputs": [
    {
     "data": {
      "text/plain": "True"
     },
     "execution_count": 3,
     "metadata": {},
     "output_type": "execute_result"
    }
   ],
   "source": [
    "isinstance(10.5, numbers.Number)"
   ]
  },
  {
   "cell_type": "code",
   "execution_count": 4,
   "metadata": {
    "ExecuteTime": {
     "end_time": "2023-07-26T14:58:15.745908Z",
     "start_time": "2023-07-26T14:58:10.576075Z"
    }
   },
   "outputs": [
    {
     "data": {
      "text/plain": "True"
     },
     "execution_count": 4,
     "metadata": {},
     "output_type": "execute_result"
    }
   ],
   "source": [
    "isinstance(1+1j, numbers.Number)"
   ]
  },
  {
   "cell_type": "markdown",
   "metadata": {},
   "source": [
    "We will want our points to be real numbers only, so we can do it this way:"
   ]
  },
  {
   "cell_type": "code",
   "execution_count": 5,
   "metadata": {
    "ExecuteTime": {
     "end_time": "2023-07-26T14:58:16.204628Z",
     "start_time": "2023-07-26T14:58:10.594412Z"
    }
   },
   "outputs": [
    {
     "data": {
      "text/plain": "False"
     },
     "execution_count": 5,
     "metadata": {},
     "output_type": "execute_result"
    }
   ],
   "source": [
    "isinstance(1+1j, numbers.Real)"
   ]
  },
  {
   "cell_type": "code",
   "execution_count": 6,
   "metadata": {
    "ExecuteTime": {
     "end_time": "2023-07-26T14:58:16.441861Z",
     "start_time": "2023-07-26T14:58:10.612298Z"
    }
   },
   "outputs": [
    {
     "data": {
      "text/plain": "True"
     },
     "execution_count": 6,
     "metadata": {},
     "output_type": "execute_result"
    }
   ],
   "source": [
    "isinstance(10, numbers.Real)"
   ]
  },
  {
   "cell_type": "code",
   "execution_count": 7,
   "metadata": {
    "ExecuteTime": {
     "end_time": "2023-07-26T14:58:16.604838Z",
     "start_time": "2023-07-26T14:58:10.629517Z"
    }
   },
   "outputs": [
    {
     "data": {
      "text/plain": "True"
     },
     "execution_count": 7,
     "metadata": {},
     "output_type": "execute_result"
    }
   ],
   "source": [
    "isinstance(10.5, numbers.Real)"
   ]
  },
  {
   "cell_type": "markdown",
   "metadata": {},
   "source": [
    "So now let's write our Point class. We want it to have these properties:\n",
    "\n",
    "  1. The `x` and `y` coordinates should be real numbers only\n",
    "  2. Point instances should be a sequence type so that we can unpack it as needed in the same way we were able to unpack the values of a named tuple."
   ]
  },
  {
   "cell_type": "markdown",
   "source": [
    "*(trying out different implementation)*"
   ],
   "metadata": {
    "collapsed": false
   }
  },
  {
   "cell_type": "code",
   "execution_count": 8,
   "outputs": [
    {
     "data": {
      "text/plain": "Point(x=1,y=2)"
     },
     "execution_count": 8,
     "metadata": {},
     "output_type": "execute_result"
    }
   ],
   "source": [
    "import numbers\n",
    "\n",
    "class Point:\n",
    "    def __init__(self, x,y):\n",
    "        if isinstance(x,numbers.Real) and isinstance(y, numbers.Real):\n",
    "            #print(\"correct datatype for initialisation\")\n",
    "\n",
    "            #storing coordinates in single variables instead\n",
    "            self.x=x\n",
    "            self.y=y\n",
    "        else:\n",
    "            raise TypeError(\"Point coordinates must be real numbers\")\n",
    "\n",
    "    #for representation of class\n",
    "    def __repr__(self):\n",
    "        return f'Point(x={self.x},y={self.y})'\n",
    "Point(1,2)"
   ],
   "metadata": {
    "collapsed": false,
    "ExecuteTime": {
     "end_time": "2023-07-26T14:58:16.605671Z",
     "start_time": "2023-07-26T14:58:10.645049Z"
    }
   }
  },
  {
   "cell_type": "code",
   "execution_count": 9,
   "metadata": {
    "collapsed": true,
    "ExecuteTime": {
     "end_time": "2023-07-26T14:58:16.606461Z",
     "start_time": "2023-07-26T14:58:10.663117Z"
    }
   },
   "outputs": [],
   "source": [
    "class Point:\n",
    "    def __init__(self, x, y):\n",
    "        if isinstance(x, numbers.Real) and isinstance(y, numbers.Real):\n",
    "            self._pt = (x, y)\n",
    "        else:\n",
    "            raise TypeError('Point co-ordinates must be real numbers.')\n",
    "            \n",
    "    def __repr__(self):\n",
    "        return f'Point(x={self._pt[0]}, y={self._pt[1]})'\n",
    "    \n",
    "    def __len__(self):\n",
    "        return 2\n",
    "    \n",
    "    def __getitem__(self, s):\n",
    "        return self._pt[s]"
   ]
  },
  {
   "cell_type": "markdown",
   "metadata": {},
   "source": [
    "Let's use our point class and make sure it works as intended:"
   ]
  },
  {
   "cell_type": "code",
   "execution_count": 44,
   "metadata": {
    "collapsed": true,
    "ExecuteTime": {
     "end_time": "2023-07-26T14:58:34.474232Z",
     "start_time": "2023-07-26T14:58:34.346557Z"
    }
   },
   "outputs": [],
   "source": [
    "p = Point(1, 2)"
   ]
  },
  {
   "cell_type": "code",
   "execution_count": 45,
   "metadata": {
    "ExecuteTime": {
     "end_time": "2023-07-26T14:58:35.932277Z",
     "start_time": "2023-07-26T14:58:35.624038Z"
    }
   },
   "outputs": [
    {
     "data": {
      "text/plain": "Point(x=1, y=2)"
     },
     "execution_count": 45,
     "metadata": {},
     "output_type": "execute_result"
    }
   ],
   "source": [
    "p"
   ]
  },
  {
   "cell_type": "code",
   "execution_count": 46,
   "metadata": {
    "ExecuteTime": {
     "end_time": "2023-07-26T14:58:38.442429Z",
     "start_time": "2023-07-26T14:58:38.377394Z"
    }
   },
   "outputs": [
    {
     "data": {
      "text/plain": "2"
     },
     "execution_count": 46,
     "metadata": {},
     "output_type": "execute_result"
    }
   ],
   "source": [
    "len(p)"
   ]
  },
  {
   "cell_type": "code",
   "execution_count": 13,
   "metadata": {
    "ExecuteTime": {
     "end_time": "2023-07-26T14:58:16.628642Z",
     "start_time": "2023-07-26T14:58:10.730888Z"
    }
   },
   "outputs": [
    {
     "data": {
      "text/plain": "(1, 2)"
     },
     "execution_count": 13,
     "metadata": {},
     "output_type": "execute_result"
    }
   ],
   "source": [
    "p[0], p[1]"
   ]
  },
  {
   "cell_type": "code",
   "execution_count": 47,
   "metadata": {
    "collapsed": true,
    "ExecuteTime": {
     "end_time": "2023-07-26T14:59:08.371856Z",
     "start_time": "2023-07-26T14:59:08.325006Z"
    }
   },
   "outputs": [],
   "source": [
    "x, y = p"
   ]
  },
  {
   "cell_type": "code",
   "execution_count": 49,
   "metadata": {
    "ExecuteTime": {
     "end_time": "2023-07-26T14:59:17.839914Z",
     "start_time": "2023-07-26T14:59:17.742584Z"
    }
   },
   "outputs": [
    {
     "data": {
      "text/plain": "(1, 2)"
     },
     "execution_count": 49,
     "metadata": {},
     "output_type": "execute_result"
    }
   ],
   "source": [
    "x,y"
   ]
  },
  {
   "cell_type": "markdown",
   "metadata": {},
   "source": [
    "Now, we can start creatiung our Polygon class, that will essentially be a mutable sequence of points making up the verteces of the polygon."
   ]
  },
  {
   "cell_type": "code",
   "execution_count": 50,
   "metadata": {
    "collapsed": true,
    "ExecuteTime": {
     "end_time": "2023-07-26T15:00:32.928064Z",
     "start_time": "2023-07-26T15:00:32.760125Z"
    }
   },
   "outputs": [],
   "source": [
    "class Polygon:\n",
    "    def __init__(self, *pts):\n",
    "        if pts:\n",
    "            self._pts = [Point(*pt) for pt in pts] #creat a point out of anything in that list\n",
    "            # works if someone passes in point object but also for tupples\n",
    "        else:\n",
    "            self._pts = []\n",
    "            \n",
    "    def __repr__(self):\n",
    "        return f'Polygon({self._pts})'"
   ]
  },
  {
   "cell_type": "markdown",
   "metadata": {},
   "source": [
    "Let's try it and see if everything is as we expect:"
   ]
  },
  {
   "cell_type": "code",
   "execution_count": 52,
   "metadata": {
    "collapsed": true,
    "ExecuteTime": {
     "end_time": "2023-07-26T15:02:00.789993Z",
     "start_time": "2023-07-26T15:02:00.740490Z"
    }
   },
   "outputs": [],
   "source": [
    "p = Polygon()"
   ]
  },
  {
   "cell_type": "code",
   "execution_count": 53,
   "metadata": {
    "ExecuteTime": {
     "end_time": "2023-07-26T15:02:01.573869Z",
     "start_time": "2023-07-26T15:02:01.517388Z"
    }
   },
   "outputs": [
    {
     "data": {
      "text/plain": "Polygon([])"
     },
     "execution_count": 53,
     "metadata": {},
     "output_type": "execute_result"
    }
   ],
   "source": [
    "p"
   ]
  },
  {
   "cell_type": "code",
   "execution_count": 19,
   "metadata": {
    "ExecuteTime": {
     "end_time": "2023-07-26T14:58:16.669293Z",
     "start_time": "2023-07-26T14:58:10.830739Z"
    }
   },
   "outputs": [],
   "source": [
    "p = Polygon((0,0), [1,1])"
   ]
  },
  {
   "cell_type": "code",
   "execution_count": 20,
   "metadata": {
    "ExecuteTime": {
     "end_time": "2023-07-26T14:58:16.670145Z",
     "start_time": "2023-07-26T14:58:10.843896Z"
    }
   },
   "outputs": [
    {
     "data": {
      "text/plain": "Polygon([Point(x=0, y=0), Point(x=1, y=1)])"
     },
     "execution_count": 20,
     "metadata": {},
     "output_type": "execute_result"
    }
   ],
   "source": [
    "p"
   ]
  },
  {
   "cell_type": "code",
   "execution_count": 54,
   "metadata": {
    "collapsed": true,
    "ExecuteTime": {
     "end_time": "2023-07-26T15:02:24.530598Z",
     "start_time": "2023-07-26T15:02:24.485586Z"
    }
   },
   "outputs": [],
   "source": [
    "p = Polygon(Point(0, 0), [1, 1])"
   ]
  },
  {
   "cell_type": "code",
   "execution_count": 55,
   "metadata": {
    "ExecuteTime": {
     "end_time": "2023-07-26T15:02:28.000608Z",
     "start_time": "2023-07-26T15:02:27.822729Z"
    }
   },
   "outputs": [
    {
     "data": {
      "text/plain": "Polygon([Point(x=0, y=0), Point(x=1, y=1)])"
     },
     "execution_count": 55,
     "metadata": {},
     "output_type": "execute_result"
    }
   ],
   "source": [
    "p"
   ]
  },
  {
   "cell_type": "markdown",
   "metadata": {},
   "source": [
    "That seems to be working, but only one minor thing - our representation contains those square brackets which technically should not be there as the Polygon class init assumes multiple arguments, not a single iterable.\n",
    "\n",
    "So we should fix that:"
   ]
  },
  {
   "cell_type": "code",
   "execution_count": 56,
   "metadata": {
    "collapsed": true,
    "ExecuteTime": {
     "end_time": "2023-07-26T15:03:25.245403Z",
     "start_time": "2023-07-26T15:03:25.114069Z"
    }
   },
   "outputs": [],
   "source": [
    "class Polygon:\n",
    "    def __init__(self, *pts):\n",
    "        if pts:\n",
    "            self._pts = [Point(*pt) for pt in pts]\n",
    "        else:\n",
    "            self._pts = []\n",
    "            \n",
    "    def __repr__(self):\n",
    "        pts_str = ', '.join(self._pts)\n",
    "        return f'Polygon({pts_str})'"
   ]
  },
  {
   "cell_type": "markdown",
   "metadata": {},
   "source": [
    "But that still won't work, because the `join` method expects an iterable of **strings** - here we are passing it an iterable of `Point` objects:"
   ]
  },
  {
   "cell_type": "code",
   "execution_count": 57,
   "metadata": {
    "collapsed": true,
    "ExecuteTime": {
     "end_time": "2023-07-26T15:03:33.578258Z",
     "start_time": "2023-07-26T15:03:33.534595Z"
    }
   },
   "outputs": [],
   "source": [
    "p = Polygon((0,0), (1,1))"
   ]
  },
  {
   "cell_type": "code",
   "execution_count": 58,
   "metadata": {
    "ExecuteTime": {
     "end_time": "2023-07-26T15:03:34.785167Z",
     "start_time": "2023-07-26T15:03:34.602233Z"
    }
   },
   "outputs": [
    {
     "ename": "TypeError",
     "evalue": "sequence item 0: expected str instance, Point found",
     "output_type": "error",
     "traceback": [
      "\u001B[0;31m---------------------------------------------------------------------------\u001B[0m",
      "\u001B[0;31mTypeError\u001B[0m                                 Traceback (most recent call last)",
      "File \u001B[0;32m/Applications/miniconda3/envs/science/lib/python3.9/site-packages/IPython/core/formatters.py:706\u001B[0m, in \u001B[0;36mPlainTextFormatter.__call__\u001B[0;34m(self, obj)\u001B[0m\n\u001B[1;32m    699\u001B[0m stream \u001B[38;5;241m=\u001B[39m StringIO()\n\u001B[1;32m    700\u001B[0m printer \u001B[38;5;241m=\u001B[39m pretty\u001B[38;5;241m.\u001B[39mRepresentationPrinter(stream, \u001B[38;5;28mself\u001B[39m\u001B[38;5;241m.\u001B[39mverbose,\n\u001B[1;32m    701\u001B[0m     \u001B[38;5;28mself\u001B[39m\u001B[38;5;241m.\u001B[39mmax_width, \u001B[38;5;28mself\u001B[39m\u001B[38;5;241m.\u001B[39mnewline,\n\u001B[1;32m    702\u001B[0m     max_seq_length\u001B[38;5;241m=\u001B[39m\u001B[38;5;28mself\u001B[39m\u001B[38;5;241m.\u001B[39mmax_seq_length,\n\u001B[1;32m    703\u001B[0m     singleton_pprinters\u001B[38;5;241m=\u001B[39m\u001B[38;5;28mself\u001B[39m\u001B[38;5;241m.\u001B[39msingleton_printers,\n\u001B[1;32m    704\u001B[0m     type_pprinters\u001B[38;5;241m=\u001B[39m\u001B[38;5;28mself\u001B[39m\u001B[38;5;241m.\u001B[39mtype_printers,\n\u001B[1;32m    705\u001B[0m     deferred_pprinters\u001B[38;5;241m=\u001B[39m\u001B[38;5;28mself\u001B[39m\u001B[38;5;241m.\u001B[39mdeferred_printers)\n\u001B[0;32m--> 706\u001B[0m \u001B[43mprinter\u001B[49m\u001B[38;5;241;43m.\u001B[39;49m\u001B[43mpretty\u001B[49m\u001B[43m(\u001B[49m\u001B[43mobj\u001B[49m\u001B[43m)\u001B[49m\n\u001B[1;32m    707\u001B[0m printer\u001B[38;5;241m.\u001B[39mflush()\n\u001B[1;32m    708\u001B[0m \u001B[38;5;28;01mreturn\u001B[39;00m stream\u001B[38;5;241m.\u001B[39mgetvalue()\n",
      "File \u001B[0;32m/Applications/miniconda3/envs/science/lib/python3.9/site-packages/IPython/lib/pretty.py:410\u001B[0m, in \u001B[0;36mRepresentationPrinter.pretty\u001B[0;34m(self, obj)\u001B[0m\n\u001B[1;32m    407\u001B[0m                         \u001B[38;5;28;01mreturn\u001B[39;00m meth(obj, \u001B[38;5;28mself\u001B[39m, cycle)\n\u001B[1;32m    408\u001B[0m                 \u001B[38;5;28;01mif\u001B[39;00m \u001B[38;5;28mcls\u001B[39m \u001B[38;5;129;01mis\u001B[39;00m \u001B[38;5;129;01mnot\u001B[39;00m \u001B[38;5;28mobject\u001B[39m \\\n\u001B[1;32m    409\u001B[0m                         \u001B[38;5;129;01mand\u001B[39;00m callable(\u001B[38;5;28mcls\u001B[39m\u001B[38;5;241m.\u001B[39m\u001B[38;5;18m__dict__\u001B[39m\u001B[38;5;241m.\u001B[39mget(\u001B[38;5;124m'\u001B[39m\u001B[38;5;124m__repr__\u001B[39m\u001B[38;5;124m'\u001B[39m)):\n\u001B[0;32m--> 410\u001B[0m                     \u001B[38;5;28;01mreturn\u001B[39;00m \u001B[43m_repr_pprint\u001B[49m\u001B[43m(\u001B[49m\u001B[43mobj\u001B[49m\u001B[43m,\u001B[49m\u001B[43m \u001B[49m\u001B[38;5;28;43mself\u001B[39;49m\u001B[43m,\u001B[49m\u001B[43m \u001B[49m\u001B[43mcycle\u001B[49m\u001B[43m)\u001B[49m\n\u001B[1;32m    412\u001B[0m     \u001B[38;5;28;01mreturn\u001B[39;00m _default_pprint(obj, \u001B[38;5;28mself\u001B[39m, cycle)\n\u001B[1;32m    413\u001B[0m \u001B[38;5;28;01mfinally\u001B[39;00m:\n",
      "File \u001B[0;32m/Applications/miniconda3/envs/science/lib/python3.9/site-packages/IPython/lib/pretty.py:778\u001B[0m, in \u001B[0;36m_repr_pprint\u001B[0;34m(obj, p, cycle)\u001B[0m\n\u001B[1;32m    776\u001B[0m \u001B[38;5;124;03m\"\"\"A pprint that just redirects to the normal repr function.\"\"\"\u001B[39;00m\n\u001B[1;32m    777\u001B[0m \u001B[38;5;66;03m# Find newlines and replace them with p.break_()\u001B[39;00m\n\u001B[0;32m--> 778\u001B[0m output \u001B[38;5;241m=\u001B[39m \u001B[38;5;28;43mrepr\u001B[39;49m\u001B[43m(\u001B[49m\u001B[43mobj\u001B[49m\u001B[43m)\u001B[49m\n\u001B[1;32m    779\u001B[0m lines \u001B[38;5;241m=\u001B[39m output\u001B[38;5;241m.\u001B[39msplitlines()\n\u001B[1;32m    780\u001B[0m \u001B[38;5;28;01mwith\u001B[39;00m p\u001B[38;5;241m.\u001B[39mgroup():\n",
      "Cell \u001B[0;32mIn [56], line 9\u001B[0m, in \u001B[0;36mPolygon.__repr__\u001B[0;34m(self)\u001B[0m\n\u001B[1;32m      8\u001B[0m \u001B[38;5;28;01mdef\u001B[39;00m \u001B[38;5;21m__repr__\u001B[39m(\u001B[38;5;28mself\u001B[39m):\n\u001B[0;32m----> 9\u001B[0m     pts_str \u001B[38;5;241m=\u001B[39m \u001B[38;5;124;43m'\u001B[39;49m\u001B[38;5;124;43m, \u001B[39;49m\u001B[38;5;124;43m'\u001B[39;49m\u001B[38;5;241;43m.\u001B[39;49m\u001B[43mjoin\u001B[49m\u001B[43m(\u001B[49m\u001B[38;5;28;43mself\u001B[39;49m\u001B[38;5;241;43m.\u001B[39;49m\u001B[43m_pts\u001B[49m\u001B[43m)\u001B[49m\n\u001B[1;32m     10\u001B[0m     \u001B[38;5;28;01mreturn\u001B[39;00m \u001B[38;5;124mf\u001B[39m\u001B[38;5;124m'\u001B[39m\u001B[38;5;124mPolygon(\u001B[39m\u001B[38;5;132;01m{\u001B[39;00mpts_str\u001B[38;5;132;01m}\u001B[39;00m\u001B[38;5;124m)\u001B[39m\u001B[38;5;124m'\u001B[39m\n",
      "\u001B[0;31mTypeError\u001B[0m: sequence item 0: expected str instance, Point found"
     ]
    }
   ],
   "source": [
    "p"
   ]
  },
  {
   "cell_type": "markdown",
   "metadata": {},
   "source": [
    "So, let's fix that:"
   ]
  },
  {
   "cell_type": "code",
   "execution_count": 59,
   "metadata": {
    "collapsed": true,
    "ExecuteTime": {
     "end_time": "2023-07-26T15:03:43.718331Z",
     "start_time": "2023-07-26T15:03:43.610766Z"
    }
   },
   "outputs": [],
   "source": [
    "class Polygon:\n",
    "    def __init__(self, *pts):\n",
    "        if pts:\n",
    "            self._pts = [Point(*pt) for pt in pts]\n",
    "        else:\n",
    "            self._pts = []\n",
    "            \n",
    "    def __repr__(self):\n",
    "        pts_str = ', '.join([str(pt) for pt in self._pts])\n",
    "        return f'Polygon({pts_str})'"
   ]
  },
  {
   "cell_type": "code",
   "execution_count": 60,
   "metadata": {
    "collapsed": true,
    "ExecuteTime": {
     "end_time": "2023-07-26T15:03:45.162019Z",
     "start_time": "2023-07-26T15:03:45.096855Z"
    }
   },
   "outputs": [],
   "source": [
    "p = Polygon((0,0), (1,1))"
   ]
  },
  {
   "cell_type": "code",
   "execution_count": 61,
   "metadata": {
    "ExecuteTime": {
     "end_time": "2023-07-26T15:03:45.849762Z",
     "start_time": "2023-07-26T15:03:45.744439Z"
    }
   },
   "outputs": [
    {
     "data": {
      "text/plain": "Polygon(Point(x=0, y=0), Point(x=1, y=1))"
     },
     "execution_count": 61,
     "metadata": {},
     "output_type": "execute_result"
    }
   ],
   "source": [
    "p"
   ]
  },
  {
   "cell_type": "markdown",
   "metadata": {},
   "source": [
    "Ok, so now we can start making our Polygon into a sequence type, by implementing methods such as `__len__` and `__getitem__`:"
   ]
  },
  {
   "cell_type": "code",
   "execution_count": 62,
   "metadata": {
    "collapsed": true,
    "ExecuteTime": {
     "end_time": "2023-07-26T15:04:46.769942Z",
     "start_time": "2023-07-26T15:04:46.698156Z"
    }
   },
   "outputs": [],
   "source": [
    "class Polygon:\n",
    "    def __init__(self, *pts):\n",
    "        if pts:\n",
    "            self._pts = [Point(*pt) for pt in pts]\n",
    "        else:\n",
    "            self._pts = []\n",
    "            \n",
    "    def __repr__(self):\n",
    "        pts_str = ', '.join([str(pt) for pt in self._pts])\n",
    "        return f'Polygon({pts_str})'\n",
    "    \n",
    "    def __len__(self):\n",
    "        return len(self._pts)\n",
    "    \n",
    "    def __getitem__(self, s):\n",
    "        return self._pts[s]"
   ]
  },
  {
   "cell_type": "markdown",
   "metadata": {},
   "source": [
    "Notice how we are simply delegating those methods to the ones supported by lists since we are storing our sequence of points internally using a list!"
   ]
  },
  {
   "cell_type": "code",
   "execution_count": 63,
   "metadata": {
    "collapsed": true,
    "ExecuteTime": {
     "end_time": "2023-07-26T15:04:55.447342Z",
     "start_time": "2023-07-26T15:04:55.375075Z"
    }
   },
   "outputs": [],
   "source": [
    "p = Polygon((0,0), Point(1,1), [2,2])"
   ]
  },
  {
   "cell_type": "code",
   "execution_count": 64,
   "metadata": {
    "ExecuteTime": {
     "end_time": "2023-07-26T15:04:56.180595Z",
     "start_time": "2023-07-26T15:04:56.123896Z"
    }
   },
   "outputs": [
    {
     "data": {
      "text/plain": "Polygon(Point(x=0, y=0), Point(x=1, y=1), Point(x=2, y=2))"
     },
     "execution_count": 64,
     "metadata": {},
     "output_type": "execute_result"
    }
   ],
   "source": [
    "p"
   ]
  },
  {
   "cell_type": "code",
   "execution_count": 65,
   "metadata": {
    "ExecuteTime": {
     "end_time": "2023-07-26T15:04:58.846891Z",
     "start_time": "2023-07-26T15:04:58.744500Z"
    }
   },
   "outputs": [
    {
     "data": {
      "text/plain": "Point(x=0, y=0)"
     },
     "execution_count": 65,
     "metadata": {},
     "output_type": "execute_result"
    }
   ],
   "source": [
    "p[0]"
   ]
  },
  {
   "cell_type": "code",
   "execution_count": 66,
   "metadata": {
    "ExecuteTime": {
     "end_time": "2023-07-26T15:05:02.303237Z",
     "start_time": "2023-07-26T15:05:02.096813Z"
    }
   },
   "outputs": [
    {
     "data": {
      "text/plain": "[Point(x=2, y=2), Point(x=1, y=1), Point(x=0, y=0)]"
     },
     "execution_count": 66,
     "metadata": {},
     "output_type": "execute_result"
    }
   ],
   "source": [
    "p[::-1]"
   ]
  },
  {
   "cell_type": "markdown",
   "metadata": {},
   "source": [
    "Now let's implement concatenation (we'll skip repetition - wouldn't make much sense anyway):"
   ]
  },
  {
   "cell_type": "code",
   "execution_count": 67,
   "metadata": {
    "collapsed": true,
    "ExecuteTime": {
     "end_time": "2023-07-26T15:05:30.798489Z",
     "start_time": "2023-07-26T15:05:30.757698Z"
    }
   },
   "outputs": [],
   "source": [
    "class Polygon:\n",
    "    def __init__(self, *pts):\n",
    "        if pts:\n",
    "            self._pts = [Point(*pt) for pt in pts]\n",
    "        else:\n",
    "            self._pts = []\n",
    "            \n",
    "    def __repr__(self):\n",
    "        pts_str = ', '.join([str(pt) for pt in self._pts])\n",
    "        return f'Polygon({pts_str})'\n",
    "    \n",
    "    def __len__(self):\n",
    "        return len(self._pts)\n",
    "    \n",
    "    def __getitem__(self, s):\n",
    "        return self._pts[s]\n",
    "    \n",
    "    def __add__(self, other):\n",
    "        if isinstance(other, Polygon):\n",
    "            new_pts = self._pts + other._pts\n",
    "            return Polygon(*new_pts)\n",
    "        else:\n",
    "            raise TypeError('can only concatenate with another Polygon')"
   ]
  },
  {
   "cell_type": "code",
   "execution_count": 68,
   "metadata": {
    "ExecuteTime": {
     "end_time": "2023-07-26T15:05:31.578589Z",
     "start_time": "2023-07-26T15:05:31.424799Z"
    }
   },
   "outputs": [
    {
     "name": "stdout",
     "output_type": "stream",
     "text": [
      "4497079648 Polygon(Point(x=0, y=0), Point(x=1, y=1))\n",
      "4497077776 Polygon(Point(x=2, y=2), Point(x=3, y=3))\n"
     ]
    }
   ],
   "source": [
    "p1 = Polygon((0,0), (1,1))\n",
    "p2 = Polygon((2,2), (3,3))\n",
    "print(id(p1), p1)\n",
    "print(id(p2), p2)"
   ]
  },
  {
   "cell_type": "code",
   "execution_count": 69,
   "metadata": {
    "collapsed": true,
    "ExecuteTime": {
     "end_time": "2023-07-26T15:05:34.963072Z",
     "start_time": "2023-07-26T15:05:34.921886Z"
    }
   },
   "outputs": [],
   "source": [
    "result = p1 + p2"
   ]
  },
  {
   "cell_type": "code",
   "execution_count": 70,
   "metadata": {
    "ExecuteTime": {
     "end_time": "2023-07-26T15:05:35.725057Z",
     "start_time": "2023-07-26T15:05:35.627969Z"
    }
   },
   "outputs": [
    {
     "name": "stdout",
     "output_type": "stream",
     "text": [
      "4497060624 Polygon(Point(x=0, y=0), Point(x=1, y=1), Point(x=2, y=2), Point(x=3, y=3))\n"
     ]
    }
   ],
   "source": [
    "print(id(result), result)"
   ]
  },
  {
   "cell_type": "markdown",
   "metadata": {},
   "source": [
    "Now, let's handle in-place concatenation. Let's start by only allowing the RHS of the in-place concatenation to be another Polygon:"
   ]
  },
  {
   "cell_type": "code",
   "execution_count": 38,
   "metadata": {
    "collapsed": true,
    "ExecuteTime": {
     "end_time": "2023-07-26T14:58:16.765685Z",
     "start_time": "2023-07-26T14:58:11.875126Z"
    }
   },
   "outputs": [],
   "source": [
    "class Polygon:\n",
    "    def __init__(self, *pts):\n",
    "        if pts:\n",
    "            self._pts = [Point(*pt) for pt in pts]\n",
    "        else:\n",
    "            self._pts = []\n",
    "            \n",
    "    def __repr__(self):\n",
    "        pts_str = ', '.join([str(pt) for pt in self._pts])\n",
    "        return f'Polygon({pts_str})'\n",
    "    \n",
    "    def __len__(self):\n",
    "        return len(self._pts)\n",
    "    \n",
    "    def __getitem__(self, s):\n",
    "        return self._pts[s]\n",
    "    \n",
    "    def __add__(self, other):\n",
    "        if isinstance(other, Polygon):\n",
    "            new_pts = self._pts + other._pts\n",
    "            return Polygon(*new_pts)\n",
    "        else:\n",
    "            raise TypeError('can only concatenate with another Polygon')\n",
    "            \n",
    "    def __iadd__(self, pt):\n",
    "        if isinstance(pt, Polygon):\n",
    "            self._pts = self._pts + pt._pts\n",
    "            return self\n",
    "        else:\n",
    "            raise TypeError('can only concatenate with another Polygon')"
   ]
  },
  {
   "cell_type": "code",
   "execution_count": 39,
   "metadata": {
    "ExecuteTime": {
     "end_time": "2023-07-26T14:58:16.771401Z",
     "start_time": "2023-07-26T14:58:11.889307Z"
    }
   },
   "outputs": [
    {
     "name": "stdout",
     "output_type": "stream",
     "text": [
      "4492380480 Polygon(Point(x=0, y=0), Point(x=1, y=1))\n",
      "4492380096 Polygon(Point(x=2, y=2), Point(x=3, y=3))\n"
     ]
    }
   ],
   "source": [
    "p1 = Polygon((0,0), (1,1))\n",
    "p2 = Polygon((2,2), (3,3))\n",
    "print(id(p1), p1)\n",
    "print(id(p2), p2)"
   ]
  },
  {
   "cell_type": "code",
   "execution_count": 74,
   "metadata": {
    "ExecuteTime": {
     "end_time": "2023-07-26T15:07:52.386008Z",
     "start_time": "2023-07-26T15:07:52.280889Z"
    }
   },
   "outputs": [],
   "source": [
    "p1 += p2"
   ]
  },
  {
   "cell_type": "code",
   "execution_count": 75,
   "metadata": {
    "ExecuteTime": {
     "end_time": "2023-07-26T15:07:53.091536Z",
     "start_time": "2023-07-26T15:07:53.031864Z"
    }
   },
   "outputs": [
    {
     "name": "stdout",
     "output_type": "stream",
     "text": [
      "4497078064 Polygon(Point(x=0, y=0), Point(x=1, y=1), Point(x=2, y=2), Point(x=3, y=3), Point(x=2, y=2), Point(x=3, y=3))\n"
     ]
    }
   ],
   "source": [
    "print(id(p1), p1)"
   ]
  },
  {
   "cell_type": "markdown",
   "metadata": {},
   "source": [
    "So that worked, but this would not:"
   ]
  },
  {
   "cell_type": "code",
   "execution_count": 76,
   "metadata": {
    "collapsed": true,
    "ExecuteTime": {
     "end_time": "2023-07-26T15:07:56.027203Z",
     "start_time": "2023-07-26T15:07:55.898309Z"
    }
   },
   "outputs": [],
   "source": [
    "p1 = Polygon((0,0), (1,1))"
   ]
  },
  {
   "cell_type": "code",
   "execution_count": 43,
   "metadata": {
    "ExecuteTime": {
     "end_time": "2023-07-26T14:58:16.777383Z",
     "start_time": "2023-07-26T14:58:11.966010Z"
    }
   },
   "outputs": [
    {
     "ename": "TypeError",
     "evalue": "can only concatenate with another Polygon",
     "output_type": "error",
     "traceback": [
      "\u001B[0;31m---------------------------------------------------------------------------\u001B[0m",
      "\u001B[0;31mTypeError\u001B[0m                                 Traceback (most recent call last)",
      "Cell \u001B[0;32mIn [43], line 1\u001B[0m\n\u001B[0;32m----> 1\u001B[0m p1 \u001B[38;5;241m+\u001B[39m\u001B[38;5;241m=\u001B[39m [(\u001B[38;5;241m2\u001B[39m,\u001B[38;5;241m2\u001B[39m), (\u001B[38;5;241m3\u001B[39m,\u001B[38;5;241m3\u001B[39m)]\n",
      "Cell \u001B[0;32mIn [38], line 30\u001B[0m, in \u001B[0;36mPolygon.__iadd__\u001B[0;34m(self, pt)\u001B[0m\n\u001B[1;32m     28\u001B[0m     \u001B[38;5;28;01mreturn\u001B[39;00m \u001B[38;5;28mself\u001B[39m\n\u001B[1;32m     29\u001B[0m \u001B[38;5;28;01melse\u001B[39;00m:\n\u001B[0;32m---> 30\u001B[0m     \u001B[38;5;28;01mraise\u001B[39;00m \u001B[38;5;167;01mTypeError\u001B[39;00m(\u001B[38;5;124m'\u001B[39m\u001B[38;5;124mcan only concatenate with another Polygon\u001B[39m\u001B[38;5;124m'\u001B[39m)\n",
      "\u001B[0;31mTypeError\u001B[0m: can only concatenate with another Polygon"
     ]
    }
   ],
   "source": [
    "p1 += [(2,2), (3,3)]"
   ]
  },
  {
   "cell_type": "markdown",
   "metadata": {},
   "source": [
    "As you can see we get that type error. But we really should be able to handle appending any iterable of Points - and of course Points could also be specified as just iterables of length 2 containing numbers:"
   ]
  },
  {
   "cell_type": "code",
   "execution_count": 77,
   "metadata": {
    "collapsed": true,
    "ExecuteTime": {
     "end_time": "2023-07-26T15:08:34.735055Z",
     "start_time": "2023-07-26T15:08:34.692132Z"
    }
   },
   "outputs": [],
   "source": [
    "class Polygon:\n",
    "    def __init__(self, *pts):\n",
    "        if pts:\n",
    "            self._pts = [Point(*pt) for pt in pts]\n",
    "        else:\n",
    "            self._pts = []\n",
    "            \n",
    "    def __repr__(self):\n",
    "        pts_str = ', '.join([str(pt) for pt in self._pts])\n",
    "        return f'Polygon({pts_str})'\n",
    "    \n",
    "    def __len__(self):\n",
    "        return len(self._pts)\n",
    "    \n",
    "    def __getitem__(self, s):\n",
    "        return self._pts[s]\n",
    "    \n",
    "    def __add__(self, pt):\n",
    "        if isinstance(pt, Polygon):\n",
    "            new_pts = self._pts + pt._pts\n",
    "            return Polygon(*new_pts)\n",
    "        else:\n",
    "            raise TypeError('can only concatenate with another Polygon')\n",
    "            \n",
    "    def __iadd__(self, pts):\n",
    "        if isinstance(pts, Polygon):\n",
    "            self._pts = self._pts + pts._pts\n",
    "        else:\n",
    "            # assume we are being passed an iterable containing Points\n",
    "            # or something compatible with Points\n",
    "            points = [Point(*pt) for pt in pts]\n",
    "            self._pts = self._pts + points\n",
    "        return self"
   ]
  },
  {
   "cell_type": "code",
   "execution_count": 78,
   "metadata": {
    "collapsed": true,
    "ExecuteTime": {
     "end_time": "2023-07-26T15:08:35.779458Z",
     "start_time": "2023-07-26T15:08:35.461005Z"
    }
   },
   "outputs": [],
   "source": [
    "p1 = Polygon((0,0), (1,1))"
   ]
  },
  {
   "cell_type": "code",
   "execution_count": 81,
   "metadata": {
    "ExecuteTime": {
     "end_time": "2023-07-26T15:08:42.055680Z",
     "start_time": "2023-07-26T15:08:41.930747Z"
    }
   },
   "outputs": [],
   "source": [
    "p1 += [(2,2), (3,3)]"
   ]
  },
  {
   "cell_type": "code",
   "execution_count": 82,
   "metadata": {
    "ExecuteTime": {
     "end_time": "2023-07-26T15:08:42.707376Z",
     "start_time": "2023-07-26T15:08:42.652827Z"
    }
   },
   "outputs": [
    {
     "data": {
      "text/plain": "Polygon(Point(x=0, y=0), Point(x=1, y=1), Point(x=2, y=2), Point(x=3, y=3), Point(x=2, y=2), Point(x=3, y=3))"
     },
     "execution_count": 82,
     "metadata": {},
     "output_type": "execute_result"
    }
   ],
   "source": [
    "p1"
   ]
  },
  {
   "cell_type": "markdown",
   "metadata": {},
   "source": [
    "Now let's implement some methods such as `append`, `extend` and `insert`:"
   ]
  },
  {
   "cell_type": "code",
   "execution_count": 83,
   "metadata": {
    "collapsed": true,
    "ExecuteTime": {
     "end_time": "2023-07-26T15:09:39.956507Z",
     "start_time": "2023-07-26T15:09:39.822562Z"
    }
   },
   "outputs": [],
   "source": [
    "class Polygon:\n",
    "    def __init__(self, *pts):\n",
    "        if pts:\n",
    "            self._pts = [Point(*pt) for pt in pts]\n",
    "        else:\n",
    "            self._pts = []\n",
    "            \n",
    "    def __repr__(self):\n",
    "        pts_str = ', '.join([str(pt) for pt in self._pts])\n",
    "        return f'Polygon({pts_str})'\n",
    "    \n",
    "    def __len__(self):\n",
    "        return len(self._pts)\n",
    "    \n",
    "    def __getitem__(self, s):\n",
    "        return self._pts[s]\n",
    "    \n",
    "    def __add__(self, pt):\n",
    "        if isinstance(pt, Polygon):\n",
    "            new_pts = self._pts + pt._pts\n",
    "            return Polygon(*new_pts)\n",
    "        else:\n",
    "            raise TypeError('can only concatenate with another Polygon')\n",
    "            \n",
    "    def __iadd__(self, pts):\n",
    "        if isinstance(pts, Polygon):\n",
    "            self._pts = self._pts + pts._pts\n",
    "        else:\n",
    "            # assume we are being passed an iterable containing Points\n",
    "            # or something compatible with Points\n",
    "            points = [Point(*pt) for pt in pts]\n",
    "            self._pts = self._pts + points\n",
    "        return self\n",
    "    \n",
    "    def append(self, pt):\n",
    "        self._pts.append(Point(*pt))\n",
    "        \n",
    "    def extend(self, pts):\n",
    "        if isinstance(pts, Polygon):\n",
    "            self._pts = self._pts + pts._pts\n",
    "        else:\n",
    "            # assume we are being passed an iterable containing Points\n",
    "            # or something compatible with Points\n",
    "            points = [Point(*pt) for pt in pts]\n",
    "            self._pts = self._pts + points\n",
    "            \n",
    "    def insert(self, i, pt):\n",
    "        self._pts.insert(i, Point(*pt))"
   ]
  },
  {
   "cell_type": "markdown",
   "metadata": {},
   "source": [
    "Notice how we used almost the same code for `__iadd__` and `extend`?\n",
    "The only difference is that `__iadd__` returns the object, while `extend` does not - so let's clean that up a bit:"
   ]
  },
  {
   "cell_type": "code",
   "execution_count": 84,
   "metadata": {
    "collapsed": true,
    "ExecuteTime": {
     "end_time": "2023-07-26T15:10:04.719294Z",
     "start_time": "2023-07-26T15:10:04.601371Z"
    }
   },
   "outputs": [],
   "source": [
    "class Polygon:\n",
    "    def __init__(self, *pts):\n",
    "        if pts:\n",
    "            self._pts = [Point(*pt) for pt in pts]\n",
    "        else:\n",
    "            self._pts = []\n",
    "            \n",
    "    def __repr__(self):\n",
    "        pts_str = ', '.join([str(pt) for pt in self._pts])\n",
    "        return f'Polygon({pts_str})'\n",
    "    \n",
    "    def __len__(self):\n",
    "        return len(self._pts)\n",
    "    \n",
    "    def __getitem__(self, s):\n",
    "        return self._pts[s]\n",
    "    \n",
    "    def __add__(self, pt):\n",
    "        if isinstance(pt, Polygon):\n",
    "            new_pts = self._pts + pt._pts\n",
    "            return Polygon(*new_pts)\n",
    "        else:\n",
    "            raise TypeError('can only concatenate with another Polygon')\n",
    "\n",
    "    def append(self, pt):\n",
    "        self._pts.append(Point(*pt))\n",
    "        \n",
    "    def extend(self, pts):\n",
    "        if isinstance(pts, Polygon):\n",
    "            self._pts = self._pts + pts._pts\n",
    "        else:\n",
    "            # assume we are being passed an iterable containing Points\n",
    "            # or something compatible with Points\n",
    "            points = [Point(*pt) for pt in pts]\n",
    "            self._pts = self._pts + points\n",
    "    \n",
    "    def __iadd__(self, pts):\n",
    "        self.extend(pts)\n",
    "        return self\n",
    "    \n",
    "    def insert(self, i, pt):\n",
    "        self._pts.insert(i, Point(*pt))"
   ]
  },
  {
   "cell_type": "markdown",
   "metadata": {},
   "source": [
    "Now let's give all this a try:"
   ]
  },
  {
   "cell_type": "code",
   "execution_count": 85,
   "metadata": {
    "ExecuteTime": {
     "end_time": "2023-07-26T15:10:06.474997Z",
     "start_time": "2023-07-26T15:10:06.410445Z"
    }
   },
   "outputs": [
    {
     "name": "stdout",
     "output_type": "stream",
     "text": [
      "4497080720 Polygon(Point(x=0, y=0), Point(x=1, y=1))\n",
      "4497083744 Polygon(Point(x=2, y=2), Point(x=3, y=3))\n"
     ]
    }
   ],
   "source": [
    "p1 = Polygon((0,0), Point(1,1))\n",
    "p2 = Polygon([2, 2], [3, 3])\n",
    "print(id(p1), p1)\n",
    "print(id(p2), p2)"
   ]
  },
  {
   "cell_type": "code",
   "execution_count": 86,
   "metadata": {
    "collapsed": true,
    "ExecuteTime": {
     "end_time": "2023-07-26T15:10:07.696921Z",
     "start_time": "2023-07-26T15:10:07.589592Z"
    }
   },
   "outputs": [],
   "source": [
    "p1 += p2"
   ]
  },
  {
   "cell_type": "code",
   "execution_count": 87,
   "metadata": {
    "ExecuteTime": {
     "end_time": "2023-07-26T15:10:08.279661Z",
     "start_time": "2023-07-26T15:10:08.132903Z"
    }
   },
   "outputs": [
    {
     "name": "stdout",
     "output_type": "stream",
     "text": [
      "4497080720 Polygon(Point(x=0, y=0), Point(x=1, y=1), Point(x=2, y=2), Point(x=3, y=3))\n"
     ]
    }
   ],
   "source": [
    "print(id(p1), p1)"
   ]
  },
  {
   "cell_type": "markdown",
   "metadata": {},
   "source": [
    "That worked still, now let's see `append`:"
   ]
  },
  {
   "cell_type": "code",
   "execution_count": 88,
   "metadata": {
    "ExecuteTime": {
     "end_time": "2023-07-26T15:10:10.193652Z",
     "start_time": "2023-07-26T15:10:10.129710Z"
    }
   },
   "outputs": [
    {
     "data": {
      "text/plain": "Polygon(Point(x=0, y=0), Point(x=1, y=1), Point(x=2, y=2), Point(x=3, y=3))"
     },
     "execution_count": 88,
     "metadata": {},
     "output_type": "execute_result"
    }
   ],
   "source": [
    "p1"
   ]
  },
  {
   "cell_type": "code",
   "execution_count": 89,
   "metadata": {
    "collapsed": true,
    "ExecuteTime": {
     "end_time": "2023-07-26T15:10:11.084842Z",
     "start_time": "2023-07-26T15:10:11.013316Z"
    }
   },
   "outputs": [],
   "source": [
    "p1.append((4, 4))"
   ]
  },
  {
   "cell_type": "code",
   "execution_count": 90,
   "metadata": {
    "ExecuteTime": {
     "end_time": "2023-07-26T15:10:11.386390Z",
     "start_time": "2023-07-26T15:10:11.336375Z"
    }
   },
   "outputs": [
    {
     "data": {
      "text/plain": "Polygon(Point(x=0, y=0), Point(x=1, y=1), Point(x=2, y=2), Point(x=3, y=3), Point(x=4, y=4))"
     },
     "execution_count": 90,
     "metadata": {},
     "output_type": "execute_result"
    }
   ],
   "source": [
    "p1"
   ]
  },
  {
   "cell_type": "code",
   "execution_count": 91,
   "metadata": {
    "collapsed": true,
    "ExecuteTime": {
     "end_time": "2023-07-26T15:10:11.810702Z",
     "start_time": "2023-07-26T15:10:11.766855Z"
    }
   },
   "outputs": [],
   "source": [
    "p1.append(Point(5,5))"
   ]
  },
  {
   "cell_type": "code",
   "execution_count": 92,
   "metadata": {
    "ExecuteTime": {
     "end_time": "2023-07-26T15:10:12.892924Z",
     "start_time": "2023-07-26T15:10:12.790253Z"
    }
   },
   "outputs": [
    {
     "name": "stdout",
     "output_type": "stream",
     "text": [
      "4497080720 Polygon(Point(x=0, y=0), Point(x=1, y=1), Point(x=2, y=2), Point(x=3, y=3), Point(x=4, y=4), Point(x=5, y=5))\n"
     ]
    }
   ],
   "source": [
    "print(id(p1), p1)"
   ]
  },
  {
   "cell_type": "markdown",
   "metadata": {},
   "source": [
    "`append` seems to be working, now for `extend`:"
   ]
  },
  {
   "cell_type": "code",
   "execution_count": 93,
   "metadata": {
    "collapsed": true,
    "ExecuteTime": {
     "end_time": "2023-07-26T15:10:14.588280Z",
     "start_time": "2023-07-26T15:10:14.503794Z"
    }
   },
   "outputs": [],
   "source": [
    "p3 = Polygon((6,6), (7,7))"
   ]
  },
  {
   "cell_type": "code",
   "execution_count": 94,
   "metadata": {
    "collapsed": true,
    "ExecuteTime": {
     "end_time": "2023-07-26T15:10:15.475016Z",
     "start_time": "2023-07-26T15:10:15.407466Z"
    }
   },
   "outputs": [],
   "source": [
    "p1.extend(p3)"
   ]
  },
  {
   "cell_type": "code",
   "execution_count": 96,
   "metadata": {
    "ExecuteTime": {
     "end_time": "2023-07-26T15:10:20.621570Z",
     "start_time": "2023-07-26T15:10:20.544931Z"
    }
   },
   "outputs": [
    {
     "name": "stdout",
     "output_type": "stream",
     "text": [
      "4497080720 Polygon(Point(x=0, y=0), Point(x=1, y=1), Point(x=2, y=2), Point(x=3, y=3), Point(x=4, y=4), Point(x=5, y=5), Point(x=6, y=6), Point(x=7, y=7))\n"
     ]
    }
   ],
   "source": [
    "print(id(p1), p1)"
   ]
  },
  {
   "cell_type": "code",
   "execution_count": 97,
   "metadata": {
    "ExecuteTime": {
     "end_time": "2023-07-26T15:10:21.296208Z",
     "start_time": "2023-07-26T15:10:21.188447Z"
    }
   },
   "outputs": [],
   "source": [
    "p1.extend([(8,8), Point(9,9)])"
   ]
  },
  {
   "cell_type": "code",
   "execution_count": 98,
   "metadata": {
    "ExecuteTime": {
     "end_time": "2023-07-26T15:10:22.045176Z",
     "start_time": "2023-07-26T15:10:21.936747Z"
    }
   },
   "outputs": [
    {
     "name": "stdout",
     "output_type": "stream",
     "text": [
      "4497080720 Polygon(Point(x=0, y=0), Point(x=1, y=1), Point(x=2, y=2), Point(x=3, y=3), Point(x=4, y=4), Point(x=5, y=5), Point(x=6, y=6), Point(x=7, y=7), Point(x=8, y=8), Point(x=9, y=9))\n"
     ]
    }
   ],
   "source": [
    "print(id(p1), p1)"
   ]
  },
  {
   "cell_type": "markdown",
   "metadata": {},
   "source": [
    "Now let's see if `insert` works as expected:"
   ]
  },
  {
   "cell_type": "code",
   "execution_count": 99,
   "metadata": {
    "collapsed": true,
    "ExecuteTime": {
     "end_time": "2023-07-26T15:10:24.329025Z",
     "start_time": "2023-07-26T15:10:24.279407Z"
    }
   },
   "outputs": [],
   "source": [
    "p1 = Polygon((0,0), (1,1), (2,2))"
   ]
  },
  {
   "cell_type": "code",
   "execution_count": 100,
   "metadata": {
    "ExecuteTime": {
     "end_time": "2023-07-26T15:10:25.348284Z",
     "start_time": "2023-07-26T15:10:25.188603Z"
    }
   },
   "outputs": [
    {
     "name": "stdout",
     "output_type": "stream",
     "text": [
      "4497084320 Polygon(Point(x=0, y=0), Point(x=1, y=1), Point(x=2, y=2))\n"
     ]
    }
   ],
   "source": [
    "print(id(p1), p1)"
   ]
  },
  {
   "cell_type": "code",
   "execution_count": 101,
   "metadata": {
    "collapsed": true,
    "ExecuteTime": {
     "end_time": "2023-07-26T15:10:26.096655Z",
     "start_time": "2023-07-26T15:10:26.018648Z"
    }
   },
   "outputs": [],
   "source": [
    "p1.insert(1, (100, 100))"
   ]
  },
  {
   "cell_type": "code",
   "execution_count": 102,
   "metadata": {
    "ExecuteTime": {
     "end_time": "2023-07-26T15:10:26.850569Z",
     "start_time": "2023-07-26T15:10:26.790655Z"
    }
   },
   "outputs": [
    {
     "name": "stdout",
     "output_type": "stream",
     "text": [
      "4497084320 Polygon(Point(x=0, y=0), Point(x=100, y=100), Point(x=1, y=1), Point(x=2, y=2))\n"
     ]
    }
   ],
   "source": [
    "print(id(p1), p1)"
   ]
  },
  {
   "cell_type": "code",
   "execution_count": 103,
   "metadata": {
    "collapsed": true,
    "ExecuteTime": {
     "end_time": "2023-07-26T15:10:28.706921Z",
     "start_time": "2023-07-26T15:10:28.637584Z"
    }
   },
   "outputs": [],
   "source": [
    "p1.insert(1, Point(50, 50))"
   ]
  },
  {
   "cell_type": "code",
   "execution_count": 104,
   "metadata": {
    "ExecuteTime": {
     "end_time": "2023-07-26T15:10:29.322351Z",
     "start_time": "2023-07-26T15:10:29.177556Z"
    }
   },
   "outputs": [
    {
     "name": "stdout",
     "output_type": "stream",
     "text": [
      "4497084320 Polygon(Point(x=0, y=0), Point(x=50, y=50), Point(x=100, y=100), Point(x=1, y=1), Point(x=2, y=2))\n"
     ]
    }
   ],
   "source": [
    "print(id(p1), p1)"
   ]
  },
  {
   "cell_type": "markdown",
   "metadata": {},
   "source": [
    "Now that we have that working, let's turn our attention to the `__setitem__` method so we can support index and slice assignments:"
   ]
  },
  {
   "cell_type": "code",
   "execution_count": null,
   "metadata": {
    "collapsed": true,
    "ExecuteTime": {
     "start_time": "2023-07-26T14:58:12.482525Z"
    }
   },
   "outputs": [],
   "source": [
    "class Polygon:\n",
    "    def __init__(self, *pts):\n",
    "        if pts:\n",
    "            self._pts = [Point(*pt) for pt in pts]\n",
    "        else:\n",
    "            self._pts = []\n",
    "            \n",
    "    def __repr__(self):\n",
    "        pts_str = ', '.join([str(pt) for pt in self._pts])\n",
    "        return f'Polygon({pts_str})'\n",
    "    \n",
    "    def __len__(self):\n",
    "        return len(self._pts)\n",
    "    \n",
    "    def __getitem__(self, s):\n",
    "        return self._pts[s]\n",
    "    \n",
    "    def __setitem__(self, s, value):\n",
    "        # value could be a single Point (or compatible type) for s an int\n",
    "        # or it could be an iterable of Points if s is a slice\n",
    "        # let's start by handling slices only first\n",
    "        self._pts[s] = [Point(*pt) for pt in value]\n",
    "            \n",
    "    def __add__(self, pt):\n",
    "        if isinstance(pt, Polygon):\n",
    "            new_pts = self._pts + pt._pts\n",
    "            return Polygon(*new_pts)\n",
    "        else:\n",
    "            raise TypeError('can only concatenate with another Polygon')\n",
    "\n",
    "    def append(self, pt):\n",
    "        self._pts.append(Point(*pt))\n",
    "        \n",
    "    def extend(self, pts):\n",
    "        if isinstance(pts, Polygon):\n",
    "            self._pts = self._pts + pts._pts\n",
    "        else:\n",
    "            # assume we are being passed an iterable containing Points\n",
    "            # or something compatible with Points\n",
    "            points = [Point(*pt) for pt in pts]\n",
    "            self._pts = self._pts + points\n",
    "    \n",
    "    def __iadd__(self, pts):\n",
    "        self.extend(pts)\n",
    "        return self\n",
    "    \n",
    "    def insert(self, i, pt):\n",
    "        self._pts.insert(i, Point(*pt))"
   ]
  },
  {
   "cell_type": "markdown",
   "metadata": {},
   "source": [
    "So, we are only handling slice assignments at this point, not assignments such as `p[0] = Point(0,0)`:"
   ]
  },
  {
   "cell_type": "code",
   "execution_count": null,
   "metadata": {
    "ExecuteTime": {
     "start_time": "2023-07-26T14:58:12.500704Z"
    }
   },
   "outputs": [],
   "source": [
    "p = Polygon((0,0), (1,1), (2,2))\n",
    "print(id(p), p)"
   ]
  },
  {
   "cell_type": "code",
   "execution_count": null,
   "metadata": {
    "collapsed": true,
    "ExecuteTime": {
     "start_time": "2023-07-26T14:58:12.513729Z"
    }
   },
   "outputs": [],
   "source": [
    "p[0:2] = [(10, 10), (20, 20), (30, 30)]"
   ]
  },
  {
   "cell_type": "code",
   "execution_count": null,
   "metadata": {
    "ExecuteTime": {
     "start_time": "2023-07-26T14:58:12.524099Z"
    }
   },
   "outputs": [],
   "source": [
    "print(id(p), p)"
   ]
  },
  {
   "cell_type": "markdown",
   "metadata": {},
   "source": [
    "So this seems to work fine. But this won't yet:"
   ]
  },
  {
   "cell_type": "code",
   "execution_count": null,
   "metadata": {
    "ExecuteTime": {
     "start_time": "2023-07-26T14:58:12.535464Z"
    }
   },
   "outputs": [],
   "source": [
    "p[0] = Point(100, 100)"
   ]
  },
  {
   "cell_type": "markdown",
   "metadata": {},
   "source": [
    "If we look at the precise error, we see that our list comprehension is the cause of the error - we fail to correctly handle the case where the value passed in is not an iterable of Points..."
   ]
  },
  {
   "cell_type": "code",
   "execution_count": null,
   "metadata": {
    "collapsed": true,
    "ExecuteTime": {
     "start_time": "2023-07-26T14:58:12.548964Z"
    }
   },
   "outputs": [],
   "source": [
    "class Polygon:\n",
    "    def __init__(self, *pts):\n",
    "        if pts:\n",
    "            self._pts = [Point(*pt) for pt in pts]\n",
    "        else:\n",
    "            self._pts = []\n",
    "            \n",
    "    def __repr__(self):\n",
    "        pts_str = ', '.join([str(pt) for pt in self._pts])\n",
    "        return f'Polygon({pts_str})'\n",
    "    \n",
    "    def __len__(self):\n",
    "        return len(self._pts)\n",
    "    \n",
    "    def __getitem__(self, s):\n",
    "        return self._pts[s]\n",
    "    \n",
    "    def __setitem__(self, s, value):\n",
    "        # value could be a single Point (or compatible type) for s an int\n",
    "        # or it could be an iterable of Points if s is a slice\n",
    "        # we could do this:\n",
    "        if isinstance(s, int):\n",
    "            self._pts[s] = Point(*value)\n",
    "        else:\n",
    "            self._pts[s] = [Point(*pt) for pt in value]\n",
    "            \n",
    "    def __add__(self, pt):\n",
    "        if isinstance(pt, Polygon):\n",
    "            new_pts = self._pts + pt._pts\n",
    "            return Polygon(*new_pts)\n",
    "        else:\n",
    "            raise TypeError('can only concatenate with another Polygon')\n",
    "\n",
    "    def append(self, pt):\n",
    "        self._pts.append(Point(*pt))\n",
    "        \n",
    "    def extend(self, pts):\n",
    "        if isinstance(pts, Polygon):\n",
    "            self._pts = self._pts + pts._pts\n",
    "        else:\n",
    "            # assume we are being passed an iterable containing Points\n",
    "            # or something compatible with Points\n",
    "            points = [Point(*pt) for pt in pts]\n",
    "            self._pts = self._pts + points\n",
    "    \n",
    "    def __iadd__(self, pts):\n",
    "        self.extend(pts)\n",
    "        return self\n",
    "    \n",
    "    def insert(self, i, pt):\n",
    "        self._pts.insert(i, Point(*pt))"
   ]
  },
  {
   "cell_type": "markdown",
   "metadata": {},
   "source": [
    "This will now work as expected:"
   ]
  },
  {
   "cell_type": "code",
   "execution_count": null,
   "metadata": {
    "ExecuteTime": {
     "start_time": "2023-07-26T14:58:12.560584Z"
    }
   },
   "outputs": [],
   "source": [
    "p = Polygon((0,0), (1,1), (2,2))\n",
    "print(id(p), p)"
   ]
  },
  {
   "cell_type": "code",
   "execution_count": null,
   "metadata": {
    "ExecuteTime": {
     "start_time": "2023-07-26T14:58:12.574178Z"
    }
   },
   "outputs": [],
   "source": [
    "p[0] = Point(10, 10)"
   ]
  },
  {
   "cell_type": "code",
   "execution_count": null,
   "metadata": {
    "ExecuteTime": {
     "start_time": "2023-07-26T14:58:12.588045Z"
    }
   },
   "outputs": [],
   "source": [
    "print(id(p), p)"
   ]
  },
  {
   "cell_type": "markdown",
   "metadata": {},
   "source": [
    "What happens if we try to assign a single Point to a slice:"
   ]
  },
  {
   "cell_type": "code",
   "execution_count": null,
   "metadata": {
    "ExecuteTime": {
     "start_time": "2023-07-26T14:58:12.607223Z"
    }
   },
   "outputs": [],
   "source": [
    "p[0:2] = Point(10, 10)"
   ]
  },
  {
   "cell_type": "markdown",
   "metadata": {},
   "source": [
    "As expected this will not work. What about assigning an iterable of points to an index:"
   ]
  },
  {
   "cell_type": "code",
   "execution_count": null,
   "metadata": {
    "ExecuteTime": {
     "start_time": "2023-07-26T14:58:12.623691Z"
    }
   },
   "outputs": [],
   "source": [
    "p[0] = [Point(10, 10), Point(20, 20)]"
   ]
  },
  {
   "cell_type": "markdown",
   "metadata": {},
   "source": [
    "This works fine, but the error messages are a bit misleading - we probably should do something about that:"
   ]
  },
  {
   "cell_type": "code",
   "execution_count": null,
   "metadata": {
    "collapsed": true,
    "ExecuteTime": {
     "start_time": "2023-07-26T14:58:12.635370Z"
    }
   },
   "outputs": [],
   "source": [
    "class Polygon:\n",
    "    def __init__(self, *pts):\n",
    "        if pts:\n",
    "            self._pts = [Point(*pt) for pt in pts]\n",
    "        else:\n",
    "            self._pts = []\n",
    "            \n",
    "    def __repr__(self):\n",
    "        pts_str = ', '.join([str(pt) for pt in self._pts])\n",
    "        return f'Polygon({pts_str})'\n",
    "    \n",
    "    def __len__(self):\n",
    "        return len(self._pts)\n",
    "    \n",
    "    def __getitem__(self, s):\n",
    "        return self._pts[s]\n",
    "    \n",
    "    def __setitem__(self, s, value):\n",
    "        # we first should see if we have a single Point\n",
    "        # or an iterable of Points in value\n",
    "        try:\n",
    "            rhs = [Point(*pt) for pt in value]\n",
    "            is_single = False\n",
    "        except TypeError:\n",
    "            # not a valid iterable of Points\n",
    "            # maybe a single Point?\n",
    "            try:\n",
    "                rhs = Point(*value)\n",
    "                is_single = True\n",
    "            except TypeError:\n",
    "                # still no go\n",
    "                raise TypeError('Invalid Point or iterable of Points')\n",
    "        \n",
    "        # reached here, so rhs is either an iterable of Points, or a Point\n",
    "        # we want to make sure we are assigning to a slice only if we \n",
    "        # have an iterable of points, and assigning to an index if we \n",
    "        # have a single Point only\n",
    "        if (isinstance(s, int) and is_single) \\\n",
    "            or isinstance(s, slice) and not is_single:\n",
    "            self._pts[s] = rhs\n",
    "        else:\n",
    "            raise TypeError('Incompatible index/slice assignment')\n",
    "                \n",
    "    def __add__(self, pt):\n",
    "        if isinstance(pt, Polygon):\n",
    "            new_pts = self._pts + pt._pts\n",
    "            return Polygon(*new_pts)\n",
    "        else:\n",
    "            raise TypeError('can only concatenate with another Polygon')\n",
    "\n",
    "    def append(self, pt):\n",
    "        self._pts.append(Point(*pt))\n",
    "        \n",
    "    def extend(self, pts):\n",
    "        if isinstance(pts, Polygon):\n",
    "            self._pts = self._pts + pts._pts\n",
    "        else:\n",
    "            # assume we are being passed an iterable containing Points\n",
    "            # or something compatible with Points\n",
    "            points = [Point(*pt) for pt in pts]\n",
    "            self._pts = self._pts + points\n",
    "    \n",
    "    def __iadd__(self, pts):\n",
    "        self.extend(pts)\n",
    "        return self\n",
    "    \n",
    "    def insert(self, i, pt):\n",
    "        self._pts.insert(i, Point(*pt))"
   ]
  },
  {
   "cell_type": "markdown",
   "metadata": {},
   "source": [
    "So now let's see if we get better error messages:"
   ]
  },
  {
   "cell_type": "code",
   "execution_count": null,
   "metadata": {
    "collapsed": true,
    "ExecuteTime": {
     "start_time": "2023-07-26T14:58:12.651449Z"
    }
   },
   "outputs": [],
   "source": [
    "p1 = Polygon((0,0), (1,1), (2,2))"
   ]
  },
  {
   "cell_type": "code",
   "execution_count": null,
   "metadata": {
    "ExecuteTime": {
     "start_time": "2023-07-26T14:58:12.660714Z"
    }
   },
   "outputs": [],
   "source": [
    "p1[0:2] = (10,10)"
   ]
  },
  {
   "cell_type": "code",
   "execution_count": null,
   "metadata": {
    "ExecuteTime": {
     "start_time": "2023-07-26T14:58:12.669376Z"
    }
   },
   "outputs": [],
   "source": [
    "p1[0] = [(0,0), (1,1)]"
   ]
  },
  {
   "cell_type": "markdown",
   "metadata": {},
   "source": [
    "And the allowed slice/index assignments work as expected:"
   ]
  },
  {
   "cell_type": "code",
   "execution_count": null,
   "metadata": {
    "collapsed": true,
    "ExecuteTime": {
     "start_time": "2023-07-26T14:58:12.676632Z"
    }
   },
   "outputs": [],
   "source": [
    "p[0] = Point(100, 100)"
   ]
  },
  {
   "cell_type": "code",
   "execution_count": null,
   "metadata": {
    "ExecuteTime": {
     "start_time": "2023-07-26T14:58:12.683886Z"
    }
   },
   "outputs": [],
   "source": [
    "p"
   ]
  },
  {
   "cell_type": "code",
   "execution_count": null,
   "metadata": {
    "collapsed": true,
    "ExecuteTime": {
     "start_time": "2023-07-26T14:58:12.735560Z"
    }
   },
   "outputs": [],
   "source": [
    "p[0:2] = [(0,0), (1,1), (2,2)]"
   ]
  },
  {
   "cell_type": "code",
   "execution_count": null,
   "metadata": {
    "ExecuteTime": {
     "start_time": "2023-07-26T14:58:12.746623Z"
    }
   },
   "outputs": [],
   "source": [
    "p"
   ]
  },
  {
   "cell_type": "markdown",
   "metadata": {},
   "source": [
    "And if we try to replace with bad Point data:"
   ]
  },
  {
   "cell_type": "code",
   "execution_count": null,
   "metadata": {
    "ExecuteTime": {
     "start_time": "2023-07-26T14:58:12.755521Z"
    }
   },
   "outputs": [],
   "source": [
    "p[0] = (0, 2+2j)"
   ]
  },
  {
   "cell_type": "markdown",
   "metadata": {},
   "source": [
    "We also get a better error message."
   ]
  },
  {
   "cell_type": "markdown",
   "metadata": {},
   "source": [
    "Lastly let's see how we would implement the `del` keyword and the `pop` method."
   ]
  },
  {
   "cell_type": "markdown",
   "metadata": {},
   "source": [
    "Recall how the `del` keyword works for a list:"
   ]
  },
  {
   "cell_type": "code",
   "execution_count": null,
   "metadata": {
    "collapsed": true,
    "ExecuteTime": {
     "start_time": "2023-07-26T14:58:12.764846Z"
    }
   },
   "outputs": [],
   "source": [
    "l = [1, 2, 3, 4, 5]"
   ]
  },
  {
   "cell_type": "code",
   "execution_count": null,
   "metadata": {
    "collapsed": true,
    "ExecuteTime": {
     "start_time": "2023-07-26T14:58:12.772697Z"
    }
   },
   "outputs": [],
   "source": [
    "del l[0]"
   ]
  },
  {
   "cell_type": "code",
   "execution_count": null,
   "metadata": {
    "ExecuteTime": {
     "start_time": "2023-07-26T14:58:12.780551Z"
    }
   },
   "outputs": [],
   "source": [
    "l"
   ]
  },
  {
   "cell_type": "code",
   "execution_count": null,
   "metadata": {
    "collapsed": true,
    "ExecuteTime": {
     "start_time": "2023-07-26T14:58:12.798933Z"
    }
   },
   "outputs": [],
   "source": [
    "del l[0:2]"
   ]
  },
  {
   "cell_type": "code",
   "execution_count": null,
   "metadata": {
    "ExecuteTime": {
     "start_time": "2023-07-26T14:58:12.807567Z"
    }
   },
   "outputs": [],
   "source": [
    "l"
   ]
  },
  {
   "cell_type": "code",
   "execution_count": null,
   "metadata": {
    "collapsed": true,
    "ExecuteTime": {
     "start_time": "2023-07-26T14:58:12.836154Z"
    }
   },
   "outputs": [],
   "source": [
    "del l[-1]"
   ]
  },
  {
   "cell_type": "code",
   "execution_count": null,
   "metadata": {
    "ExecuteTime": {
     "start_time": "2023-07-26T14:58:12.846529Z"
    }
   },
   "outputs": [],
   "source": [
    "l"
   ]
  },
  {
   "cell_type": "markdown",
   "metadata": {},
   "source": [
    "So, `del` works with indices (positive or negative) and slices too. We'll do the same:"
   ]
  },
  {
   "cell_type": "code",
   "execution_count": null,
   "metadata": {
    "collapsed": true,
    "ExecuteTime": {
     "start_time": "2023-07-26T14:58:12.857801Z"
    }
   },
   "outputs": [],
   "source": [
    "class Polygon:\n",
    "    def __init__(self, *pts):\n",
    "        if pts:\n",
    "            self._pts = [Point(*pt) for pt in pts]\n",
    "        else:\n",
    "            self._pts = []\n",
    "            \n",
    "    def __repr__(self):\n",
    "        pts_str = ', '.join([str(pt) for pt in self._pts])\n",
    "        return f'Polygon({pts_str})'\n",
    "    \n",
    "    def __len__(self):\n",
    "        return len(self._pts)\n",
    "    \n",
    "    def __getitem__(self, s):\n",
    "        return self._pts[s]\n",
    "    \n",
    "    def __setitem__(self, s, value):\n",
    "        # we first should see if we have a single Point\n",
    "        # or an iterable of Points in value\n",
    "        try:\n",
    "            rhs = [Point(*pt) for pt in value]\n",
    "            is_single = False\n",
    "        except TypeError:\n",
    "            # not a valid iterable of Points\n",
    "            # maybe a single Point?\n",
    "            try:\n",
    "                rhs = Point(*value)\n",
    "                is_single = True\n",
    "            except TypeError:\n",
    "                # still no go\n",
    "                raise TypeError('Invalid Point or iterable of Points')\n",
    "        \n",
    "        # reached here, so rhs is either an iterable of Points, or a Point\n",
    "        # we want to make sure we are assigning to a slice only if we \n",
    "        # have an iterable of points, and assigning to an index if we \n",
    "        # have a single Point only\n",
    "        if (isinstance(s, int) and is_single) \\\n",
    "            or isinstance(s, slice) and not is_single:\n",
    "            self._pts[s] = rhs\n",
    "        else:\n",
    "            raise TypeError('Incompatible index/slice assignment')\n",
    "                \n",
    "    def __add__(self, pt):\n",
    "        if isinstance(pt, Polygon):\n",
    "            new_pts = self._pts + pt._pts\n",
    "            return Polygon(*new_pts)\n",
    "        else:\n",
    "            raise TypeError('can only concatenate with another Polygon')\n",
    "\n",
    "    def append(self, pt):\n",
    "        self._pts.append(Point(*pt))\n",
    "        \n",
    "    def extend(self, pts):\n",
    "        if isinstance(pts, Polygon):\n",
    "            self._pts = self._pts + pts._pts\n",
    "        else:\n",
    "            # assume we are being passed an iterable containing Points\n",
    "            # or something compatible with Points\n",
    "            points = [Point(*pt) for pt in pts]\n",
    "            self._pts = self._pts + points\n",
    "    \n",
    "    def __iadd__(self, pts):\n",
    "        self.extend(pts)\n",
    "        return self\n",
    "    \n",
    "    def insert(self, i, pt):\n",
    "        self._pts.insert(i, Point(*pt))\n",
    "        \n",
    "    def __delitem__(self, s):\n",
    "        del self._pts[s]"
   ]
  },
  {
   "cell_type": "code",
   "execution_count": null,
   "metadata": {
    "ExecuteTime": {
     "start_time": "2023-07-26T14:58:12.864671Z"
    }
   },
   "outputs": [],
   "source": [
    "p = Polygon(*zip(range(6), range(6)))"
   ]
  },
  {
   "cell_type": "code",
   "execution_count": null,
   "metadata": {
    "ExecuteTime": {
     "start_time": "2023-07-26T14:58:12.874313Z"
    }
   },
   "outputs": [],
   "source": [
    "p"
   ]
  },
  {
   "cell_type": "code",
   "execution_count": null,
   "metadata": {
    "collapsed": true,
    "ExecuteTime": {
     "start_time": "2023-07-26T14:58:12.882817Z"
    }
   },
   "outputs": [],
   "source": [
    "del p[0]"
   ]
  },
  {
   "cell_type": "code",
   "execution_count": null,
   "metadata": {
    "ExecuteTime": {
     "start_time": "2023-07-26T14:58:12.890263Z"
    }
   },
   "outputs": [],
   "source": [
    "p"
   ]
  },
  {
   "cell_type": "code",
   "execution_count": null,
   "metadata": {
    "collapsed": true,
    "ExecuteTime": {
     "start_time": "2023-07-26T14:58:12.896042Z"
    }
   },
   "outputs": [],
   "source": [
    "del p[-1]"
   ]
  },
  {
   "cell_type": "code",
   "execution_count": null,
   "metadata": {
    "ExecuteTime": {
     "start_time": "2023-07-26T14:58:12.903882Z"
    }
   },
   "outputs": [],
   "source": [
    "p"
   ]
  },
  {
   "cell_type": "code",
   "execution_count": null,
   "metadata": {
    "collapsed": true,
    "ExecuteTime": {
     "start_time": "2023-07-26T14:58:12.916068Z"
    }
   },
   "outputs": [],
   "source": [
    "del p[0:2]"
   ]
  },
  {
   "cell_type": "code",
   "execution_count": null,
   "metadata": {
    "ExecuteTime": {
     "start_time": "2023-07-26T14:58:12.928872Z"
    }
   },
   "outputs": [],
   "source": [
    "p"
   ]
  },
  {
   "cell_type": "markdown",
   "metadata": {},
   "source": [
    "Now, we just have to implement `pop`:"
   ]
  },
  {
   "cell_type": "code",
   "execution_count": null,
   "metadata": {
    "collapsed": true,
    "ExecuteTime": {
     "start_time": "2023-07-26T14:58:12.944507Z"
    }
   },
   "outputs": [],
   "source": [
    "class Polygon:\n",
    "    def __init__(self, *pts):\n",
    "        if pts:\n",
    "            self._pts = [Point(*pt) for pt in pts]\n",
    "        else:\n",
    "            self._pts = []\n",
    "            \n",
    "    def __repr__(self):\n",
    "        pts_str = ', '.join([str(pt) for pt in self._pts])\n",
    "        return f'Polygon({pts_str})'\n",
    "    \n",
    "    def __len__(self):\n",
    "        return len(self._pts)\n",
    "    \n",
    "    def __getitem__(self, s):\n",
    "        return self._pts[s]\n",
    "    \n",
    "    def __setitem__(self, s, value):\n",
    "        # we first should see if we have a single Point\n",
    "        # or an iterable of Points in value\n",
    "        try:\n",
    "            rhs = [Point(*pt) for pt in value]\n",
    "            is_single = False\n",
    "        except TypeError:\n",
    "            # not a valid iterable of Points\n",
    "            # maybe a single Point?\n",
    "            try:\n",
    "                rhs = Point(*value)\n",
    "                is_single = True\n",
    "            except TypeError:\n",
    "                # still no go\n",
    "                raise TypeError('Invalid Point or iterable of Points')\n",
    "        \n",
    "        # reached here, so rhs is either an iterable of Points, or a Point\n",
    "        # we want to make sure we are assigning to a slice only if we \n",
    "        # have an iterable of points, and assigning to an index if we \n",
    "        # have a single Point only\n",
    "        if (isinstance(s, int) and is_single) \\\n",
    "            or isinstance(s, slice) and not is_single:\n",
    "            self._pts[s] = rhs\n",
    "        else:\n",
    "            raise TypeError('Incompatible index/slice assignment')\n",
    "                \n",
    "    def __add__(self, pt):\n",
    "        if isinstance(pt, Polygon):\n",
    "            new_pts = self._pts + pt._pts\n",
    "            return Polygon(*new_pts)\n",
    "        else:\n",
    "            raise TypeError('can only concatenate with another Polygon')\n",
    "\n",
    "    def append(self, pt):\n",
    "        self._pts.append(Point(*pt))\n",
    "        \n",
    "    def extend(self, pts):\n",
    "        if isinstance(pts, Polygon):\n",
    "            self._pts = self._pts + pts._pts\n",
    "        else:\n",
    "            # assume we are being passed an iterable containing Points\n",
    "            # or something compatible with Points\n",
    "            points = [Point(*pt) for pt in pts]\n",
    "            self._pts = self._pts + points\n",
    "    \n",
    "    def __iadd__(self, pts):\n",
    "        self.extend(pts)\n",
    "        return self\n",
    "    \n",
    "    def insert(self, i, pt):\n",
    "        self._pts.insert(i, Point(*pt))\n",
    "        \n",
    "    def __delitem__(self, s):\n",
    "        del self._pts[s]\n",
    "        \n",
    "    def pop(self, i):\n",
    "        return self._pts.pop(i)"
   ]
  },
  {
   "cell_type": "code",
   "execution_count": null,
   "metadata": {
    "collapsed": true,
    "ExecuteTime": {
     "start_time": "2023-07-26T14:58:12.960437Z"
    }
   },
   "outputs": [],
   "source": [
    "p = Polygon(*zip(range(6), range(6)))"
   ]
  },
  {
   "cell_type": "code",
   "execution_count": null,
   "metadata": {
    "ExecuteTime": {
     "start_time": "2023-07-26T14:58:12.974147Z"
    }
   },
   "outputs": [],
   "source": [
    "p"
   ]
  },
  {
   "cell_type": "code",
   "execution_count": null,
   "metadata": {
    "ExecuteTime": {
     "start_time": "2023-07-26T14:58:12.984469Z"
    }
   },
   "outputs": [],
   "source": [
    "p.pop(1)"
   ]
  },
  {
   "cell_type": "code",
   "execution_count": null,
   "metadata": {
    "ExecuteTime": {
     "start_time": "2023-07-26T14:58:12.993637Z"
    }
   },
   "outputs": [],
   "source": [
    "p"
   ]
  }
 ],
 "metadata": {
  "kernelspec": {
   "display_name": "Python 3",
   "language": "python",
   "name": "python3"
  },
  "language_info": {
   "codemirror_mode": {
    "name": "ipython",
    "version": 3
   },
   "file_extension": ".py",
   "mimetype": "text/x-python",
   "name": "python",
   "nbconvert_exporter": "python",
   "pygments_lexer": "ipython3",
   "version": "3.6.2"
  }
 },
 "nbformat": 4,
 "nbformat_minor": 2
}
