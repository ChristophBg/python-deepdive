{
 "cells": [
  {
   "cell_type": "markdown",
   "source": [
    "see 01 - Project Description for infos\n",
    "\n",
    "Goal is to create a polygon and polygon list class with certain geometric properties\n"
   ],
   "metadata": {
    "collapsed": false
   }
  },
  {
   "cell_type": "markdown",
   "source": [
    "# Polygon class"
   ],
   "metadata": {
    "collapsed": false
   }
  },
  {
   "cell_type": "code",
   "execution_count": 19,
   "outputs": [],
   "source": [
    "import math\n",
    "class Polygon:\n",
    "\n",
    "    def __init__(self,edges, circumradius):\n",
    "        #basic input properties\n",
    "        if edges <3:\n",
    "            raise ValueError(\"Polygon needs at least 3 edges\")\n",
    "        else:\n",
    "            self.edges = edges\n",
    "            self.circumradius = circumradius\n",
    "            #calcuated properties\n",
    "            self.interior_angle = (self.edges-2)* 180/self.edges\n",
    "            self.edge_length = 2*self.circumradius*math.sin(math.pi/self.edges)\n",
    "            self.apothem = self.circumradius*math.cos(math.pi/self.edges)\n",
    "            self.area = 0.5* self.edges*self.edge_length*self.apothem\n",
    "\n",
    "    ### in solutions with this syntax, not in init\n",
    "    ### also for other properties other than edges and circumradius\n",
    "    @property\n",
    "    def perimeter(self):\n",
    "            self.perimeter = self.edges * self.edge_length\n",
    "\n",
    "    def __repr__(self):\n",
    "        return f'Polygon with {self.edges} edges and {self.circumradius} circumradius.'\n",
    "\n",
    "    def __eq__(self, other):\n",
    "        if not isinstance(other,Polygon):\n",
    "            raise TypeError(\"other is not polygon\")\n",
    "        else:\n",
    "            if self.edges == other.edges and self.circumradius == other.circumradius:\n",
    "                return True\n",
    "            else:\n",
    "                return False\n",
    "\n",
    "    def __gt__(self, other):\n",
    "        if not isinstance(other,Polygon):\n",
    "            raise TypeError(\"other is not polygon\")\n",
    "        else:\n",
    "            if self.edges > other.edges:\n",
    "                return True\n",
    "            else:\n",
    "                return False"
   ],
   "metadata": {
    "collapsed": false,
    "ExecuteTime": {
     "end_time": "2023-08-10T09:33:35.768097Z",
     "start_time": "2023-08-10T09:33:35.730427Z"
    }
   }
  },
  {
   "cell_type": "code",
   "execution_count": 20,
   "outputs": [
    {
     "ename": "ValueError",
     "evalue": "Polygon needs at least 3 edges",
     "output_type": "error",
     "traceback": [
      "\u001B[0;31m---------------------------------------------------------------------------\u001B[0m",
      "\u001B[0;31mValueError\u001B[0m                                Traceback (most recent call last)",
      "Cell \u001B[0;32mIn [20], line 1\u001B[0m\n\u001B[0;32m----> 1\u001B[0m \u001B[43mPolygon\u001B[49m\u001B[43m(\u001B[49m\u001B[38;5;241;43m2\u001B[39;49m\u001B[43m,\u001B[49m\u001B[38;5;241;43m10\u001B[39;49m\u001B[43m)\u001B[49m\n",
      "Cell \u001B[0;32mIn [19], line 7\u001B[0m, in \u001B[0;36mPolygon.__init__\u001B[0;34m(self, edges, circumradius)\u001B[0m\n\u001B[1;32m      4\u001B[0m \u001B[38;5;28;01mdef\u001B[39;00m \u001B[38;5;21m__init__\u001B[39m(\u001B[38;5;28mself\u001B[39m,edges, circumradius):\n\u001B[1;32m      5\u001B[0m     \u001B[38;5;66;03m#basic input properties\u001B[39;00m\n\u001B[1;32m      6\u001B[0m     \u001B[38;5;28;01mif\u001B[39;00m edges \u001B[38;5;241m<\u001B[39m\u001B[38;5;241m3\u001B[39m:\n\u001B[0;32m----> 7\u001B[0m         \u001B[38;5;28;01mraise\u001B[39;00m \u001B[38;5;167;01mValueError\u001B[39;00m(\u001B[38;5;124m\"\u001B[39m\u001B[38;5;124mPolygon needs at least 3 edges\u001B[39m\u001B[38;5;124m\"\u001B[39m)\n\u001B[1;32m      8\u001B[0m     \u001B[38;5;28;01melse\u001B[39;00m:\n\u001B[1;32m      9\u001B[0m         \u001B[38;5;28mself\u001B[39m\u001B[38;5;241m.\u001B[39medges \u001B[38;5;241m=\u001B[39m edges\n",
      "\u001B[0;31mValueError\u001B[0m: Polygon needs at least 3 edges"
     ]
    }
   ],
   "source": [
    "Polygon(2,10)"
   ],
   "metadata": {
    "collapsed": false,
    "ExecuteTime": {
     "end_time": "2023-08-10T09:33:36.921150Z",
     "start_time": "2023-08-10T09:33:36.883611Z"
    }
   }
  },
  {
   "cell_type": "code",
   "execution_count": 21,
   "outputs": [],
   "source": [
    "p = Polygon(4,5)"
   ],
   "metadata": {
    "collapsed": false,
    "ExecuteTime": {
     "end_time": "2023-08-10T09:33:37.762216Z",
     "start_time": "2023-08-10T09:33:37.697101Z"
    }
   }
  },
  {
   "cell_type": "code",
   "execution_count": 22,
   "outputs": [
    {
     "data": {
      "text/plain": "(7.071067811865475, 3.5355339059327378, 50.0, 90.0, 28.2842712474619)"
     },
     "execution_count": 22,
     "metadata": {},
     "output_type": "execute_result"
    }
   ],
   "source": [
    "p.edge_length,p.apothem,p.area,p.interior_angle,p.perimeter"
   ],
   "metadata": {
    "collapsed": false,
    "ExecuteTime": {
     "end_time": "2023-08-10T09:33:38.242979Z",
     "start_time": "2023-08-10T09:33:38.183042Z"
    }
   }
  },
  {
   "cell_type": "markdown",
   "source": [
    "testing greater than and equality"
   ],
   "metadata": {
    "collapsed": false
   }
  },
  {
   "cell_type": "code",
   "execution_count": 23,
   "outputs": [],
   "source": [
    "p1 = Polygon(5,5)\n",
    "p2 = Polygon(4,4)\n",
    "p3 = Polygon(4,6)"
   ],
   "metadata": {
    "collapsed": false,
    "ExecuteTime": {
     "end_time": "2023-08-10T09:33:41.144885Z",
     "start_time": "2023-08-10T09:33:41.128840Z"
    }
   }
  },
  {
   "cell_type": "code",
   "execution_count": 24,
   "outputs": [
    {
     "data": {
      "text/plain": "(True, False, True, False)"
     },
     "execution_count": 24,
     "metadata": {},
     "output_type": "execute_result"
    }
   ],
   "source": [
    "p1 > p2, p2 > p1, p1 > p3, p3 < p2"
   ],
   "metadata": {
    "collapsed": false,
    "ExecuteTime": {
     "end_time": "2023-08-10T09:33:43.354749Z",
     "start_time": "2023-08-10T09:33:43.338927Z"
    }
   }
  },
  {
   "cell_type": "code",
   "execution_count": 25,
   "outputs": [],
   "source": [
    "p4,p5 = Polygon(4,4),Polygon(5,10)"
   ],
   "metadata": {
    "collapsed": false,
    "ExecuteTime": {
     "end_time": "2023-08-10T09:34:26.896706Z",
     "start_time": "2023-08-10T09:34:26.762423Z"
    }
   }
  },
  {
   "cell_type": "code",
   "execution_count": 27,
   "outputs": [
    {
     "data": {
      "text/plain": "(True, False)"
     },
     "execution_count": 27,
     "metadata": {},
     "output_type": "execute_result"
    }
   ],
   "source": [
    "p2 == p4, p1 == p5"
   ],
   "metadata": {
    "collapsed": false,
    "ExecuteTime": {
     "end_time": "2023-08-10T09:34:46.507571Z",
     "start_time": "2023-08-10T09:34:46.492396Z"
    }
   }
  },
  {
   "cell_type": "markdown",
   "source": [
    "# Polygon sequence type"
   ],
   "metadata": {
    "collapsed": false
   }
  },
  {
   "cell_type": "code",
   "execution_count": 50,
   "outputs": [],
   "source": [
    "class PolygonSequence:\n",
    "\n",
    "    #def __init__(self,*polys):\n",
    "    #    if polys:\n",
    "    #        self.polys = [Polygon(*p) for p in polys]\n",
    "    #    else:\n",
    "    #        self.polys = []\n",
    "\n",
    "    #    self.max_edges = max([p.edges for p in self.polys])\n",
    "    def __init__(self,max_edges,circumradius):\n",
    "        if max_edges<3:\n",
    "            raise ValueError\n",
    "        self.max_edges = max_edges\n",
    "        self.circumradius = circumradius\n",
    "\n",
    "        self.polys = [Polygon(ed,self.circumradius) for ed in range(3,self.max_edges+1)]\n",
    "\n",
    "    def __repr__(self):\n",
    "        return f'PolygonSequence(max edges {self.max_edges}, circumradius {self.circumradius})'\n",
    "\n",
    "\n",
    "    def __len__(self):\n",
    "        return self.max_edges-2\n",
    "\n",
    "    def __getitem__(self, s):\n",
    "        return self.polys[s]\n",
    "\n",
    "    @property\n",
    "    def max_efficient_polygon(self):\n",
    "        sorted_polys = sorted(\n",
    "                                self.polys,\n",
    "                                key = lambda p : p.area/p.perimeter,\n",
    "                                reverse = True)\n",
    "        return sorted_polys[0]\n"
   ],
   "metadata": {
    "collapsed": false,
    "ExecuteTime": {
     "end_time": "2023-08-10T09:59:35.946372Z",
     "start_time": "2023-08-10T09:59:35.933200Z"
    }
   }
  },
  {
   "cell_type": "code",
   "execution_count": 51,
   "outputs": [
    {
     "data": {
      "text/plain": "PolygonSequence(max edges 6, circumradius 2)"
     },
     "execution_count": 51,
     "metadata": {},
     "output_type": "execute_result"
    }
   ],
   "source": [
    "PolygonSequence(6,2)"
   ],
   "metadata": {
    "collapsed": false,
    "ExecuteTime": {
     "end_time": "2023-08-10T09:59:36.344124Z",
     "start_time": "2023-08-10T09:59:36.297827Z"
    }
   }
  },
  {
   "cell_type": "code",
   "execution_count": 52,
   "outputs": [
    {
     "data": {
      "text/plain": "Polygon with 8 edges and 2 circumradius."
     },
     "execution_count": 52,
     "metadata": {},
     "output_type": "execute_result"
    }
   ],
   "source": [
    "ps = PolygonSequence(8,2)\n",
    "ps.max_efficient_polygon"
   ],
   "metadata": {
    "collapsed": false,
    "ExecuteTime": {
     "end_time": "2023-08-10T09:59:36.767353Z",
     "start_time": "2023-08-10T09:59:36.740420Z"
    }
   }
  },
  {
   "cell_type": "code",
   "execution_count": 53,
   "outputs": [
    {
     "data": {
      "text/plain": "Polygon with 5 edges and 2 circumradius."
     },
     "execution_count": 53,
     "metadata": {},
     "output_type": "execute_result"
    }
   ],
   "source": [
    "ps[2]"
   ],
   "metadata": {
    "collapsed": false,
    "ExecuteTime": {
     "end_time": "2023-08-10T09:59:37.291987Z",
     "start_time": "2023-08-10T09:59:37.269683Z"
    }
   }
  },
  {
   "cell_type": "code",
   "execution_count": 54,
   "outputs": [
    {
     "data": {
      "text/plain": "6"
     },
     "execution_count": 54,
     "metadata": {},
     "output_type": "execute_result"
    }
   ],
   "source": [
    "len(ps)"
   ],
   "metadata": {
    "collapsed": false,
    "ExecuteTime": {
     "end_time": "2023-08-10T09:59:44.143463Z",
     "start_time": "2023-08-10T09:59:44.089253Z"
    }
   }
  },
  {
   "cell_type": "code",
   "execution_count": null,
   "outputs": [],
   "source": [],
   "metadata": {
    "collapsed": false
   }
  }
 ],
 "metadata": {
  "kernelspec": {
   "display_name": "Python 3",
   "language": "python",
   "name": "python3"
  },
  "language_info": {
   "codemirror_mode": {
    "name": "ipython",
    "version": 2
   },
   "file_extension": ".py",
   "mimetype": "text/x-python",
   "name": "python",
   "nbconvert_exporter": "python",
   "pygments_lexer": "ipython2",
   "version": "2.7.6"
  }
 },
 "nbformat": 4,
 "nbformat_minor": 0
}
