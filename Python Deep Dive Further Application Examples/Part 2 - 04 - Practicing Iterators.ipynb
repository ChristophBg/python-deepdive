{
 "cells": [
  {
   "cell_type": "markdown",
   "source": [
    "# iterating collections\n",
    "example: create object that randomly assigns to experimental versus control group. Call next on that as many times"
   ],
   "metadata": {
    "collapsed": false
   }
  },
  {
   "cell_type": "code",
   "execution_count": 5,
   "outputs": [],
   "source": [
    "#first creating class\n",
    "import random\n",
    "class ConditionAssingment:\n",
    "    '''assigns to intervention or control group'''\n",
    "    def __init__(self,N):\n",
    "        self.N = N\n",
    "\n",
    "    def __len__(self):\n",
    "        return self.N\n",
    "\n",
    "    def __repr__(self):\n",
    "        return f'Condition Assigngement object at memory address {id(self)}'\n",
    "\n",
    "    # defining next to make it possible to iterate over it\n",
    "    def __next__(self):\n",
    "\n",
    "        _rand_assignement = random.randint(0,1)\n",
    "        if _rand_assignement==0:\n",
    "            return \"control\"\n",
    "        if _rand_assignement==1:\n",
    "            return \"intervention\""
   ],
   "metadata": {
    "collapsed": false,
    "ExecuteTime": {
     "end_time": "2023-08-10T17:04:50.697278Z",
     "start_time": "2023-08-10T17:04:50.682611Z"
    }
   }
  },
  {
   "cell_type": "code",
   "execution_count": 7,
   "outputs": [],
   "source": [
    "cond = ConditionAssingment(2)"
   ],
   "metadata": {
    "collapsed": false,
    "ExecuteTime": {
     "end_time": "2023-08-10T17:05:07.470331Z",
     "start_time": "2023-08-10T17:05:07.451394Z"
    }
   }
  },
  {
   "cell_type": "code",
   "execution_count": 11,
   "outputs": [
    {
     "data": {
      "text/plain": "'control'"
     },
     "execution_count": 11,
     "metadata": {},
     "output_type": "execute_result"
    }
   ],
   "source": [
    "next(cond)"
   ],
   "metadata": {
    "collapsed": false,
    "ExecuteTime": {
     "end_time": "2023-08-10T17:05:20.484872Z",
     "start_time": "2023-08-10T17:05:20.442903Z"
    }
   }
  },
  {
   "cell_type": "code",
   "execution_count": 15,
   "outputs": [
    {
     "name": "stdout",
     "output_type": "stream",
     "text": [
      "intervention\n",
      "control\n",
      "control\n",
      "control\n",
      "intervention\n",
      "intervention\n",
      "control\n",
      "control\n",
      "intervention\n",
      "control\n"
     ]
    }
   ],
   "source": [
    "for _ in range(0,10):\n",
    "    print(next(cond))"
   ],
   "metadata": {
    "collapsed": false,
    "ExecuteTime": {
     "end_time": "2023-08-10T17:05:48.662331Z",
     "start_time": "2023-08-10T17:05:48.643249Z"
    }
   }
  },
  {
   "cell_type": "markdown",
   "source": [
    "## now also implementing the max length\n",
    "as in section 04, 01 iterating collections"
   ],
   "metadata": {
    "collapsed": false
   }
  },
  {
   "cell_type": "code",
   "execution_count": 16,
   "outputs": [],
   "source": [
    "\n",
    "class ConditionAssingment:\n",
    "    '''assigns to intervention or control group'''\n",
    "\n",
    "    def __init__(self, N):\n",
    "        self.N = N\n",
    "        self.num_requested = 0\n",
    "\n",
    "    def __len__(self):\n",
    "        return self.N\n",
    "\n",
    "    def __repr__(self):\n",
    "        return f'Condition Assigngement object at memory address {id(self)}'\n",
    "\n",
    "    # defining next to make it possible to iterate over it\n",
    "    def __next__(self):\n",
    "        if self.num_requested >= self.N:\n",
    "            raise StopIteration\n",
    "        else:\n",
    "            #incrementing counter\n",
    "            self.num_requested+=1\n",
    "\n",
    "            #returning random assingement\n",
    "            _rand_assignement = random.randint(0, 1)\n",
    "            if _rand_assignement == 0:\n",
    "                return \"control\"\n",
    "            if _rand_assignement == 1:\n",
    "                return \"intervention\""
   ],
   "metadata": {
    "collapsed": false,
    "ExecuteTime": {
     "end_time": "2023-08-10T17:09:24.190796Z",
     "start_time": "2023-08-10T17:09:24.117324Z"
    }
   }
  },
  {
   "cell_type": "code",
   "execution_count": 17,
   "outputs": [],
   "source": [
    "cond = ConditionAssingment(20)"
   ],
   "metadata": {
    "collapsed": false,
    "ExecuteTime": {
     "end_time": "2023-08-10T17:09:40.044882Z",
     "start_time": "2023-08-10T17:09:40.011896Z"
    }
   }
  },
  {
   "cell_type": "code",
   "execution_count": 18,
   "outputs": [
    {
     "name": "stdout",
     "output_type": "stream",
     "text": [
      "control\n",
      "control\n",
      "intervention\n",
      "control\n",
      "intervention\n",
      "intervention\n",
      "intervention\n",
      "intervention\n",
      "intervention\n",
      "intervention\n",
      "intervention\n",
      "control\n",
      "control\n",
      "intervention\n",
      "control\n",
      "intervention\n",
      "intervention\n",
      "control\n",
      "intervention\n",
      "control\n"
     ]
    }
   ],
   "source": [
    "while True:\n",
    "    try:\n",
    "        print(next(cond))\n",
    "    except StopIteration:\n",
    "        break"
   ],
   "metadata": {
    "collapsed": false,
    "ExecuteTime": {
     "end_time": "2023-08-10T17:10:51.917407Z",
     "start_time": "2023-08-10T17:10:51.856713Z"
    }
   }
  },
  {
   "cell_type": "markdown",
   "source": [
    "# add example of iterator within iterable as in 03"
   ],
   "metadata": {
    "collapsed": false
   }
  },
  {
   "cell_type": "code",
   "execution_count": null,
   "outputs": [],
   "source": [],
   "metadata": {
    "collapsed": false
   }
  }
 ],
 "metadata": {
  "kernelspec": {
   "display_name": "Python 3",
   "language": "python",
   "name": "python3"
  },
  "language_info": {
   "codemirror_mode": {
    "name": "ipython",
    "version": 2
   },
   "file_extension": ".py",
   "mimetype": "text/x-python",
   "name": "python",
   "nbconvert_exporter": "python",
   "pygments_lexer": "ipython2",
   "version": "2.7.6"
  }
 },
 "nbformat": 4,
 "nbformat_minor": 0
}
