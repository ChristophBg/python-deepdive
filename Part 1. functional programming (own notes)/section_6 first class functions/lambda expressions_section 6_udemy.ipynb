{
 "cells": [
  {
   "cell_type": "markdown",
   "id": "d37aa073",
   "metadata": {},
   "source": [
    "# lambda expressions\n",
    "also called anonymous functions.\n",
    "### Syntax:\n",
    "lambda [parameter list]: expression\n",
    "\n",
    "lambda is keyword for function creation, parameter list before \":\" is optiona, expression is like function body"
   ]
  },
  {
   "cell_type": "code",
   "execution_count": 5,
   "id": "54313ed0",
   "metadata": {},
   "outputs": [
    {
     "data": {
      "text/plain": [
       "<function __main__.<lambda>()>"
      ]
     },
     "execution_count": 5,
     "metadata": {},
     "output_type": "execute_result"
    }
   ],
   "source": [
    "lambda parameter : parameter*2\n",
    "lambda x,y : x*y\n",
    "lambda: print(\"hello\")"
   ]
  },
  {
   "cell_type": "code",
   "execution_count": 6,
   "id": "7f1fcb65",
   "metadata": {},
   "outputs": [
    {
     "data": {
      "text/plain": [
       "function"
      ]
     },
     "execution_count": 6,
     "metadata": {},
     "output_type": "execute_result"
    }
   ],
   "source": [
    "type(lambda x:x)"
   ]
  },
  {
   "cell_type": "code",
   "execution_count": 7,
   "id": "f4b34652",
   "metadata": {},
   "outputs": [
    {
     "data": {
      "text/plain": [
       "4"
      ]
     },
     "execution_count": 7,
     "metadata": {},
     "output_type": "execute_result"
    }
   ],
   "source": [
    "l_fct=lambda x : x**2\n",
    "l_fct(2)"
   ]
  },
  {
   "cell_type": "code",
   "execution_count": 14,
   "id": "b35ef0ee",
   "metadata": {},
   "outputs": [
    {
     "data": {
      "text/plain": [
       "4"
      ]
     },
     "execution_count": 14,
     "metadata": {},
     "output_type": "execute_result"
    }
   ],
   "source": [
    "# applying function on lambda, lambda can be passed to function (since it is an object)\n",
    "def apply_func(x,fn):\n",
    "    return fn(x)\n",
    "apply_func(2, lambda x : x**2)"
   ]
  },
  {
   "cell_type": "markdown",
   "id": "39cdb869",
   "metadata": {},
   "source": [
    "### default values\n",
    "can specify default values just like with normal functions:"
   ]
  },
  {
   "cell_type": "code",
   "execution_count": 11,
   "id": "3be0c855",
   "metadata": {},
   "outputs": [
    {
     "data": {
      "text/plain": [
       "20"
      ]
     },
     "execution_count": 11,
     "metadata": {},
     "output_type": "execute_result"
    }
   ],
   "source": [
    "l=lambda x, y=10 : x*y\n",
    "l(2)"
   ]
  },
  {
   "cell_type": "code",
   "execution_count": 15,
   "id": "744cb019",
   "metadata": {},
   "outputs": [
    {
     "data": {
      "text/plain": [
       "200"
      ]
     },
     "execution_count": 15,
     "metadata": {},
     "output_type": "execute_result"
    }
   ],
   "source": [
    "l(2,100)"
   ]
  },
  {
   "cell_type": "code",
   "execution_count": 25,
   "id": "5f7a75d3",
   "metadata": {},
   "outputs": [
    {
     "data": {
      "text/plain": [
       "[1, (2, 3, 3), 'a', {'r': 'b', 'z': 'c', 'q': 'd'}]"
      ]
     },
     "execution_count": 25,
     "metadata": {},
     "output_type": "execute_result"
    }
   ],
   "source": [
    "l=lambda x,*args,y=\"a\",**kwargs: [x,args,y,kwargs]\n",
    "l(1,2,3,3,r=\"b\",z=\"c\",q=\"d\")"
   ]
  },
  {
   "cell_type": "markdown",
   "id": "dcc99940",
   "metadata": {},
   "source": [
    "### limitations:\n",
    "Lambdas are limited to a single expression.\n",
    "--> Can't do variable assignements inside lambda. \n",
    "Can't have annotations."
   ]
  },
  {
   "cell_type": "code",
   "execution_count": 26,
   "id": "049576af",
   "metadata": {},
   "outputs": [
    {
     "data": {
      "text/plain": [
       "['A', 'G', 'R', 'b', 'h', 't']"
      ]
     },
     "execution_count": 26,
     "metadata": {},
     "output_type": "execute_result"
    }
   ],
   "source": [
    "# applied to sorted() method:\n",
    "l=[\"b\",\"R\",\"A\",\"t\",\"G\",\"h\"]\n",
    "sorted(l) #sorts according to order in ASCII table, upper/lower different"
   ]
  },
  {
   "cell_type": "code",
   "execution_count": 27,
   "id": "f7706f22",
   "metadata": {},
   "outputs": [
    {
     "name": "stdout",
     "output_type": "stream",
     "text": [
      "97 65\n"
     ]
    }
   ],
   "source": [
    "print(ord(\"a\"),ord(\"A\"))"
   ]
  },
  {
   "cell_type": "code",
   "execution_count": 28,
   "id": "ee793da8",
   "metadata": {},
   "outputs": [
    {
     "name": "stdout",
     "output_type": "stream",
     "text": [
      "Help on built-in function sorted in module builtins:\n",
      "\n",
      "sorted(iterable, /, *, key=None, reverse=False)\n",
      "    Return a new list containing all items from the iterable in ascending order.\n",
      "    \n",
      "    A custom key function can be supplied to customize the sort order, and the\n",
      "    reverse flag can be set to request the result in descending order.\n",
      "\n"
     ]
    }
   ],
   "source": [
    "help(sorted)"
   ]
  },
  {
   "cell_type": "code",
   "execution_count": 31,
   "id": "25896e71",
   "metadata": {},
   "outputs": [
    {
     "data": {
      "text/plain": [
       "['A', 'b', 'G', 'h', 'R', 't']"
      ]
     },
     "execution_count": 31,
     "metadata": {},
     "output_type": "execute_result"
    }
   ],
   "source": [
    "# use key in sorted to modify sorting:\n",
    "sorted(l, key= lambda ch : ch.upper())"
   ]
  },
  {
   "cell_type": "code",
   "execution_count": 35,
   "id": "4d6a3bad",
   "metadata": {},
   "outputs": [
    {
     "data": {
      "text/plain": [
       "['abc', 'def', 'ghi', 'jkl']"
      ]
     },
     "execution_count": 35,
     "metadata": {},
     "output_type": "execute_result"
    }
   ],
   "source": [
    "# used with sorting dictionary:\n",
    "d={'abc':500,'def':100,'ghi':700,'jkl':300}\n",
    "sorted(d) # gives keys in order of them being sorted"
   ]
  },
  {
   "cell_type": "code",
   "execution_count": 37,
   "id": "bf6f8175",
   "metadata": {},
   "outputs": [
    {
     "data": {
      "text/plain": [
       "['def', 'jkl', 'abc', 'ghi']"
      ]
     },
     "execution_count": 37,
     "metadata": {},
     "output_type": "execute_result"
    }
   ],
   "source": [
    "sorted(d,key=lambda ky: d[ky]) #now gives keys sorted according to value"
   ]
  },
  {
   "cell_type": "code",
   "execution_count": 39,
   "id": "9790ebc8",
   "metadata": {},
   "outputs": [
    {
     "data": {
      "text/plain": [
       "['Katharina', 'Isabella', 'Christoph', 'Claus']"
      ]
     },
     "execution_count": 39,
     "metadata": {},
     "output_type": "execute_result"
    }
   ],
   "source": [
    "# sort names by last character:\n",
    "l=[\"Christoph\", \"Katharina\", \"Isabella\",\"Claus\"]\n",
    "sorted(l, key=lambda n : n[-1]) #if sorting is tied, returns order as itwas defined in input list"
   ]
  },
  {
   "cell_type": "code",
   "execution_count": 40,
   "id": "f361821b",
   "metadata": {},
   "outputs": [
    {
     "name": "stdout",
     "output_type": "stream",
     "text": [
      "Help on built-in function random:\n",
      "\n",
      "random(...) method of random.Random instance\n",
      "    random() -> x in the interval [0, 1).\n",
      "\n"
     ]
    }
   ],
   "source": [
    "# shuffling list with lambda and sorted\n",
    "import random\n",
    "l=[1,2,3,4,5,6,7,8,9,10]\n",
    "help(random.random)"
   ]
  },
  {
   "cell_type": "code",
   "execution_count": 50,
   "id": "cdf2cb05",
   "metadata": {},
   "outputs": [
    {
     "data": {
      "text/plain": [
       "[9, 4, 6, 2, 3, 10, 8, 5, 7, 1]"
      ]
     },
     "execution_count": 50,
     "metadata": {},
     "output_type": "execute_result"
    }
   ],
   "source": [
    "sorted(l, key= lambda x : random.random())"
   ]
  }
 ],
 "metadata": {
  "kernelspec": {
   "display_name": "Python 3 (ipykernel)",
   "language": "python",
   "name": "python3"
  },
  "language_info": {
   "codemirror_mode": {
    "name": "ipython",
    "version": 3
   },
   "file_extension": ".py",
   "mimetype": "text/x-python",
   "name": "python",
   "nbconvert_exporter": "python",
   "pygments_lexer": "ipython3",
   "version": "3.9.7"
  }
 },
 "nbformat": 4,
 "nbformat_minor": 5
}
