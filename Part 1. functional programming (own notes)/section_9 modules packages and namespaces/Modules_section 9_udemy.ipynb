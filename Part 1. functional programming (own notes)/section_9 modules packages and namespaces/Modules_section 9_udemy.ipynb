{
 "cells": [
  {
   "cell_type": "markdown",
   "id": "94d94b27",
   "metadata": {},
   "source": [
    "# Modules"
   ]
  },
  {
   "cell_type": "markdown",
   "id": "baaedcdc",
   "metadata": {},
   "source": [
    "modules are object of the module type."
   ]
  },
  {
   "cell_type": "code",
   "execution_count": 1,
   "id": "424cf2b3",
   "metadata": {},
   "outputs": [
    {
     "data": {
      "text/plain": [
       "module"
      ]
     },
     "execution_count": 1,
     "metadata": {},
     "output_type": "execute_result"
    }
   ],
   "source": [
    "import numpy\n",
    "type(numpy)"
   ]
  },
  {
   "cell_type": "code",
   "execution_count": 2,
   "id": "deb72a36",
   "metadata": {},
   "outputs": [
    {
     "data": {
      "text/plain": [
       "140313120724928"
      ]
     },
     "execution_count": 2,
     "metadata": {},
     "output_type": "execute_result"
    }
   ],
   "source": [
    "id(numpy)"
   ]
  },
  {
   "cell_type": "code",
   "execution_count": 3,
   "id": "8146883d",
   "metadata": {},
   "outputs": [
    {
     "data": {
      "text/plain": [
       "{'__name__': '__main__',\n",
       " '__doc__': 'Automatically created module for IPython interactive environment',\n",
       " '__package__': None,\n",
       " '__loader__': None,\n",
       " '__spec__': None,\n",
       " '__builtin__': <module 'builtins' (built-in)>,\n",
       " '__builtins__': <module 'builtins' (built-in)>,\n",
       " '_ih': ['', 'import numpy\\ntype(numpy)', 'id(numpy)', 'globals()'],\n",
       " '_oh': {1: module, 2: 140313120724928},\n",
       " '_dh': ['/Users/christoph/Documents/Code/learning/udemy/section_9 modules packages and namespaces'],\n",
       " 'In': ['', 'import numpy\\ntype(numpy)', 'id(numpy)', 'globals()'],\n",
       " 'Out': {1: module, 2: 140313120724928},\n",
       " 'get_ipython': <bound method InteractiveShell.get_ipython of <ipykernel.zmqshell.ZMQInteractiveShell object at 0x7f9d31a988e0>>,\n",
       " 'exit': <IPython.core.autocall.ZMQExitAutocall at 0x7f9d31b04f40>,\n",
       " 'quit': <IPython.core.autocall.ZMQExitAutocall at 0x7f9d31b04f40>,\n",
       " '_': 140313120724928,\n",
       " '__': module,\n",
       " '___': '',\n",
       " '_i': 'id(numpy)',\n",
       " '_ii': 'import numpy\\ntype(numpy)',\n",
       " '_iii': '',\n",
       " '_i1': 'import numpy\\ntype(numpy)',\n",
       " 'numpy': <module 'numpy' from '/Applications/anaconda3/lib/python3.8/site-packages/numpy/__init__.py'>,\n",
       " '_1': module,\n",
       " '_i2': 'id(numpy)',\n",
       " '_2': 140313120724928,\n",
       " '_i3': 'globals()'}"
      ]
     },
     "execution_count": 3,
     "metadata": {},
     "output_type": "execute_result"
    }
   ],
   "source": [
    "globals()"
   ]
  },
  {
   "cell_type": "code",
   "execution_count": 4,
   "id": "e31124ce",
   "metadata": {},
   "outputs": [
    {
     "data": {
      "text/plain": [
       "{'__name__': '__main__',\n",
       " '__doc__': 'Automatically created module for IPython interactive environment',\n",
       " '__package__': None,\n",
       " '__loader__': None,\n",
       " '__spec__': None,\n",
       " '__builtin__': <module 'builtins' (built-in)>,\n",
       " '__builtins__': <module 'builtins' (built-in)>,\n",
       " '_ih': ['',\n",
       "  'import numpy\\ntype(numpy)',\n",
       "  'id(numpy)',\n",
       "  'globals()',\n",
       "  'a=100\\nglobals()'],\n",
       " '_oh': {1: module, 2: 140313120724928, 3: {...}},\n",
       " '_dh': ['/Users/christoph/Documents/Code/learning/udemy/section_9 modules packages and namespaces'],\n",
       " 'In': ['',\n",
       "  'import numpy\\ntype(numpy)',\n",
       "  'id(numpy)',\n",
       "  'globals()',\n",
       "  'a=100\\nglobals()'],\n",
       " 'Out': {1: module, 2: 140313120724928, 3: {...}},\n",
       " 'get_ipython': <bound method InteractiveShell.get_ipython of <ipykernel.zmqshell.ZMQInteractiveShell object at 0x7f9d31a988e0>>,\n",
       " 'exit': <IPython.core.autocall.ZMQExitAutocall at 0x7f9d31b04f40>,\n",
       " 'quit': <IPython.core.autocall.ZMQExitAutocall at 0x7f9d31b04f40>,\n",
       " '_': {...},\n",
       " '__': 140313120724928,\n",
       " '___': module,\n",
       " '_i': 'globals()',\n",
       " '_ii': 'id(numpy)',\n",
       " '_iii': 'import numpy\\ntype(numpy)',\n",
       " '_i1': 'import numpy\\ntype(numpy)',\n",
       " 'numpy': <module 'numpy' from '/Applications/anaconda3/lib/python3.8/site-packages/numpy/__init__.py'>,\n",
       " '_1': module,\n",
       " '_i2': 'id(numpy)',\n",
       " '_2': 140313120724928,\n",
       " '_i3': 'globals()',\n",
       " '_3': {...},\n",
       " '_i4': 'a=100\\nglobals()',\n",
       " 'a': 100}"
      ]
     },
     "execution_count": 4,
     "metadata": {},
     "output_type": "execute_result"
    }
   ],
   "source": [
    "a=100\n",
    "globals()"
   ]
  },
  {
   "cell_type": "code",
   "execution_count": 5,
   "id": "097acbc3",
   "metadata": {},
   "outputs": [],
   "source": [
    "def func():\n",
    "    a=10\n",
    "    b=200\n",
    "    return locals()"
   ]
  },
  {
   "cell_type": "code",
   "execution_count": 6,
   "id": "3c198d1b",
   "metadata": {},
   "outputs": [
    {
     "data": {
      "text/plain": [
       "{'a': 10, 'b': 200}"
      ]
     },
     "execution_count": 6,
     "metadata": {},
     "output_type": "execute_result"
    }
   ],
   "source": [
    "func()"
   ]
  },
  {
   "cell_type": "code",
   "execution_count": 7,
   "id": "d15e5523",
   "metadata": {},
   "outputs": [
    {
     "data": {
      "text/plain": [
       "{'__name__': '__main__',\n",
       " '__doc__': 'Automatically created module for IPython interactive environment',\n",
       " '__package__': None,\n",
       " '__loader__': None,\n",
       " '__spec__': None,\n",
       " '__builtin__': <module 'builtins' (built-in)>,\n",
       " '__builtins__': <module 'builtins' (built-in)>,\n",
       " '_ih': ['',\n",
       "  'import numpy\\ntype(numpy)',\n",
       "  'id(numpy)',\n",
       "  'globals()',\n",
       "  'a=100\\nglobals()',\n",
       "  'def func():\\n    a=10\\n    b=200\\n    return locals()',\n",
       "  'func()',\n",
       "  'globals()'],\n",
       " '_oh': {1: module,\n",
       "  2: 140313120724928,\n",
       "  3: {...},\n",
       "  4: {...},\n",
       "  6: {'a': 10, 'b': 200}},\n",
       " '_dh': ['/Users/christoph/Documents/Code/learning/udemy/section_9 modules packages and namespaces'],\n",
       " 'In': ['',\n",
       "  'import numpy\\ntype(numpy)',\n",
       "  'id(numpy)',\n",
       "  'globals()',\n",
       "  'a=100\\nglobals()',\n",
       "  'def func():\\n    a=10\\n    b=200\\n    return locals()',\n",
       "  'func()',\n",
       "  'globals()'],\n",
       " 'Out': {1: module,\n",
       "  2: 140313120724928,\n",
       "  3: {...},\n",
       "  4: {...},\n",
       "  6: {'a': 10, 'b': 200}},\n",
       " 'get_ipython': <bound method InteractiveShell.get_ipython of <ipykernel.zmqshell.ZMQInteractiveShell object at 0x7f9d31a988e0>>,\n",
       " 'exit': <IPython.core.autocall.ZMQExitAutocall at 0x7f9d31b04f40>,\n",
       " 'quit': <IPython.core.autocall.ZMQExitAutocall at 0x7f9d31b04f40>,\n",
       " '_': {'a': 10, 'b': 200},\n",
       " '__': {...},\n",
       " '___': {...},\n",
       " '_i': 'func()',\n",
       " '_ii': 'def func():\\n    a=10\\n    b=200\\n    return locals()',\n",
       " '_iii': 'a=100\\nglobals()',\n",
       " '_i1': 'import numpy\\ntype(numpy)',\n",
       " 'numpy': <module 'numpy' from '/Applications/anaconda3/lib/python3.8/site-packages/numpy/__init__.py'>,\n",
       " '_1': module,\n",
       " '_i2': 'id(numpy)',\n",
       " '_2': 140313120724928,\n",
       " '_i3': 'globals()',\n",
       " '_3': {...},\n",
       " '_i4': 'a=100\\nglobals()',\n",
       " 'a': 100,\n",
       " '_4': {...},\n",
       " '_i5': 'def func():\\n    a=10\\n    b=200\\n    return locals()',\n",
       " 'func': <function __main__.func()>,\n",
       " '_i6': 'func()',\n",
       " '_6': {'a': 10, 'b': 200},\n",
       " '_i7': 'globals()'}"
      ]
     },
     "execution_count": 7,
     "metadata": {},
     "output_type": "execute_result"
    }
   ],
   "source": [
    "globals()"
   ]
  },
  {
   "cell_type": "markdown",
   "id": "25b70741",
   "metadata": {},
   "source": [
    " a is 100 in global, but 10 in local, b is not in global"
   ]
  },
  {
   "cell_type": "code",
   "execution_count": 8,
   "id": "71a27cbb",
   "metadata": {},
   "outputs": [
    {
     "data": {
      "text/plain": [
       "dict"
      ]
     },
     "execution_count": 8,
     "metadata": {},
     "output_type": "execute_result"
    }
   ],
   "source": [
    "type(globals())"
   ]
  },
  {
   "cell_type": "code",
   "execution_count": 9,
   "id": "935055f0",
   "metadata": {},
   "outputs": [],
   "source": [
    "#built in function:\n",
    "import math"
   ]
  },
  {
   "cell_type": "code",
   "execution_count": 10,
   "id": "a7533bdf",
   "metadata": {},
   "outputs": [
    {
     "data": {
      "text/plain": [
       "<module 'math' from '/Applications/anaconda3/lib/python3.8/lib-dynload/math.cpython-38-darwin.so'>"
      ]
     },
     "execution_count": 10,
     "metadata": {},
     "output_type": "execute_result"
    }
   ],
   "source": [
    "math"
   ]
  },
  {
   "cell_type": "markdown",
   "id": "156845b6",
   "metadata": {},
   "source": [
    "built ins are implemeted in cpython"
   ]
  },
  {
   "cell_type": "code",
   "execution_count": 11,
   "id": "a2ef3898",
   "metadata": {},
   "outputs": [],
   "source": [
    "import fractions"
   ]
  },
  {
   "cell_type": "code",
   "execution_count": 12,
   "id": "0251534e",
   "metadata": {},
   "outputs": [
    {
     "data": {
      "text/plain": [
       "<module 'fractions' from '/Applications/anaconda3/lib/python3.8/fractions.py'>"
      ]
     },
     "execution_count": 12,
     "metadata": {},
     "output_type": "execute_result"
    }
   ],
   "source": [
    "fractions #not built in, comes with anaconda "
   ]
  },
  {
   "cell_type": "markdown",
   "id": "3628ddb1",
   "metadata": {},
   "source": [
    "looking at contents of module:"
   ]
  },
  {
   "cell_type": "code",
   "execution_count": 13,
   "id": "d3f9c147",
   "metadata": {},
   "outputs": [
    {
     "data": {
      "text/plain": [
       "{'__name__': 'math',\n",
       " '__doc__': 'This module provides access to the mathematical functions\\ndefined by the C standard.',\n",
       " '__package__': '',\n",
       " '__loader__': <_frozen_importlib_external.ExtensionFileLoader at 0x7f9d2f3a4970>,\n",
       " '__spec__': ModuleSpec(name='math', loader=<_frozen_importlib_external.ExtensionFileLoader object at 0x7f9d2f3a4970>, origin='/Applications/anaconda3/lib/python3.8/lib-dynload/math.cpython-38-darwin.so'),\n",
       " 'acos': <function math.acos(x, /)>,\n",
       " 'acosh': <function math.acosh(x, /)>,\n",
       " 'asin': <function math.asin(x, /)>,\n",
       " 'asinh': <function math.asinh(x, /)>,\n",
       " 'atan': <function math.atan(x, /)>,\n",
       " 'atan2': <function math.atan2(y, x, /)>,\n",
       " 'atanh': <function math.atanh(x, /)>,\n",
       " 'ceil': <function math.ceil(x, /)>,\n",
       " 'copysign': <function math.copysign(x, y, /)>,\n",
       " 'cos': <function math.cos(x, /)>,\n",
       " 'cosh': <function math.cosh(x, /)>,\n",
       " 'degrees': <function math.degrees(x, /)>,\n",
       " 'dist': <function math.dist(p, q, /)>,\n",
       " 'erf': <function math.erf(x, /)>,\n",
       " 'erfc': <function math.erfc(x, /)>,\n",
       " 'exp': <function math.exp(x, /)>,\n",
       " 'expm1': <function math.expm1(x, /)>,\n",
       " 'fabs': <function math.fabs(x, /)>,\n",
       " 'factorial': <function math.factorial(x, /)>,\n",
       " 'floor': <function math.floor(x, /)>,\n",
       " 'fmod': <function math.fmod(x, y, /)>,\n",
       " 'frexp': <function math.frexp(x, /)>,\n",
       " 'fsum': <function math.fsum(seq, /)>,\n",
       " 'gamma': <function math.gamma(x, /)>,\n",
       " 'gcd': <function math.gcd(x, y, /)>,\n",
       " 'hypot': <function math.hypot>,\n",
       " 'isclose': <function math.isclose(a, b, *, rel_tol=1e-09, abs_tol=0.0)>,\n",
       " 'isfinite': <function math.isfinite(x, /)>,\n",
       " 'isinf': <function math.isinf(x, /)>,\n",
       " 'isnan': <function math.isnan(x, /)>,\n",
       " 'isqrt': <function math.isqrt(n, /)>,\n",
       " 'ldexp': <function math.ldexp(x, i, /)>,\n",
       " 'lgamma': <function math.lgamma(x, /)>,\n",
       " 'log': <function math.log>,\n",
       " 'log1p': <function math.log1p(x, /)>,\n",
       " 'log10': <function math.log10(x, /)>,\n",
       " 'log2': <function math.log2(x, /)>,\n",
       " 'modf': <function math.modf(x, /)>,\n",
       " 'pow': <function math.pow(x, y, /)>,\n",
       " 'radians': <function math.radians(x, /)>,\n",
       " 'remainder': <function math.remainder(x, y, /)>,\n",
       " 'sin': <function math.sin(x, /)>,\n",
       " 'sinh': <function math.sinh(x, /)>,\n",
       " 'sqrt': <function math.sqrt(x, /)>,\n",
       " 'tan': <function math.tan(x, /)>,\n",
       " 'tanh': <function math.tanh(x, /)>,\n",
       " 'trunc': <function math.trunc(x, /)>,\n",
       " 'prod': <function math.prod(iterable, /, *, start=1)>,\n",
       " 'perm': <function math.perm(n, k=None, /)>,\n",
       " 'comb': <function math.comb(n, k, /)>,\n",
       " 'pi': 3.141592653589793,\n",
       " 'e': 2.718281828459045,\n",
       " 'tau': 6.283185307179586,\n",
       " 'inf': inf,\n",
       " 'nan': nan,\n",
       " '__file__': '/Applications/anaconda3/lib/python3.8/lib-dynload/math.cpython-38-darwin.so'}"
      ]
     },
     "execution_count": 13,
     "metadata": {},
     "output_type": "execute_result"
    }
   ],
   "source": [
    "math.__dict__"
   ]
  },
  {
   "cell_type": "code",
   "execution_count": 14,
   "id": "59613f19",
   "metadata": {},
   "outputs": [],
   "source": [
    "# can get functions then via their dict key:\n",
    "f=math.__dict__['log']"
   ]
  },
  {
   "cell_type": "code",
   "execution_count": 15,
   "id": "4cde543c",
   "metadata": {},
   "outputs": [
    {
     "data": {
      "text/plain": [
       "2.302585092994046"
      ]
     },
     "execution_count": 15,
     "metadata": {},
     "output_type": "execute_result"
    }
   ],
   "source": [
    "f(10)"
   ]
  },
  {
   "cell_type": "code",
   "execution_count": 16,
   "id": "88eb3584",
   "metadata": {},
   "outputs": [],
   "source": [
    "import sys"
   ]
  },
  {
   "cell_type": "code",
   "execution_count": 17,
   "id": "88e80dab",
   "metadata": {},
   "outputs": [
    {
     "data": {
      "text/plain": [
       "'/Applications/anaconda3'"
      ]
     },
     "execution_count": 17,
     "metadata": {},
     "output_type": "execute_result"
    }
   ],
   "source": [
    "sys.prefix"
   ]
  },
  {
   "cell_type": "markdown",
   "id": "ed8846c6",
   "metadata": {},
   "source": [
    "where python is implemented"
   ]
  },
  {
   "cell_type": "code",
   "execution_count": 18,
   "id": "3538bfb8",
   "metadata": {},
   "outputs": [
    {
     "data": {
      "text/plain": [
       "['/Users/christoph/Documents/Code/learning/udemy/section_9 modules packages and namespaces',\n",
       " '/Applications/anaconda3/lib/python38.zip',\n",
       " '/Applications/anaconda3/lib/python3.8',\n",
       " '/Applications/anaconda3/lib/python3.8/lib-dynload',\n",
       " '',\n",
       " '/Applications/anaconda3/lib/python3.8/site-packages',\n",
       " '/Applications/anaconda3/lib/python3.8/site-packages/aeosa',\n",
       " '/Applications/anaconda3/lib/python3.8/site-packages/locket-0.2.1-py3.8.egg',\n",
       " '/Applications/anaconda3/lib/python3.8/site-packages/IPython/extensions',\n",
       " '/Users/christoph/.ipython']"
      ]
     },
     "execution_count": 18,
     "metadata": {},
     "output_type": "execute_result"
    }
   ],
   "source": [
    "sys.path"
   ]
  },
  {
   "cell_type": "markdown",
   "id": "0b746198",
   "metadata": {},
   "source": [
    "where the code lies that is used."
   ]
  },
  {
   "cell_type": "code",
   "execution_count": 20,
   "id": "8f4206fe",
   "metadata": {},
   "outputs": [
    {
     "data": {
      "text/plain": [
       "'__main__'"
      ]
     },
     "execution_count": 20,
     "metadata": {},
     "output_type": "execute_result"
    }
   ],
   "source": [
    "# the main module:\n",
    "__name__"
   ]
  },
  {
   "cell_type": "markdown",
   "id": "8a3672fb",
   "metadata": {},
   "source": [
    "### misconceptions"
   ]
  },
  {
   "cell_type": "markdown",
   "id": "0819468b",
   "metadata": {},
   "source": [
    "only loading parts of a module doesn't make the code run faster, whole module is always loaded but then only the parts included in global environemt"
   ]
  },
  {
   "cell_type": "markdown",
   "id": "e8cbf37a",
   "metadata": {},
   "source": [
    "but importing the symbol directly is slightly faster, i.e. math.sqrt(2) is slower than \"from math import sqrt\" and sqrt(2). That is a very small difference though!!!"
   ]
  },
  {
   "cell_type": "markdown",
   "id": "ad02b0f9",
   "metadata": {},
   "source": [
    "### re-import / more than one import command"
   ]
  },
  {
   "cell_type": "markdown",
   "id": "f509bdac",
   "metadata": {},
   "source": [
    "if module was already imported, it is in sys.modules dictionary. If there is another load command, it is not reloaded since python first checks that it is in sys.modules. --> no problem if I call a self-written function in a script and load a module in the outer script as well as the function."
   ]
  },
  {
   "cell_type": "markdown",
   "id": "d6c818d2",
   "metadata": {},
   "source": [
    "if i really want to reload a module, i should use the importlib module with (importlib.reload(module), but shouldn't do that!"
   ]
  },
  {
   "cell_type": "code",
   "execution_count": null,
   "id": "19c21f87",
   "metadata": {},
   "outputs": [],
   "source": []
  },
  {
   "cell_type": "code",
   "execution_count": null,
   "id": "55e1832f",
   "metadata": {},
   "outputs": [],
   "source": []
  }
 ],
 "metadata": {
  "kernelspec": {
   "display_name": "Python 3",
   "language": "python",
   "name": "python3"
  },
  "language_info": {
   "codemirror_mode": {
    "name": "ipython",
    "version": 3
   },
   "file_extension": ".py",
   "mimetype": "text/x-python",
   "name": "python",
   "nbconvert_exporter": "python",
   "pygments_lexer": "ipython3",
   "version": "3.8.8"
  }
 },
 "nbformat": 4,
 "nbformat_minor": 5
}
