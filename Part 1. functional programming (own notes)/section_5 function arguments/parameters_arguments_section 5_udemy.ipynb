{
 "cells": [
  {
   "cell_type": "markdown",
   "id": "executive-wallpaper",
   "metadata": {},
   "source": [
    "### functional arguments and parameters"
   ]
  },
  {
   "cell_type": "code",
   "execution_count": 3,
   "id": "middle-pantyhose",
   "metadata": {},
   "outputs": [],
   "source": [
    "def my_func(a,b):\n",
    "    #code here\n",
    "    return None"
   ]
  },
  {
   "cell_type": "markdown",
   "id": "registered-reputation",
   "metadata": {},
   "source": [
    "here a,b are parameters, when defining the function"
   ]
  },
  {
   "cell_type": "code",
   "execution_count": 6,
   "id": "korean-request",
   "metadata": {},
   "outputs": [],
   "source": [
    "x=y=0\n",
    "my_func(x,y)"
   ]
  },
  {
   "cell_type": "markdown",
   "id": "behavioral-draft",
   "metadata": {},
   "source": [
    "here a,b are arguments being passed into the function that is called"
   ]
  },
  {
   "cell_type": "markdown",
   "id": "trained-horizon",
   "metadata": {},
   "source": [
    "## assigning parameters\n",
    "by position most cmmon, i.e. order in which they are passed.\n",
    "assigning default values to parameters makes it optional parameter, i.e. don't need to assign value."
   ]
  },
  {
   "cell_type": "markdown",
   "id": "biblical-bulgaria",
   "metadata": {},
   "source": [
    "positional arguments must come before named parameters!  \n",
    "NOT: def my_func(a,b=100,c): ... but def my_func(a,c,b=100):...\n",
    "assigning values to specific parameters through keyword arguments, e.g. my_func(10,c=10)\n",
    "\n",
    "once starting with default value for positional argument, all positional arguments after that need default value (except for *args), not the case for keyword arguments."
   ]
  },
  {
   "cell_type": "markdown",
   "id": "attached-opening",
   "metadata": {},
   "source": [
    "## *args\n",
    " '* variable in function definition takes in all positional arguments into one tuple. Allwos to enter arbitrary number of parameters in addition to positional parameters in function."
   ]
  },
  {
   "cell_type": "code",
   "execution_count": 26,
   "id": "important-examination",
   "metadata": {},
   "outputs": [
    {
     "name": "stdout",
     "output_type": "stream",
     "text": [
      "a: 5 b: 5 c: (5, 5, 5)\n"
     ]
    },
    {
     "data": {
      "text/plain": [
       "25"
      ]
     },
     "execution_count": 26,
     "metadata": {},
     "output_type": "execute_result"
    }
   ],
   "source": [
    "def my_func(a=10,b=20,*c):\n",
    "    print('a:',a,'b:',b,'c:',c)\n",
    "    return a+b+sum(c)\n",
    "my_func(5,5,5,5,5)"
   ]
  },
  {
   "cell_type": "code",
   "execution_count": 31,
   "id": "planned-pontiac",
   "metadata": {},
   "outputs": [
    {
     "data": {
      "text/plain": [
       "((10, 12), (13,))"
      ]
     },
     "execution_count": 31,
     "metadata": {},
     "output_type": "execute_result"
    }
   ],
   "source": [
    "def my_func2(arg1,arg2,*args):\n",
    "    return (arg1,arg2), args\n",
    "# can call function with two or more arguments\n",
    "my_func2(10,12,13)"
   ]
  },
  {
   "cell_type": "code",
   "execution_count": 37,
   "id": "suffering-ghana",
   "metadata": {},
   "outputs": [
    {
     "data": {
      "text/plain": [
       "1.5"
      ]
     },
     "execution_count": 37,
     "metadata": {},
     "output_type": "execute_result"
    }
   ],
   "source": [
    "def avg(*args:int):\n",
    "    #return 0 if not args else sum(args)/len(args) #zerodivision error catch\n",
    "    return len(args) and sum(args)/len(args) #same as above, \"short circuiting\", see lecture on booleans\n",
    "avg(1,2)"
   ]
  },
  {
   "cell_type": "code",
   "execution_count": 38,
   "id": "sorted-affiliation",
   "metadata": {},
   "outputs": [
    {
     "data": {
      "text/plain": [
       "('a:', 10, 'b:', 20, 'c:', 30)"
      ]
     },
     "execution_count": 38,
     "metadata": {},
     "output_type": "execute_result"
    }
   ],
   "source": [
    "# unpacking list in function call:\n",
    "def my_func3(a,b,c):\n",
    "    return (\"a:\",a,'b:',b,'c:',c)\n",
    "l=[10,20,30]\n",
    "my_func3(*l) # <--"
   ]
  },
  {
   "cell_type": "markdown",
   "id": "heavy-institute",
   "metadata": {},
   "source": [
    "### keyword arguments\n",
    " don't have to keep order of arguments in mind, unlike with positional arguments.\n",
    " need to have exhausted all positional arguments before keyword argument"
   ]
  },
  {
   "cell_type": "code",
   "execution_count": 47,
   "id": "soviet-notice",
   "metadata": {},
   "outputs": [
    {
     "data": {
      "text/plain": [
       "(1, 2, 3)"
      ]
     },
     "execution_count": 47,
     "metadata": {},
     "output_type": "execute_result"
    }
   ],
   "source": [
    "def func(a,b,c):\n",
    "    return a,b,c\n",
    "func(1,c=3,b=2) #once start with keyword argument have to continue"
   ]
  },
  {
   "cell_type": "code",
   "execution_count": 46,
   "id": "needed-charm",
   "metadata": {},
   "outputs": [
    {
     "name": "stdout",
     "output_type": "stream",
     "text": [
      "(30, 40, 50)\n",
      "60\n"
     ]
    }
   ],
   "source": [
    "def my_func(a,b,*c,d):\n",
    "    print(c)\n",
    "    print(d) # has to be specified as keyword argument\n",
    "my_func(10,20,30,40,50,d=60) # need to have at least two positional arguments and the keywoard argument"
   ]
  },
  {
   "cell_type": "code",
   "execution_count": 41,
   "id": "identified-davis",
   "metadata": {},
   "outputs": [
    {
     "name": "stdout",
     "output_type": "stream",
     "text": [
      "(10, 20, 30, 'a')\n",
      "100\n"
     ]
    }
   ],
   "source": [
    "def my_func(*a,b):\n",
    "    print(a)\n",
    "    print(b)\n",
    "my_func(10,20,30,'a',b=100)"
   ]
  },
  {
   "cell_type": "code",
   "execution_count": 42,
   "id": "matched-wholesale",
   "metadata": {},
   "outputs": [
    {
     "name": "stdout",
     "output_type": "stream",
     "text": [
      "()\n",
      "that's sufficient\n"
     ]
    }
   ],
   "source": [
    "my_func(b='that\\'s sufficient')"
   ]
  },
  {
   "cell_type": "code",
   "execution_count": 44,
   "id": "unavailable-landscape",
   "metadata": {},
   "outputs": [
    {
     "ename": "TypeError",
     "evalue": "my_func() takes 0 positional arguments but 1 positional argument (and 1 keyword-only argument) were given",
     "output_type": "error",
     "traceback": [
      "\u001b[0;31m---------------------------------------------------------------------------\u001b[0m",
      "\u001b[0;31mTypeError\u001b[0m                                 Traceback (most recent call last)",
      "\u001b[0;32m<ipython-input-44-b4d8207cb599>\u001b[0m in \u001b[0;36m<module>\u001b[0;34m\u001b[0m\n\u001b[1;32m      2\u001b[0m \u001b[0;32mdef\u001b[0m \u001b[0mmy_func\u001b[0m\u001b[0;34m(\u001b[0m\u001b[0;34m*\u001b[0m\u001b[0;34m,\u001b[0m\u001b[0ma\u001b[0m\u001b[0;34m)\u001b[0m\u001b[0;34m:\u001b[0m\u001b[0;34m\u001b[0m\u001b[0;34m\u001b[0m\u001b[0m\n\u001b[1;32m      3\u001b[0m     \u001b[0mprint\u001b[0m\u001b[0;34m(\u001b[0m\u001b[0ma\u001b[0m\u001b[0;34m)\u001b[0m\u001b[0;34m\u001b[0m\u001b[0;34m\u001b[0m\u001b[0m\n\u001b[0;32m----> 4\u001b[0;31m \u001b[0mmy_func\u001b[0m\u001b[0;34m(\u001b[0m\u001b[0;36m10\u001b[0m\u001b[0;34m,\u001b[0m \u001b[0ma\u001b[0m\u001b[0;34m=\u001b[0m\u001b[0;34m'a'\u001b[0m\u001b[0;34m)\u001b[0m\u001b[0;34m\u001b[0m\u001b[0;34m\u001b[0m\u001b[0m\n\u001b[0m",
      "\u001b[0;31mTypeError\u001b[0m: my_func() takes 0 positional arguments but 1 positional argument (and 1 keyword-only argument) were given"
     ]
    }
   ],
   "source": [
    "# forcing no positional arguments:\n",
    "def my_func(*,a):\n",
    "    print(a)\n",
    "my_func(10, a='a')"
   ]
  },
  {
   "cell_type": "code",
   "execution_count": 45,
   "id": "destroyed-terrace",
   "metadata": {},
   "outputs": [
    {
     "name": "stdout",
     "output_type": "stream",
     "text": [
      "A\n"
     ]
    }
   ],
   "source": [
    "my_func(a='A')"
   ]
  },
  {
   "cell_type": "code",
   "execution_count": 48,
   "id": "encouraging-louisville",
   "metadata": {},
   "outputs": [
    {
     "name": "stdout",
     "output_type": "stream",
     "text": [
      "1 2 4\n"
     ]
    }
   ],
   "source": [
    "# accepts two positional paramenters and no more, plus one keyword argument:\n",
    "def func(a,b,*,d):\n",
    "    print(a,b,d)\n",
    "func(1,2,d=4)"
   ]
  },
  {
   "cell_type": "code",
   "execution_count": 53,
   "id": "little-universe",
   "metadata": {},
   "outputs": [
    {
     "name": "stdout",
     "output_type": "stream",
     "text": [
      "1 two (3, 4, 5) a b\n"
     ]
    }
   ],
   "source": [
    "#many possible combinations\n",
    "def func(a,b=1,*c,d=0,e):\n",
    "    print(a,b,c,d,e)\n",
    "func(1,\"two\",3,4,5,d=\"a\",e=\"b\")"
   ]
  },
  {
   "cell_type": "markdown",
   "id": "regulated-screening",
   "metadata": {},
   "source": [
    "## **kwargs\n",
    "scoops up any additional keyword arguments, much like *args takes up any additional positional arguments\n",
    "stores the keyword arguments in a dictionary."
   ]
  },
  {
   "cell_type": "code",
   "execution_count": 61,
   "id": "played-novel",
   "metadata": {},
   "outputs": [
    {
     "name": "stdout",
     "output_type": "stream",
     "text": [
      "{'d': 'a', 'e': 'b'}\n"
     ]
    }
   ],
   "source": [
    "def func(a,b,c=\"kw arg\",**kwargs):\n",
    "    print(kwargs)\n",
    "    return None\n",
    "func(1,2,c=0,d=\"a\",e=\"b\")"
   ]
  },
  {
   "cell_type": "code",
   "execution_count": 62,
   "id": "mathematical-nursing",
   "metadata": {},
   "outputs": [
    {
     "name": "stdout",
     "output_type": "stream",
     "text": [
      "positional args: (1, 2, 3, 4)\n",
      "kw args: {'a': 1, 'b': 2, 'c': 3, 'd': 4, 'e': 'text'}\n"
     ]
    }
   ],
   "source": [
    "# combine *args with **kwargs\n",
    "def func(*a, **b):\n",
    "    print('positional args:',a)\n",
    "    print('kw args:',b)\n",
    "func(1,2,3,4,a=1,b=2,c=3,d=4,e=\"text\")"
   ]
  },
  {
   "cell_type": "code",
   "execution_count": 66,
   "id": "editorial-enhancement",
   "metadata": {},
   "outputs": [
    {
     "name": "stdout",
     "output_type": "stream",
     "text": [
      "dict_keys(['key1', 'key2'])\n"
     ]
    }
   ],
   "source": [
    "def func(**kwargs):\n",
    "    print(kwargs.keys())\n",
    "func(key1=1,key2=2)"
   ]
  },
  {
   "cell_type": "code",
   "execution_count": 3,
   "id": "statutory-motion",
   "metadata": {},
   "outputs": [
    {
     "name": "stdout",
     "output_type": "stream",
     "text": [
      "value q\n",
      "val t\n",
      "val ö\n"
     ]
    }
   ],
   "source": [
    "def func(a,**kwargs):\n",
    "    for key in kwargs:\n",
    "        print(kwargs[key])\n",
    "func(10, ax='value q',y='val t',z='val ö')"
   ]
  },
  {
   "cell_type": "markdown",
   "id": "miniature-frost",
   "metadata": {},
   "source": [
    "### don't use mutable default parameters, use None\n",
    "e.g. def func(a,b=1, c=[]): ... use def func(a,b=1,c=None)"
   ]
  },
  {
   "cell_type": "code",
   "execution_count": 17,
   "id": "another-actor",
   "metadata": {},
   "outputs": [],
   "source": [
    "def func(a,b=1,c=None):\n",
    "    if not c:\n",
    "        c=[]\n",
    "    c.append(a*b)\n",
    "    return c"
   ]
  },
  {
   "cell_type": "code",
   "execution_count": 21,
   "id": "opposite-coffee",
   "metadata": {},
   "outputs": [],
   "source": [
    "l=func(2,3)"
   ]
  },
  {
   "cell_type": "markdown",
   "id": "conditional-capital",
   "metadata": {},
   "source": [
    " otherwise, when using function for another list, l would be passed in again since defaults are only created once. By evaluating c inside function, this happens every time function is called."
   ]
  },
  {
   "cell_type": "code",
   "execution_count": null,
   "id": "interim-trustee",
   "metadata": {},
   "outputs": [],
   "source": []
  },
  {
   "cell_type": "code",
   "execution_count": null,
   "id": "radio-highland",
   "metadata": {},
   "outputs": [],
   "source": []
  }
 ],
 "metadata": {
  "kernelspec": {
   "display_name": "Python 3",
   "language": "python",
   "name": "python3"
  },
  "language_info": {
   "codemirror_mode": {
    "name": "ipython",
    "version": 3
   },
   "file_extension": ".py",
   "mimetype": "text/x-python",
   "name": "python",
   "nbconvert_exporter": "python",
   "pygments_lexer": "ipython3",
   "version": "3.7.6"
  }
 },
 "nbformat": 4,
 "nbformat_minor": 5
}
