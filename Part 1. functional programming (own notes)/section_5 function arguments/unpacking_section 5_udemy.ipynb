{
 "cells": [
  {
   "cell_type": "markdown",
   "id": "useful-range",
   "metadata": {},
   "source": [
    "## unpacking\n",
    "### sidenote on tuples\n",
    "the parenthese don't create the tuple, are only for clarity, the comma makes the tuple. Except, empty tuples"
   ]
  },
  {
   "cell_type": "code",
   "execution_count": 1,
   "id": "directed-ceramic",
   "metadata": {},
   "outputs": [
    {
     "data": {
      "text/plain": [
       "tuple"
      ]
     },
     "execution_count": 1,
     "metadata": {},
     "output_type": "execute_result"
    }
   ],
   "source": [
    "a=1,2,3\n",
    "type(a)"
   ]
  },
  {
   "cell_type": "code",
   "execution_count": 2,
   "id": "separated-workplace",
   "metadata": {},
   "outputs": [
    {
     "data": {
      "text/plain": [
       "(1,)"
      ]
     },
     "execution_count": 2,
     "metadata": {},
     "output_type": "execute_result"
    }
   ],
   "source": [
    "b=1,\n",
    "b"
   ]
  },
  {
   "cell_type": "code",
   "execution_count": 3,
   "id": "exterior-clinic",
   "metadata": {},
   "outputs": [
    {
     "data": {
      "text/plain": [
       "int"
      ]
     },
     "execution_count": 3,
     "metadata": {},
     "output_type": "execute_result"
    }
   ],
   "source": [
    "a,b=1,2 #left hand side is a tuple with three variables a,b,c\n",
    "type(a)"
   ]
  },
  {
   "cell_type": "code",
   "execution_count": 4,
   "id": "inclusive-trading",
   "metadata": {},
   "outputs": [
    {
     "data": {
      "text/plain": [
       "tuple"
      ]
     },
     "execution_count": 4,
     "metadata": {},
     "output_type": "execute_result"
    }
   ],
   "source": [
    "c=()\n",
    "type(c)"
   ]
  },
  {
   "cell_type": "markdown",
   "id": "indoor-commission",
   "metadata": {},
   "source": [
    "any iterable is a packed value (string, list, tuple, set, dictionary).\n",
    "Unpacking is positional assigment"
   ]
  },
  {
   "cell_type": "code",
   "execution_count": 5,
   "id": "improved-stopping",
   "metadata": {},
   "outputs": [
    {
     "name": "stdout",
     "output_type": "stream",
     "text": [
      "10 20 hello\n"
     ]
    }
   ],
   "source": [
    "a,b,c=10,20,'hello' # tuple = tuple\n",
    "print(a,b,c)"
   ]
  },
  {
   "cell_type": "code",
   "execution_count": 6,
   "id": "quarterly-office",
   "metadata": {},
   "outputs": [
    {
     "name": "stdout",
     "output_type": "stream",
     "text": [
      "10 20\n",
      "20 10\n",
      "with unpacking:\n",
      "20 10\n"
     ]
    }
   ],
   "source": [
    "#application: swapping values\n",
    "a,b=10,20\n",
    "# a should be 20, b 10\n",
    "print(a,b)\n",
    "tmp=a\n",
    "a=b\n",
    "b=tmp\n",
    "print(a,b)\n",
    "print('with unpacking:')\n",
    "a,b=10,20\n",
    "a,b=b,a\n",
    "print(a,b)"
   ]
  },
  {
   "cell_type": "markdown",
   "id": "gross-sharing",
   "metadata": {},
   "source": [
    "unpacking dictionaries = unpackign keys.\n",
    "BUT sets and dictionaires are unordered --> unpacking will not assign \"first\" keys of dict to first varialbe in tuple"
   ]
  },
  {
   "cell_type": "markdown",
   "id": "quantitative-frequency",
   "metadata": {},
   "source": [
    "### extended unpacking\n",
    "for when i don't want to unpack every single item in an iterable.\n",
    "use * operator, can be used for every iterable (slicing only for tuples and lists)\n",
    "rest is always unpacked as a list!"
   ]
  },
  {
   "cell_type": "code",
   "execution_count": 8,
   "id": "assured-think",
   "metadata": {},
   "outputs": [
    {
     "name": "stdout",
     "output_type": "stream",
     "text": [
      "1\n",
      "[2, 3, 4, 5]\n"
     ]
    }
   ],
   "source": [
    "# using slicing:\n",
    "l=[1,2,3,4,5]\n",
    "a,b=l[0],l[1:]\n",
    "print(a)\n",
    "print(b)"
   ]
  },
  {
   "cell_type": "code",
   "execution_count": 9,
   "id": "tested-tribe",
   "metadata": {},
   "outputs": [
    {
     "name": "stdout",
     "output_type": "stream",
     "text": [
      "1\n",
      "[2, 3, 4, 5]\n"
     ]
    }
   ],
   "source": [
    "#using the * operator\n",
    "c, *d=l\n",
    "print(c)\n",
    "print(d)"
   ]
  },
  {
   "cell_type": "code",
   "execution_count": 10,
   "id": "regulated-debut",
   "metadata": {},
   "outputs": [
    {
     "name": "stdout",
     "output_type": "stream",
     "text": [
      "B\n"
     ]
    }
   ],
   "source": [
    "a,b, *c=\"ABCDEFG\"\n",
    "print(b)"
   ]
  },
  {
   "cell_type": "markdown",
   "id": "coated-worcester",
   "metadata": {},
   "source": [
    "read * operator as \"the rest\",i.e. remaining elements stored in this variable"
   ]
  },
  {
   "cell_type": "code",
   "execution_count": 11,
   "id": "assumed-speaker",
   "metadata": {},
   "outputs": [
    {
     "name": "stdout",
     "output_type": "stream",
     "text": [
      "['b', 'c']\n",
      "[3, 4]\n"
     ]
    }
   ],
   "source": [
    "d={'a':1,'b':2,'c':3}\n",
    "a,*b=d\n",
    "print(b)\n",
    "s={1,2,3,4}\n",
    "a,b,*c=s\n",
    "print(c)"
   ]
  },
  {
   "cell_type": "markdown",
   "id": "hollywood-surface",
   "metadata": {},
   "source": [
    "use for unpacking nested lists!"
   ]
  },
  {
   "cell_type": "code",
   "execution_count": 12,
   "id": "useful-relaxation",
   "metadata": {},
   "outputs": [
    {
     "name": "stdout",
     "output_type": "stream",
     "text": [
      "[1, 2, 3, 4, 5, 'a', 'b', 'c']\n"
     ]
    }
   ],
   "source": [
    "l1=[1,2,3,4,5]\n",
    "l2=['a','b','c']\n",
    "l=[*l1,*l2]\n",
    "print(l)"
   ]
  },
  {
   "cell_type": "markdown",
   "id": "chicken-hughes",
   "metadata": {},
   "source": [
    "### nested unpacking:"
   ]
  },
  {
   "cell_type": "code",
   "execution_count": 13,
   "id": "compound-dictionary",
   "metadata": {},
   "outputs": [
    {
     "name": "stdout",
     "output_type": "stream",
     "text": [
      "1 2 [3, 4]\n",
      "1 2 3 4\n",
      "1 2 3 4\n"
     ]
    }
   ],
   "source": [
    "l=[1,2,[3,4]]\n",
    "a,b,c=l\n",
    "print(a,b,c)\n",
    "d,e=c\n",
    "print(a,b,d,e)\n",
    "# quicker:\n",
    "a,b,(c,d)=l\n",
    "print(a,b,c,d)"
   ]
  },
  {
   "cell_type": "code",
   "execution_count": 14,
   "id": "atlantic-science",
   "metadata": {},
   "outputs": [
    {
     "name": "stdout",
     "output_type": "stream",
     "text": [
      "1 [2, 3] X Y Z\n"
     ]
    }
   ],
   "source": [
    "# many possibilities:\n",
    "a, *b, (c,d,e)=[1,2,3,'XYZ']\n",
    "print(a,b,c,d,e)"
   ]
  },
  {
   "cell_type": "code",
   "execution_count": 15,
   "id": "olympic-sequence",
   "metadata": {},
   "outputs": [
    {
     "name": "stdout",
     "output_type": "stream",
     "text": [
      "[2, 3, 4, 5] ['e', 's', 't']\n"
     ]
    }
   ],
   "source": [
    "l=[1,2,3,4,5,'test']\n",
    "\n",
    "a,*b,(c,*d)=l\n",
    "print(b,d)"
   ]
  },
  {
   "cell_type": "code",
   "execution_count": 17,
   "id": "prescription-reminder",
   "metadata": {},
   "outputs": [
    {
     "name": "stdout",
     "output_type": "stream",
     "text": [
      "1 [2, 3, 4, 5] t est\n"
     ]
    }
   ],
   "source": [
    "# same with slicing:\n",
    "a,b,c=l[0],l[1:-1],l[-1]\n",
    "e,f=c[0],c[1:]\n",
    "print(a,b,e,f)"
   ]
  },
  {
   "cell_type": "code",
   "execution_count": 18,
   "id": "golden-disease",
   "metadata": {},
   "outputs": [
    {
     "ename": "TypeError",
     "evalue": "'set' object is not subscriptable",
     "output_type": "error",
     "traceback": [
      "\u001b[0;31m---------------------------------------------------------------------------\u001b[0m",
      "\u001b[0;31mTypeError\u001b[0m                                 Traceback (most recent call last)",
      "\u001b[0;32m<ipython-input-18-a2da4ae698ab>\u001b[0m in \u001b[0;36m<module>\u001b[0;34m\u001b[0m\n\u001b[1;32m      1\u001b[0m \u001b[0;31m# slicing only works with ordered/ iterables:\u001b[0m\u001b[0;34m\u001b[0m\u001b[0;34m\u001b[0m\u001b[0;34m\u001b[0m\u001b[0m\n\u001b[1;32m      2\u001b[0m \u001b[0ms\u001b[0m\u001b[0;34m=\u001b[0m\u001b[0;34m{\u001b[0m\u001b[0;36m1\u001b[0m\u001b[0;34m,\u001b[0m\u001b[0;36m2\u001b[0m\u001b[0;34m,\u001b[0m\u001b[0;36m3\u001b[0m\u001b[0;34m,\u001b[0m\u001b[0;36m4\u001b[0m\u001b[0;34m}\u001b[0m\u001b[0;34m\u001b[0m\u001b[0;34m\u001b[0m\u001b[0m\n\u001b[0;32m----> 3\u001b[0;31m \u001b[0ma\u001b[0m\u001b[0;34m,\u001b[0m\u001b[0mb\u001b[0m\u001b[0;34m=\u001b[0m\u001b[0ms\u001b[0m\u001b[0;34m[\u001b[0m\u001b[0;36m0\u001b[0m\u001b[0;34m]\u001b[0m\u001b[0;34m,\u001b[0m\u001b[0ms\u001b[0m\u001b[0;34m[\u001b[0m\u001b[0;36m1\u001b[0m\u001b[0;34m:\u001b[0m\u001b[0;34m]\u001b[0m\u001b[0;34m\u001b[0m\u001b[0;34m\u001b[0m\u001b[0m\n\u001b[0m",
      "\u001b[0;31mTypeError\u001b[0m: 'set' object is not subscriptable"
     ]
    }
   ],
   "source": [
    "# slicing only works with ordered/ iterables:\n",
    "s={1,2,3,4}\n",
    "a,b=s[0],s[1:]"
   ]
  },
  {
   "cell_type": "code",
   "execution_count": 19,
   "id": "simplified-restoration",
   "metadata": {},
   "outputs": [
    {
     "data": {
      "text/plain": [
       "[2, 3, 4]"
      ]
     },
     "execution_count": 19,
     "metadata": {},
     "output_type": "execute_result"
    }
   ],
   "source": [
    "# works with * operator\n",
    "a,*b=s\n",
    "b"
   ]
  },
  {
   "cell_type": "markdown",
   "id": "about-vancouver",
   "metadata": {},
   "source": [
    "could also unpack in a list, but no benefit compared to unpacking to tuple"
   ]
  },
  {
   "cell_type": "code",
   "execution_count": 20,
   "id": "olympic-hearts",
   "metadata": {},
   "outputs": [
    {
     "data": {
      "text/plain": [
       "(1, [2, 3, 4])"
      ]
     },
     "execution_count": 20,
     "metadata": {},
     "output_type": "execute_result"
    }
   ],
   "source": [
    "[a,*b]=s\n",
    "a,b"
   ]
  },
  {
   "cell_type": "code",
   "execution_count": 21,
   "id": "polyphonic-journalism",
   "metadata": {},
   "outputs": [
    {
     "name": "stdout",
     "output_type": "stream",
     "text": [
      "['s', 't', 'r', 'i', 'n', 'g']\n",
      "['s', 't', 'r', 'i', 'n', 'g']\n"
     ]
    }
   ],
   "source": [
    "# new way of unpacking string into list of characters:\n",
    "s=\"string\"\n",
    "*a,=s\n",
    "print(a)\n",
    "print(list(s))"
   ]
  },
  {
   "cell_type": "code",
   "execution_count": 22,
   "id": "sustainable-beijing",
   "metadata": {},
   "outputs": [
    {
     "data": {
      "text/plain": [
       "['a', 'b', 'c', 'c', 'd', 'e']"
      ]
     },
     "execution_count": 22,
     "metadata": {},
     "output_type": "execute_result"
    }
   ],
   "source": [
    "# unpacking with or without repeated elements:\n",
    "l1='abc'\n",
    "l2='cde'\n",
    "# with repetition:\n",
    "[*l1,*l2]"
   ]
  },
  {
   "cell_type": "code",
   "execution_count": 23,
   "id": "characteristic-highway",
   "metadata": {},
   "outputs": [
    {
     "data": {
      "text/plain": [
       "{'a', 'b', 'c', 'd', 'e'}"
      ]
     },
     "execution_count": 23,
     "metadata": {},
     "output_type": "execute_result"
    }
   ],
   "source": [
    "#without repetition:\n",
    "{*l1,*l2}"
   ]
  },
  {
   "cell_type": "code",
   "execution_count": 24,
   "id": "exterior-energy",
   "metadata": {},
   "outputs": [
    {
     "data": {
      "text/plain": [
       "{1, 2, 3, 4, 5, 6}"
      ]
     },
     "execution_count": 24,
     "metadata": {},
     "output_type": "execute_result"
    }
   ],
   "source": [
    "# unpacking for sets:\n",
    "s1={1,2,3,4}\n",
    "s2={3,4,5,6}\n",
    "{*s1,*s2}"
   ]
  },
  {
   "cell_type": "code",
   "execution_count": 25,
   "id": "cooked-mailman",
   "metadata": {},
   "outputs": [
    {
     "data": {
      "text/plain": [
       "{1, 2, 3, 4, 5, 6}"
      ]
     },
     "execution_count": 25,
     "metadata": {},
     "output_type": "execute_result"
    }
   ],
   "source": [
    "# same as inbuilt set function:\n",
    "s1.union(s2)"
   ]
  },
  {
   "cell_type": "markdown",
   "id": "peripheral-polish",
   "metadata": {},
   "source": [
    "### ** operator\n",
    "only works for dictionairies"
   ]
  },
  {
   "cell_type": "code",
   "execution_count": 26,
   "id": "accepted-brisbane",
   "metadata": {},
   "outputs": [
    {
     "data": {
      "text/plain": [
       "{'k1', 'k2', 'k4'}"
      ]
     },
     "execution_count": 26,
     "metadata": {},
     "output_type": "execute_result"
    }
   ],
   "source": [
    "d1={'k1':1,'k2':5}\n",
    "d2=dict([('k2',3),('k4',4)])\n",
    "# only getting keys:\n",
    "{*d1,*d2}"
   ]
  },
  {
   "cell_type": "code",
   "execution_count": 27,
   "id": "tender-commerce",
   "metadata": {},
   "outputs": [
    {
     "data": {
      "text/plain": [
       "{'k1': 1, 'k2': 3, 'k4': 4}"
      ]
     },
     "execution_count": 27,
     "metadata": {},
     "output_type": "execute_result"
    }
   ],
   "source": [
    "# getting values and keys with **:\n",
    "{**d1,**d2}\n",
    "# overwrites k2 of d1 with k2 of d2, depends on order"
   ]
  },
  {
   "cell_type": "code",
   "execution_count": 28,
   "id": "stone-simulation",
   "metadata": {},
   "outputs": [
    {
     "data": {
      "text/plain": [
       "{'k5': 5, 'k1': 1, 'k2': 5, 'k6': 6}"
      ]
     },
     "execution_count": 28,
     "metadata": {},
     "output_type": "execute_result"
    }
   ],
   "source": [
    "{'k5':5,**d1,'k6':6}"
   ]
  },
  {
   "cell_type": "code",
   "execution_count": null,
   "id": "registered-graduate",
   "metadata": {},
   "outputs": [],
   "source": []
  }
 ],
 "metadata": {
  "kernelspec": {
   "display_name": "Python 3",
   "language": "python",
   "name": "python3"
  },
  "language_info": {
   "codemirror_mode": {
    "name": "ipython",
    "version": 3
   },
   "file_extension": ".py",
   "mimetype": "text/x-python",
   "name": "python",
   "nbconvert_exporter": "python",
   "pygments_lexer": "ipython3",
   "version": "3.7.6"
  }
 },
 "nbformat": 4,
 "nbformat_minor": 5
}
