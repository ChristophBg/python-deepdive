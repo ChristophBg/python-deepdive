{
 "cells": [
  {
   "cell_type": "markdown",
   "id": "collectible-graphics",
   "metadata": {},
   "source": [
    "# comaprison operators"
   ]
  },
  {
   "cell_type": "markdown",
   "id": "greenhouse-adobe",
   "metadata": {},
   "source": [
    "## types of comparison operators\n",
    "### identity operators:\n",
    "is / is not  - compares memory address of variables\n",
    "### value comparison:\n",
    " == / !=     - compares values, different types ok, but must be compatible\n",
    "### ordering comparison:\n",
    " < / > / =< / >= - doesn't work for all types\n",
    "### membership operators:\n",
    " in / not in   - checks if value is in iterable"
   ]
  },
  {
   "cell_type": "markdown",
   "id": "artistic-ordinance",
   "metadata": {},
   "source": [
    "### chaining value and ordering comparisons:\n",
    "a == b == c actually is: \"a == b and b == c\"\n",
    "a > b > c is: \" a > b and b > c\""
   ]
  }
 ],
 "metadata": {
  "kernelspec": {
   "display_name": "Python 3",
   "language": "python",
   "name": "python3"
  },
  "language_info": {
   "codemirror_mode": {
    "name": "ipython",
    "version": 3
   },
   "file_extension": ".py",
   "mimetype": "text/x-python",
   "name": "python",
   "nbconvert_exporter": "python",
   "pygments_lexer": "ipython3",
   "version": "3.7.6"
  }
 },
 "nbformat": 4,
 "nbformat_minor": 5
}
