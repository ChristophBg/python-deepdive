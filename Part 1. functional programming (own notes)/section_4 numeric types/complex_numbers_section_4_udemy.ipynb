{
 "cells": [
  {
   "cell_type": "markdown",
   "id": "aquatic-color",
   "metadata": {},
   "source": [
    "#    complex number"
   ]
  },
  {
   "cell_type": "code",
   "execution_count": 45,
   "id": "matched-seminar",
   "metadata": {},
   "outputs": [
    {
     "name": "stdout",
     "output_type": "stream",
     "text": [
      "True\n",
      "real part: <class 'float'> imaginary part: <class 'float'>\n",
      "1.0 2.0\n",
      "(1-2j)\n"
     ]
    }
   ],
   "source": [
    "a=complex(1,2)\n",
    "b=1+2j\n",
    "print(a==b)\n",
    "print(\"real part:\",type(a.real), \"imaginary part:\",type(a.imag))\n",
    "print(a.real, a.imag)\n",
    "print(a.conjugate())"
   ]
  },
  {
   "cell_type": "markdown",
   "id": "recognized-albany",
   "metadata": {},
   "source": [
    "real and imaginative parts are floats --> same problem with finite precision.\n",
    "Simple arithmetics are supported, div and mod are not. \"==\" and \"!=\" supported, comparison operators are not. Math module not supported, use \"cmath\" instead."
   ]
  },
  {
   "cell_type": "code",
   "execution_count": 11,
   "id": "alpha-apple",
   "metadata": {},
   "outputs": [
    {
     "data": {
      "text/plain": [
       "(3+2j)"
      ]
     },
     "execution_count": 11,
     "metadata": {},
     "output_type": "execute_result"
    }
   ],
   "source": [
    "(1+2j)+2"
   ]
  },
  {
   "cell_type": "code",
   "execution_count": 12,
   "id": "inside-stream",
   "metadata": {},
   "outputs": [
    {
     "data": {
      "text/plain": [
       "(3+6j)"
      ]
     },
     "execution_count": 12,
     "metadata": {},
     "output_type": "execute_result"
    }
   ],
   "source": [
    "(1+2j)*3"
   ]
  },
  {
   "cell_type": "code",
   "execution_count": 13,
   "id": "brown-charter",
   "metadata": {},
   "outputs": [
    {
     "data": {
      "text/plain": [
       "True"
      ]
     },
     "execution_count": 13,
     "metadata": {},
     "output_type": "execute_result"
    }
   ],
   "source": [
    "a==b"
   ]
  },
  {
   "cell_type": "code",
   "execution_count": 14,
   "id": "regulation-upgrade",
   "metadata": {},
   "outputs": [
    {
     "data": {
      "text/plain": [
       "False"
      ]
     },
     "execution_count": 14,
     "metadata": {},
     "output_type": "execute_result"
    }
   ],
   "source": [
    "a!=b"
   ]
  },
  {
   "cell_type": "code",
   "execution_count": 15,
   "id": "sacred-thanks",
   "metadata": {},
   "outputs": [
    {
     "data": {
      "text/plain": [
       "(0.8047189562170503+1.1071487177940904j)"
      ]
     },
     "execution_count": 15,
     "metadata": {},
     "output_type": "execute_result"
    }
   ],
   "source": [
    "import cmath\n",
    "cmath.log(a)"
   ]
  },
  {
   "cell_type": "markdown",
   "id": "civic-choice",
   "metadata": {},
   "source": [
    "### rectangular to polar"
   ]
  },
  {
   "cell_type": "code",
   "execution_count": 21,
   "id": "suspended-symphony",
   "metadata": {},
   "outputs": [
    {
     "data": {
      "text/plain": [
       "0.7853981633974483"
      ]
     },
     "execution_count": 21,
     "metadata": {},
     "output_type": "execute_result"
    }
   ],
   "source": [
    "num=3+3j\n",
    "cmath.phase(num)"
   ]
  },
  {
   "cell_type": "markdown",
   "id": "complete-suite",
   "metadata": {},
   "source": [
    "phase = angel between tangent to complex number and real-axis. "
   ]
  },
  {
   "cell_type": "code",
   "execution_count": 24,
   "id": "through-kinase",
   "metadata": {},
   "outputs": [
    {
     "data": {
      "text/plain": [
       "4.242640687119285"
      ]
     },
     "execution_count": 24,
     "metadata": {},
     "output_type": "execute_result"
    }
   ],
   "source": [
    "abs(num)"
   ]
  },
  {
   "cell_type": "code",
   "execution_count": 33,
   "id": "psychological-moore",
   "metadata": {},
   "outputs": [
    {
     "name": "stdout",
     "output_type": "stream",
     "text": [
      "complex number 1j has phase: 1.5707963267948966 and abs distance from origin:1.0\n"
     ]
    }
   ],
   "source": [
    "a=0+1j #<-- play around with 1/ -1 for real and complex part\n",
    "print(\"complex number {0} has phase: {1} and abs distance from origin:{2}\".format(a,cmath.phase(a),abs(a)))"
   ]
  },
  {
   "cell_type": "markdown",
   "id": "logical-delay",
   "metadata": {},
   "source": [
    "### polar to rectangular"
   ]
  },
  {
   "cell_type": "code",
   "execution_count": 36,
   "id": "basic-blanket",
   "metadata": {},
   "outputs": [
    {
     "data": {
      "text/plain": [
       "(1.0000000000000002+1j)"
      ]
     },
     "execution_count": 36,
     "metadata": {},
     "output_type": "execute_result"
    }
   ],
   "source": [
    "import math\n",
    "cmath.rect(math.sqrt(2),math.pi/4)"
   ]
  },
  {
   "cell_type": "markdown",
   "id": "premier-probability",
   "metadata": {},
   "source": [
    "## Euler's identity"
   ]
  },
  {
   "cell_type": "markdown",
   "id": "freelance-german",
   "metadata": {},
   "source": [
    "is e<sup>i &pi;</sup> +1 =0"
   ]
  },
  {
   "cell_type": "code",
   "execution_count": 46,
   "id": "transsexual-shade",
   "metadata": {},
   "outputs": [
    {
     "data": {
      "text/plain": [
       "1.2246467991473532e-16j"
      ]
     },
     "execution_count": 46,
     "metadata": {},
     "output_type": "execute_result"
    }
   ],
   "source": [
    "cmath.exp(1j*math.pi)+1 #should be ==0 but binary numbers \"spoil\" effect, approximation"
   ]
  },
  {
   "cell_type": "code",
   "execution_count": 40,
   "id": "enhanced-favorite",
   "metadata": {},
   "outputs": [
    {
     "data": {
      "text/plain": [
       "True"
      ]
     },
     "execution_count": 40,
     "metadata": {},
     "output_type": "execute_result"
    }
   ],
   "source": [
    "# next best way to show:\n",
    "cmath.isclose(cmath.exp(1j*math.pi)+1,0,abs_tol=0.0001)"
   ]
  },
  {
   "cell_type": "code",
   "execution_count": null,
   "id": "latin-showcase",
   "metadata": {},
   "outputs": [],
   "source": []
  }
 ],
 "metadata": {
  "kernelspec": {
   "display_name": "Python 3",
   "language": "python",
   "name": "python3"
  },
  "language_info": {
   "codemirror_mode": {
    "name": "ipython",
    "version": 3
   },
   "file_extension": ".py",
   "mimetype": "text/x-python",
   "name": "python",
   "nbconvert_exporter": "python",
   "pygments_lexer": "ipython3",
   "version": "3.7.6"
  }
 },
 "nbformat": 4,
 "nbformat_minor": 5
}
