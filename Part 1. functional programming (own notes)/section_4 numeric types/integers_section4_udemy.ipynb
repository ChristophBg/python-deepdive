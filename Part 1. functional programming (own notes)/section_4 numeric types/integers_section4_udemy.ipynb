{
 "cells": [
  {
   "cell_type": "markdown",
   "metadata": {},
   "source": [
    "    Integers\n",
    "stored as binary code, base 2. How large can an integer be? depends on the number of memory addresses available: \n",
    "8 bits in base 2: 2^0, 2^1, 2^2, 2^3, 2^4, 2^5, 2^6, 2^7. Largest number then 1111111 in base 2, 1+2+4+8+16+32+64+128=251 in base 10; when wanting negative numbers as well, need one byte for that --> largest number is 2^(7-1)=127 --> representable range is [-127,127].\n",
    "16 bit system: 2^(16-1) --> [-32768, 32767]\n",
    "similar for 32 and 64 bit system."
   ]
  },
  {
   "cell_type": "code",
   "execution_count": 20,
   "metadata": {},
   "outputs": [
    {
     "name": "stdout",
     "output_type": "stream",
     "text": [
      "<class 'type'>\n",
      "24\n"
     ]
    },
    {
     "data": {
      "text/plain": [
       "160"
      ]
     },
     "execution_count": 20,
     "metadata": {},
     "output_type": "execute_result"
    }
   ],
   "source": [
    "print(type(int))\n",
    "# how much space do intergers take up in python\n",
    "import sys\n",
    "print(sys.getsizeof(0)) #since object, has overhead\n",
    "sys.getsizeof(2**1000)"
   ]
  },
  {
   "cell_type": "markdown",
   "metadata": {},
   "source": [
    "    integer operations\n",
    "operator \"//\" (floor division)  for number of times a fits completely into b in b/a and \"%\" (modulo operator) operator for rest of b/a.\n",
    "Always satisfy b= a* (b//a) + (b%a)"
   ]
  },
  {
   "cell_type": "code",
   "execution_count": 23,
   "metadata": {},
   "outputs": [
    {
     "data": {
      "text/plain": [
       "3"
      ]
     },
     "execution_count": 23,
     "metadata": {},
     "output_type": "execute_result"
    }
   ],
   "source": [
    "139/4\n",
    "139//4\n",
    "139%4"
   ]
  },
  {
   "cell_type": "code",
   "execution_count": 31,
   "metadata": {},
   "outputs": [
    {
     "data": {
      "text/plain": [
       "True"
      ]
     },
     "execution_count": 31,
     "metadata": {},
     "output_type": "execute_result"
    }
   ],
   "source": [
    "n= 155 #numerator\n",
    "d=4 #denominator\n",
    "n== d* (n//d)+(n%d)"
   ]
  },
  {
   "cell_type": "markdown",
   "metadata": {},
   "source": [
    "floor division gives the largest number that is less than or equal to a number. E.g. floor of 2.3 is 2, but floor of -2.3 is -3! "
   ]
  },
  {
   "cell_type": "code",
   "execution_count": 30,
   "metadata": {},
   "outputs": [
    {
     "name": "stdout",
     "output_type": "stream",
     "text": [
      "-33.75\n",
      "floor -34\n",
      "mod 1\n"
     ]
    },
    {
     "data": {
      "text/plain": [
       "True"
      ]
     },
     "execution_count": 30,
     "metadata": {},
     "output_type": "execute_result"
    }
   ],
   "source": [
    "n= -135\n",
    "d=4\n",
    "print(n/d)\n",
    "print(\"floor:\",n//d, \"not -33!\")\n",
    "print(\"mod:\",n%d)\n",
    "n== d* (n//d)+(n%d)"
   ]
  },
  {
   "cell_type": "code",
   "execution_count": 36,
   "metadata": {},
   "outputs": [
    {
     "name": "stdout",
     "output_type": "stream",
     "text": [
      "divide 13 by 4: 3.25 floor: 3 mod: 1\n",
      "divide -13 by 4: -3.25 floor: -4 mod: 3\n",
      "divide -13 by -4: 3.25 floor: 3 mod: -1\n",
      "divide 13 by -4: -3.25 floor: -4 mod: -3\n"
     ]
    }
   ],
   "source": [
    "#further examples with negative numbers:\n",
    "print(\"divide 13 by 4:\",13/4,\"floor:\",13//4, \"mod:\",13%4)\n",
    "print(\"divide -13 by 4:\",-13/4,\"floor:\",-13//4, \"mod:\",-13%4)\n",
    "print(\"divide -13 by -4:\",-13/-4,\"floor:\",-13//-4, \"mod:\",-13%-4)\n",
    "print(\"divide 13 by -4:\",13/-4,\"floor:\",13//-4, \"mod:\",13%-4)"
   ]
  },
  {
   "cell_type": "code",
   "execution_count": 39,
   "metadata": {},
   "outputs": [
    {
     "data": {
      "text/plain": [
       "-4"
      ]
     },
     "execution_count": 39,
     "metadata": {},
     "output_type": "execute_result"
    }
   ],
   "source": [
    "# can  get floor by math module:\n",
    "import math\n",
    "math.floor(-3.006)"
   ]
  },
  {
   "cell_type": "code",
   "execution_count": 40,
   "metadata": {},
   "outputs": [
    {
     "data": {
      "text/plain": [
       "-4"
      ]
     },
     "execution_count": 40,
     "metadata": {},
     "output_type": "execute_result"
    }
   ],
   "source": [
    "#limited precision of floats plays a role here:\n",
    "math.floor(-3.0000000000001)\n"
   ]
  },
  {
   "cell_type": "code",
   "execution_count": 41,
   "metadata": {},
   "outputs": [
    {
     "data": {
      "text/plain": [
       "-3"
      ]
     },
     "execution_count": 41,
     "metadata": {},
     "output_type": "execute_result"
    }
   ],
   "source": [
    "math.floor(-3.00000000000000001)"
   ]
  },
  {
   "cell_type": "markdown",
   "metadata": {},
   "source": [
    "    integer constructors\n",
    "an integer is an instance of the int class, classes provide constructors.\n",
    "first constructor takes in number, second takes in string and optionally base"
   ]
  },
  {
   "cell_type": "code",
   "execution_count": 45,
   "metadata": {},
   "outputs": [
    {
     "data": {
      "text/plain": [
       "True"
      ]
     },
     "execution_count": 45,
     "metadata": {},
     "output_type": "execute_result"
    }
   ],
   "source": [
    "#first constructor\n",
    "a=int(10)\n",
    "b=int(10.9)\n",
    "a==b"
   ]
  },
  {
   "cell_type": "markdown",
   "metadata": {},
   "source": [
    "floats are truncated, i.e. their decimal places are cut off"
   ]
  },
  {
   "cell_type": "code",
   "execution_count": 77,
   "metadata": {},
   "outputs": [
    {
     "name": "stdout",
     "output_type": "stream",
     "text": [
      "5\n",
      "9\n",
      "49519\n",
      "11\n"
     ]
    }
   ],
   "source": [
    "#second constructor with optional second parameter\n",
    "a=int(\"10\") #default for base parameter is base 10\n",
    "type(a)\n",
    "b=int(\"101\",base=2)\n",
    "print(b)\n",
    "c=int(\"100\",base=3)\n",
    "print(c)\n",
    "#in base>10 use letters:\n",
    "d=int(\"a15f\",base=17) #not case sensitive\n",
    "print(d)\n",
    "e=int(\"b\",base=12) #\"c\" would lead to value error here for base 12\n",
    "print(e)"
   ]
  },
  {
   "cell_type": "markdown",
   "metadata": {},
   "source": [
    "int() constructor limited to base 36, because numbers 0 to 10 plus alphabetic letter A to Z =10+26=36"
   ]
  },
  {
   "cell_type": "markdown",
   "metadata": {},
   "source": [
    "translating to other bases: bin() for base 2, oct() for base 8, hex() for base 10"
   ]
  },
  {
   "cell_type": "code",
   "execution_count": 76,
   "metadata": {},
   "outputs": [
    {
     "name": "stdout",
     "output_type": "stream",
     "text": [
      "0b101\n",
      "0o12\n",
      "0xc16f\n"
     ]
    }
   ],
   "source": [
    "print(bin(b)) #\"0b\" means base binary, \"0o\" means base 8\n",
    "print(oct(a))\n",
    "print(hex(d))"
   ]
  },
  {
   "cell_type": "markdown",
   "metadata": {},
   "source": [
    "can also construct integers with these literals:"
   ]
  },
  {
   "cell_type": "code",
   "execution_count": 7,
   "metadata": {},
   "outputs": [
    {
     "data": {
      "text/plain": [
       "True"
      ]
     },
     "execution_count": 7,
     "metadata": {},
     "output_type": "execute_result"
    }
   ],
   "source": [
    "a=int('101',base=2)\n",
    "b=0b101 # also constructs integer in base 10 from this\n",
    "a==b"
   ]
  }
 ],
 "metadata": {
  "kernelspec": {
   "display_name": "Python 3",
   "language": "python",
   "name": "python3"
  },
  "language_info": {
   "codemirror_mode": {
    "name": "ipython",
    "version": 3
   },
   "file_extension": ".py",
   "mimetype": "text/x-python",
   "name": "python",
   "nbconvert_exporter": "python",
   "pygments_lexer": "ipython3",
   "version": "3.7.6"
  }
 },
 "nbformat": 4,
 "nbformat_minor": 4
}
