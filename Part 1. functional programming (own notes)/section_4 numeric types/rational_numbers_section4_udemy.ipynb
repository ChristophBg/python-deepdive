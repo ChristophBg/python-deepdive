{
 "cells": [
  {
   "cell_type": "markdown",
   "metadata": {},
   "source": [
    "    rational numbers\n",
    "any real number with a finite number of digits is a rational number. Rational numbers are fractions of integers"
   ]
  },
  {
   "cell_type": "markdown",
   "metadata": {},
   "source": [
    "fractions can be represented with the fraction class from the fraction module, using the constructor for fractions"
   ]
  },
  {
   "cell_type": "code",
   "execution_count": 16,
   "metadata": {},
   "outputs": [
    {
     "name": "stdout",
     "output_type": "stream",
     "text": [
      "617/500\n"
     ]
    },
    {
     "data": {
      "text/plain": [
       "617"
      ]
     },
     "execution_count": 16,
     "metadata": {},
     "output_type": "execute_result"
    }
   ],
   "source": [
    "from fractions import Fraction\n",
    "Fraction(1,2)\n",
    "Fraction(6,10) #reduces to 3/5\n",
    "Fraction(3,-4) # puts sign at numerator\n",
    "Fraction(numerator=12,denominator=20)\n",
    "x=Fraction('1.234')\n",
    "print(x)\n",
    "x.numerator"
   ]
  },
  {
   "cell_type": "markdown",
   "metadata": {},
   "source": [
    "float objects have finite precision --> can be represented as fractions. Irrational numbers, e.g. pi are stored with finite precision in python and can therefore also be represented as fractions:"
   ]
  },
  {
   "cell_type": "code",
   "execution_count": 42,
   "metadata": {},
   "outputs": [
    {
     "name": "stdout",
     "output_type": "stream",
     "text": [
      "6369051672525773/4503599627370496\n",
      "884279719003555/281474976710656\n",
      "22/7\n",
      "159/35\n",
      "22/5\n"
     ]
    }
   ],
   "source": [
    "import math\n",
    "y=Fraction(math.sqrt(2))\n",
    "print(y)\n",
    "x=Fraction(math.pi)\n",
    "print(x)\n",
    "print(x.limit_denominator(10))\n",
    "#print(float(x.limit_denominator(10)))\n",
    "xi=x.limit_denominator(10)\n",
    "yi=y.limit_denominator(10)\n",
    "print(xi+yi) #arithmetic operation psossible with fractions\n",
    "print(xi*yi)"
   ]
  },
  {
   "cell_type": "markdown",
   "metadata": {},
   "source": [
    "some floats cannot be represented exactly, such as 0.3:"
   ]
  },
  {
   "cell_type": "code",
   "execution_count": 33,
   "metadata": {},
   "outputs": [
    {
     "data": {
      "text/plain": [
       "Fraction(5404319552844595, 18014398509481984)"
      ]
     },
     "execution_count": 33,
     "metadata": {},
     "output_type": "execute_result"
    }
   ],
   "source": [
    "a=0.3\n",
    "Fraction(a)"
   ]
  },
  {
   "cell_type": "code",
   "execution_count": 36,
   "metadata": {},
   "outputs": [
    {
     "data": {
      "text/plain": [
       "'0.299999999999999988897769753748'"
      ]
     },
     "execution_count": 36,
     "metadata": {},
     "output_type": "execute_result"
    }
   ],
   "source": [
    "format(a,'0.30f')"
   ]
  },
  {
   "cell_type": "code",
   "execution_count": null,
   "metadata": {},
   "outputs": [],
   "source": []
  }
 ],
 "metadata": {
  "kernelspec": {
   "display_name": "Python 3",
   "language": "python",
   "name": "python3"
  },
  "language_info": {
   "codemirror_mode": {
    "name": "ipython",
    "version": 3
   },
   "file_extension": ".py",
   "mimetype": "text/x-python",
   "name": "python",
   "nbconvert_exporter": "python",
   "pygments_lexer": "ipython3",
   "version": "3.7.6"
  }
 },
 "nbformat": 4,
 "nbformat_minor": 4
}
