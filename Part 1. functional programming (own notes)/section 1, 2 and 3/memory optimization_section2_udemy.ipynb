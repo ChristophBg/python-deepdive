{
 "cells": [
  {
   "cell_type": "markdown",
   "metadata": {},
   "source": [
    "    memory optimization\n",
    "depends on Python version in use, standard is \"c-Python\". Also java-Python exists and others."
   ]
  },
  {
   "cell_type": "markdown",
   "metadata": {},
   "source": [
    "python preloads (caches) integers from -5 to 256 upon loading."
   ]
  },
  {
   "cell_type": "code",
   "execution_count": 1,
   "metadata": {},
   "outputs": [
    {
     "name": "stdout",
     "output_type": "stream",
     "text": [
      "True\n",
      "False\n"
     ]
    }
   ],
   "source": [
    "a=10\n",
    "b=10\n",
    "print(a is b)\n",
    "c=257\n",
    "d=257\n",
    "print(c is d)"
   ]
  },
  {
   "cell_type": "code",
   "execution_count": 2,
   "metadata": {},
   "outputs": [
    {
     "name": "stdout",
     "output_type": "stream",
     "text": [
      "10 10 10 10\n",
      "4478289312 4478289312 4478289312 4478289312\n"
     ]
    }
   ],
   "source": [
    "x=10\n",
    "y=int(10)\n",
    "z=int('10')\n",
    "w=int('1010',base=2)\n",
    "print(x,y,z,w)\n",
    "print(id(x),id(y),id(z),id(w))"
   ]
  },
  {
   "cell_type": "code",
   "execution_count": 4,
   "metadata": {},
   "outputs": [
    {
     "data": {
      "text/plain": [
       "True"
      ]
     },
     "execution_count": 4,
     "metadata": {},
     "output_type": "execute_result"
    }
   ],
   "source": [
    "a=b=None\n",
    "a=b=500\n",
    "a is b"
   ]
  },
  {
   "cell_type": "markdown",
   "metadata": {},
   "source": [
    "interning can be done in addition to automatically interned objects, i.e. for string comparison with large numbers of comparisons."
   ]
  },
  {
   "cell_type": "markdown",
   "metadata": {},
   "source": [
    "    peepholing\n",
    "python precalcuates some constants, i.e. a multiplication (which doesn't change throughout, 2*5 is 10 and stays 10), but not all, if e.g. strings or lists larger than 20, they are not precalculated. "
   ]
  },
  {
   "cell_type": "code",
   "execution_count": 14,
   "metadata": {},
   "outputs": [],
   "source": [
    "def my_func():\n",
    "    a= 24*60 #will be pre-caclulated as 1440\n",
    "    b= (1,2)*5\n",
    "    c='abc'*3\n",
    "    d='ab'*11 #not precalculated because too long\n",
    "    e='the quick brown fox'*5\n",
    "    f=['a','b']*3"
   ]
  },
  {
   "cell_type": "code",
   "execution_count": 15,
   "metadata": {},
   "outputs": [
    {
     "data": {
      "text/plain": [
       "(None,\n",
       " 1440,\n",
       " (1, 2, 1, 2, 1, 2, 1, 2, 1, 2),\n",
       " 'abcabcabc',\n",
       " 'ababababababababababab',\n",
       " 'the quick brown foxthe quick brown foxthe quick brown foxthe quick brown foxthe quick brown fox',\n",
       " 'a',\n",
       " 'b',\n",
       " 3)"
      ]
     },
     "execution_count": 15,
     "metadata": {},
     "output_type": "execute_result"
    }
   ],
   "source": [
    "my_func.__code__.co_consts"
   ]
  },
  {
   "cell_type": "code",
   "execution_count": 19,
   "metadata": {},
   "outputs": [
    {
     "data": {
      "text/plain": [
       "(None, (1, 2, 3))"
      ]
     },
     "execution_count": 19,
     "metadata": {},
     "output_type": "execute_result"
    }
   ],
   "source": [
    "def my_func(e):\n",
    "    if e in [1,2,3]:\n",
    "        pass\n",
    "my_func.__code__.co_consts #--> list is turned into tuple"
   ]
  },
  {
   "cell_type": "code",
   "execution_count": 20,
   "metadata": {},
   "outputs": [
    {
     "data": {
      "text/plain": [
       "(None, frozenset({1, 2, 3}))"
      ]
     },
     "execution_count": 20,
     "metadata": {},
     "output_type": "execute_result"
    }
   ],
   "source": [
    "def my_func(e):\n",
    "    if e in {1,2,3}:\n",
    "        pass\n",
    "my_func.__code__.co_consts #--> set is turned into frozen set"
   ]
  },
  {
   "cell_type": "markdown",
   "metadata": {},
   "source": [
    "comparing timing between list, tuple and set:"
   ]
  },
  {
   "cell_type": "code",
   "execution_count": 21,
   "metadata": {},
   "outputs": [
    {
     "name": "stdout",
     "output_type": "stream",
     "text": [
      "['a', 'b', 'c', 'd', 'e', 'f', 'g', 'h', 'i', 'j', 'k', 'l', 'm', 'n', 'o', 'p', 'q', 'r', 's', 't', 'u', 'v', 'w', 'x', 'y', 'z', 'A', 'B', 'C', 'D', 'E', 'F', 'G', 'H', 'I', 'J', 'K', 'L', 'M', 'N', 'O', 'P', 'Q', 'R', 'S', 'T', 'U', 'V', 'W', 'X', 'Y', 'Z']\n",
      "('a', 'b', 'c', 'd', 'e', 'f', 'g', 'h', 'i', 'j', 'k', 'l', 'm', 'n', 'o', 'p', 'q', 'r', 's', 't', 'u', 'v', 'w', 'x', 'y', 'z', 'A', 'B', 'C', 'D', 'E', 'F', 'G', 'H', 'I', 'J', 'K', 'L', 'M', 'N', 'O', 'P', 'Q', 'R', 'S', 'T', 'U', 'V', 'W', 'X', 'Y', 'Z')\n",
      "{'O', 'g', 'p', 'H', 'K', 'X', 'Y', 'M', 'x', 'A', 'c', 'k', 'I', 'e', 'B', 'E', 'Q', 'R', 'T', 'v', 'w', 'P', 'Z', 'z', 'd', 'm', 'f', 'j', 'r', 'W', 'l', 'o', 'G', 'i', 'V', 'C', 'J', 'L', 'D', 'S', 't', 'u', 's', 'q', 'N', 'a', 'y', 'F', 'U', 'h', 'b', 'n'}\n"
     ]
    }
   ],
   "source": [
    "import string\n",
    "import time\n",
    "char_list=list(string.ascii_letters)\n",
    "char_tuple=tuple(string.ascii_letters)\n",
    "char_set=set(string.ascii_letters)\n",
    "print(char_list)\n",
    "print(char_tuple)\n",
    "print(char_set) # notice that set is not ordered, unlike tuple and list"
   ]
  },
  {
   "cell_type": "code",
   "execution_count": 22,
   "metadata": {},
   "outputs": [],
   "source": [
    "def membership_test(n,container):\n",
    "    for i in range(n):\n",
    "        if 'z'  in container:\n",
    "            pass"
   ]
  },
  {
   "cell_type": "code",
   "execution_count": 24,
   "metadata": {},
   "outputs": [
    {
     "name": "stdout",
     "output_type": "stream",
     "text": [
      "list: 4.870957656999963\n",
      "tuple: 5.1860268769996765\n",
      "set: 0.5856242110003222 <-- set is a lot faster\n"
     ]
    }
   ],
   "source": [
    "start=time.perf_counter()\n",
    "membership_test(10000000,char_list)\n",
    "end=time.perf_counter()\n",
    "print('list:', end-start)\n",
    "start=time.perf_counter()\n",
    "membership_test(10000000,char_tuple)\n",
    "end=time.perf_counter()\n",
    "print('tuple:', end-start)\n",
    "start=time.perf_counter()\n",
    "membership_test(10000000,char_set)\n",
    "end=time.perf_counter()\n",
    "print('set:', end-start, '<-- set is a lot faster')"
   ]
  },
  {
   "cell_type": "code",
   "execution_count": null,
   "metadata": {},
   "outputs": [],
   "source": []
  }
 ],
 "metadata": {
  "kernelspec": {
   "display_name": "Python 3",
   "language": "python",
   "name": "python3"
  },
  "language_info": {
   "codemirror_mode": {
    "name": "ipython",
    "version": 3
   },
   "file_extension": ".py",
   "mimetype": "text/x-python",
   "name": "python",
   "nbconvert_exporter": "python",
   "pygments_lexer": "ipython3",
   "version": "3.7.6"
  }
 },
 "nbformat": 4,
 "nbformat_minor": 4
}
