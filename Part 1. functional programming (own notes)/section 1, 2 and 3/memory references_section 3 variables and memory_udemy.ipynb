{
 "cells": [
  {
   "cell_type": "markdown",
   "metadata": {},
   "source": [
    "    Variables are memory references\n",
    "data is stored in memory addresses, can use up more than one memory slot /addresses;\n",
    "\"heap\" is the sum of used memory slots;\n",
    "\"overflowing\" using up more than one memory slot;\n",
    "\"var_1 references the object at memory 0x1002\""
   ]
  },
  {
   "cell_type": "markdown",
   "metadata": {},
   "source": [
    "use id() function to get reference of variable:"
   ]
  },
  {
   "cell_type": "code",
   "execution_count": 5,
   "metadata": {},
   "outputs": [
    {
     "name": "stdout",
     "output_type": "stream",
     "text": [
      "4314965408\n",
      "0x1013125a0\n"
     ]
    }
   ],
   "source": [
    "a=10\n",
    "print(id(a))\n",
    "print(hex(id(a))) # hex() gives decimal version of id"
   ]
  },
  {
   "cell_type": "markdown",
   "metadata": {},
   "source": [
    "    reference counting\n",
    "i.e. how many references are pointing to that object?\n",
    "Python memory manager counts references, discards objects from memory if no variable references it anymore\n",
    "sys.getrefcount() is always +1 since calling variable in function is referencing the object of that variable, can use ctypes version instead"
   ]
  },
  {
   "cell_type": "code",
   "execution_count": 10,
   "metadata": {},
   "outputs": [
    {
     "name": "stdout",
     "output_type": "stream",
     "text": [
      "0x7fd7bdb9d500\n",
      "2\n"
     ]
    }
   ],
   "source": [
    "import sys\n",
    "a=[1,2,3]\n",
    "print(hex(id(a)))\n",
    "print(sys.getrefcount(a))"
   ]
  },
  {
   "cell_type": "code",
   "execution_count": 14,
   "metadata": {},
   "outputs": [
    {
     "data": {
      "text/plain": [
       "1"
      ]
     },
     "execution_count": 14,
     "metadata": {},
     "output_type": "execute_result"
    }
   ],
   "source": [
    "import ctypes\n",
    "def get_ref(address : int):\n",
    "    return ctypes.c_long.from_address(address).value\n",
    "a=[1,2,3]\n",
    "get_ref(id(a))"
   ]
  },
  {
   "cell_type": "markdown",
   "metadata": {},
   "source": [
    "    garbage collection\n",
    "not the same as reference counting\n",
    "in case of circular references of objects not used anymore, Pythons Garbage collector finds these and deletes them.\n",
    "GC can be turned off, but shouldn't (advaced stuff)"
   ]
  },
  {
   "cell_type": "markdown",
   "metadata": {},
   "source": [
    "    python is dynamically typed\n",
    "in e.g. Java, data type is assigned to variable upon creation, in python not. Variables can change type. "
   ]
  },
  {
   "cell_type": "code",
   "execution_count": 18,
   "metadata": {},
   "outputs": [
    {
     "name": "stdout",
     "output_type": "stream",
     "text": [
      "0x1013125a0\n",
      "<class 'int'>\n",
      "0x7fd7bb957bb0\n",
      "<class 'str'>\n"
     ]
    }
   ],
   "source": [
    "a=10\n",
    "print(hex(id(a)))\n",
    "print(type(a)) #reference to integer object\n",
    "a='abc'\n",
    "print(hex(id(a)))\n",
    "print(type(a)) #reference to string object at other memory reference"
   ]
  },
  {
   "cell_type": "markdown",
   "metadata": {},
   "source": [
    "variable stays the same but the memory address and the type of the object at that memory reference change.\n",
    "Also when adding sth to an object of ame type, the object at the memory address is not changed but a new object created.\n",
    "But, memory ojects may be reused by several variables"
   ]
  },
  {
   "cell_type": "code",
   "execution_count": 26,
   "metadata": {},
   "outputs": [
    {
     "name": "stdout",
     "output_type": "stream",
     "text": [
      "0x1013125a0\n",
      "0x101312640\n",
      "address of a: 0x101312640 address of b: 0x101312640\n"
     ]
    },
    {
     "data": {
      "text/plain": [
       "True"
      ]
     },
     "execution_count": 26,
     "metadata": {},
     "output_type": "execute_result"
    }
   ],
   "source": [
    "a=10\n",
    "print(hex(id(a)))\n",
    "a+=5\n",
    "print(hex(id(a)))\n",
    "b=15\n",
    "print('address of a:', hex(id(a)),'address of b:',hex(id(b)))\n",
    "True if hex(id(a))==hex(id(b)) else False\n"
   ]
  },
  {
   "cell_type": "code",
   "execution_count": null,
   "metadata": {},
   "outputs": [],
   "source": []
  }
 ],
 "metadata": {
  "kernelspec": {
   "display_name": "Python 3 (ipykernel)",
   "language": "python",
   "name": "python3"
  },
  "language_info": {
   "codemirror_mode": {
    "name": "ipython",
    "version": 3
   },
   "file_extension": ".py",
   "mimetype": "text/x-python",
   "name": "python",
   "nbconvert_exporter": "python",
   "pygments_lexer": "ipython3",
   "version": "3.9.7"
  }
 },
 "nbformat": 4,
 "nbformat_minor": 4
}
