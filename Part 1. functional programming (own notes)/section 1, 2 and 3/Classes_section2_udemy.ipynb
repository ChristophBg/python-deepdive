{
 "cells": [
  {
   "cell_type": "markdown",
   "metadata": {},
   "source": [
    "    Classes_Section2_udemy"
   ]
  },
  {
   "cell_type": "markdown",
   "metadata": {},
   "source": [
    "__init__ (read \"donder init donder\")\n",
    "def __init__(self,a,b): self: first argument means instance that was just created\n",
    "__init__ function is called when initializing the instance"
   ]
  },
  {
   "cell_type": "code",
   "execution_count": 1,
   "metadata": {},
   "outputs": [
    {
     "data": {
      "text/plain": [
       "20"
      ]
     },
     "execution_count": 1,
     "metadata": {},
     "output_type": "execute_result"
    }
   ],
   "source": [
    "class Rectangle:\n",
    "    def __init__(self, height, width):\n",
    "        self.height=height\n",
    "        self.width=width\n",
    "\n",
    "r1=Rectangle(10,20)\n",
    "r1.width"
   ]
  },
  {
   "cell_type": "markdown",
   "metadata": {},
   "source": [
    "not necessary to call it \"self\" but customary. \"self\" is just an instance attribute"
   ]
  },
  {
   "cell_type": "code",
   "execution_count": 2,
   "metadata": {},
   "outputs": [
    {
     "data": {
      "text/plain": [
       "200"
      ]
     },
     "execution_count": 2,
     "metadata": {},
     "output_type": "execute_result"
    }
   ],
   "source": [
    "class Rectangle:\n",
    "    def __init__(self, height, width):\n",
    "        self.height=height\n",
    "        self.width=width\n",
    "    \n",
    "    def area(self):\n",
    "        return self.height*self.width\n",
    "    \n",
    "    def perimeter(self):\n",
    "        return 2*self.height+2*self.width\n",
    "\n",
    "r1=Rectangle(10,20)\n",
    "r1.area()"
   ]
  },
  {
   "cell_type": "code",
   "execution_count": 3,
   "metadata": {},
   "outputs": [
    {
     "data": {
      "text/plain": [
       "<__main__.Rectangle at 0x112a21f10>"
      ]
     },
     "execution_count": 3,
     "metadata": {},
     "output_type": "execute_result"
    }
   ],
   "source": [
    "r1"
   ]
  },
  {
   "cell_type": "markdown",
   "metadata": {},
   "source": [
    "    Special Methods\n",
    "using special methods aka. \"magic methods\": overloading the in-built str() method for this class with __str__()"
   ]
  },
  {
   "cell_type": "code",
   "execution_count": 4,
   "metadata": {},
   "outputs": [
    {
     "data": {
      "text/plain": [
       "'Rectangle with height 10 and width 20'"
      ]
     },
     "execution_count": 4,
     "metadata": {},
     "output_type": "execute_result"
    }
   ],
   "source": [
    "class Rectangle:\n",
    "    def __init__(self, height, width):\n",
    "        self.height=height\n",
    "        self.width=width\n",
    "    \n",
    "    def area(self):\n",
    "        return self.height*self.width\n",
    "    \n",
    "    def __str__(self):\n",
    "        return 'Rectangle with height {0} and width {1}'.format(self.height, self.width)\n",
    "\n",
    "r1=Rectangle(10,20)\n",
    "str(r1)"
   ]
  },
  {
   "cell_type": "markdown",
   "metadata": {},
   "source": [
    "another important special method: \"__repr__\" for representation, should tell user how to recreate the object\n"
   ]
  },
  {
   "cell_type": "code",
   "execution_count": 6,
   "metadata": {},
   "outputs": [],
   "source": [
    "class Rectangle:\n",
    "    def __init__(self, height, width):\n",
    "        self.height=height\n",
    "        self.width=width\n",
    "    \n",
    "    def area(self):\n",
    "        return self.height*self.width\n",
    "    \n",
    "    def __str__(self):\n",
    "        return 'Rectangle with height {0} and width {1}'.format(self.height, self.width)\n",
    "    \n",
    "    def __repr__(self):\n",
    "        return 'Rectangle({0},{1})'.format(self.height, self.width)\n",
    "r1=Rectangle(20,50)"
   ]
  },
  {
   "cell_type": "code",
   "execution_count": 7,
   "metadata": {},
   "outputs": [
    {
     "data": {
      "text/plain": [
       "Rectangle(20,50)"
      ]
     },
     "execution_count": 7,
     "metadata": {},
     "output_type": "execute_result"
    }
   ],
   "source": [
    "r1"
   ]
  },
  {
   "cell_type": "markdown",
   "metadata": {},
   "source": [
    "when defining two objects with same properties, i.e. r1 and r2, \"r1 is r2\" returns false, so does \"r1 == r2\". Needs overloading of eqaulity inbuilt method:\n",
    "    comparing two objects of same class with special method __eq__(other, self)\n",
    "should return True for \"r1 == r2\" if they have same properties, \"is\" still returns false since both objects have different memory address.\n",
    "\n",
    "also possible to overload less than and greater than operators: __lt__(), __gt__()"
   ]
  },
  {
   "cell_type": "code",
   "execution_count": 21,
   "metadata": {},
   "outputs": [],
   "source": [
    "class Rectangle:\n",
    "    def __init__(self, height, width):\n",
    "        self.height=height\n",
    "        self.width=width\n",
    "    \n",
    "    def area(self):\n",
    "        return self.height*self.width\n",
    "    \n",
    "    def __str__(self):\n",
    "        return 'Rectangle with height {0} and width {1}'.format(self.height, self.width)\n",
    "\n",
    "    def __repr__(self):\n",
    "        return 'Rectangle({0},{1})'.format(self.height, self.width)\n",
    "    \n",
    "    def __eq__(self, other):\n",
    "        if isinstance(other, Rectangle):\n",
    "            return (self.width, self.height) ==(other.width, other.height) #could also write self.width == other.width and self.height...\n",
    "        else:\n",
    "            return False\n",
    "    \n",
    "    def __gt__(self, other):\n",
    "        if isinstance(other, Rectangle):\n",
    "            return self.area() > other.area()\n",
    "        else:\n",
    "            return NotImplemented"
   ]
  },
  {
   "cell_type": "code",
   "execution_count": 22,
   "metadata": {},
   "outputs": [],
   "source": [
    "r1=Rectangle(10,20)\n",
    "r2=Rectangle(10,20)"
   ]
  },
  {
   "cell_type": "code",
   "execution_count": 17,
   "metadata": {},
   "outputs": [
    {
     "data": {
      "text/plain": [
       "False"
      ]
     },
     "execution_count": 17,
     "metadata": {},
     "output_type": "execute_result"
    }
   ],
   "source": [
    "r1 is r2"
   ]
  },
  {
   "cell_type": "code",
   "execution_count": 18,
   "metadata": {},
   "outputs": [
    {
     "data": {
      "text/plain": [
       "True"
      ]
     },
     "execution_count": 18,
     "metadata": {},
     "output_type": "execute_result"
    }
   ],
   "source": [
    "r1 == r2"
   ]
  },
  {
   "cell_type": "code",
   "execution_count": 20,
   "metadata": {},
   "outputs": [
    {
     "data": {
      "text/plain": [
       "False"
      ]
     },
     "execution_count": 20,
     "metadata": {},
     "output_type": "execute_result"
    }
   ],
   "source": [
    "r1 ==100"
   ]
  },
  {
   "cell_type": "markdown",
   "metadata": {},
   "source": [
    "can't use overloaded equality method for non-Rectangle objects, since method expects width and height. Need to control for that with isinstance() (check error by commenting out lines in above code)"
   ]
  },
  {
   "cell_type": "code",
   "execution_count": 25,
   "metadata": {},
   "outputs": [],
   "source": [
    "r1=Rectangle(100,200)\n",
    "r2=Rectangle(10,20)"
   ]
  },
  {
   "cell_type": "code",
   "execution_count": 26,
   "metadata": {},
   "outputs": [
    {
     "data": {
      "text/plain": [
       "True"
      ]
     },
     "execution_count": 26,
     "metadata": {},
     "output_type": "execute_result"
    }
   ],
   "source": [
    "r1 > r2"
   ]
  },
  {
   "cell_type": "code",
   "execution_count": 27,
   "metadata": {},
   "outputs": [
    {
     "data": {
      "text/plain": [
       "False"
      ]
     },
     "execution_count": 27,
     "metadata": {},
     "output_type": "execute_result"
    }
   ],
   "source": [
    "r1<r2"
   ]
  },
  {
   "cell_type": "markdown",
   "metadata": {},
   "source": [
    "even though __lt__() wasn't defined, python noticed that __gt__() was and flipped r1<r2 to r2>r1"
   ]
  },
  {
   "cell_type": "markdown",
   "metadata": {},
   "source": [
    "    get and set methods\n",
    "used to control values put in by user\n",
    "why necessary:"
   ]
  },
  {
   "cell_type": "code",
   "execution_count": 30,
   "metadata": {},
   "outputs": [
    {
     "data": {
      "text/plain": [
       "Rectangle(100,-10)"
      ]
     },
     "execution_count": 30,
     "metadata": {},
     "output_type": "execute_result"
    }
   ],
   "source": [
    "r1.width=-10\n",
    "r1"
   ]
  },
  {
   "cell_type": "markdown",
   "metadata": {},
   "source": [
    "--> could set negative values for r1, which doesn't make sense. \n",
    "Tell users to not mess with width and height by declaring them private variables:"
   ]
  },
  {
   "cell_type": "code",
   "execution_count": 40,
   "metadata": {},
   "outputs": [],
   "source": [
    "class Rectangle:\n",
    "    def __init__(self, height, width):\n",
    "        self._height=height #changed self.height to self._height\n",
    "        self._width=width\n",
    "    \n",
    "    # get functions:\n",
    "    def get_height(self):\n",
    "        return self._height\n",
    "    \n",
    "    def get_width(self):\n",
    "        return self._width\n",
    "    \n",
    "    # set functions:\n",
    "    def set_height(self,height):\n",
    "        if height <=0:\n",
    "            raise ValueError('height must be positive, your input {0}'.format(height))\n",
    "        else:\n",
    "            self._height=height\n",
    "    \n",
    "    def set_width(self,width):\n",
    "        if width <=0:\n",
    "            raise ValueError('width must be positive, your input {0}'.format(width))\n",
    "        else:\n",
    "            self._width=width\n",
    "    \n",
    "    def area(self):\n",
    "        return self._height*self._width\n",
    "    \n",
    "    def __str__(self):\n",
    "        return 'Rectangle with height {0} and width {1}'.format(self._height, self._width)\n",
    "\n",
    "    def __repr__(self):\n",
    "        return 'Rectangle({0},{1})'.format(self._height, self._width)\n",
    "    \n",
    "    def __eq__(self, other):\n",
    "        if isinstance(other, Rectangle):\n",
    "            return (self._width, self._height) ==(other._width, other._height) \n",
    "        else:\n",
    "            return False\n"
   ]
  },
  {
   "cell_type": "code",
   "execution_count": 41,
   "metadata": {},
   "outputs": [],
   "source": [
    "r1=Rectangle(10,20)"
   ]
  },
  {
   "cell_type": "code",
   "execution_count": 42,
   "metadata": {},
   "outputs": [
    {
     "data": {
      "text/plain": [
       "Rectangle(10,20)"
      ]
     },
     "execution_count": 42,
     "metadata": {},
     "output_type": "execute_result"
    }
   ],
   "source": [
    "r1"
   ]
  },
  {
   "cell_type": "code",
   "execution_count": 45,
   "metadata": {},
   "outputs": [
    {
     "ename": "ValueError",
     "evalue": "width must be positive, your input -10",
     "output_type": "error",
     "traceback": [
      "\u001b[0;31m---------------------------------------------------------------------------\u001b[0m",
      "\u001b[0;31mValueError\u001b[0m                                Traceback (most recent call last)",
      "\u001b[0;32m<ipython-input-45-b2f75b19b78a>\u001b[0m in \u001b[0;36m<module>\u001b[0;34m\u001b[0m\n\u001b[0;32m----> 1\u001b[0;31m \u001b[0mr1\u001b[0m\u001b[0;34m.\u001b[0m\u001b[0mset_width\u001b[0m\u001b[0;34m(\u001b[0m\u001b[0;34m-\u001b[0m\u001b[0;36m10\u001b[0m\u001b[0;34m)\u001b[0m\u001b[0;34m\u001b[0m\u001b[0;34m\u001b[0m\u001b[0m\n\u001b[0m",
      "\u001b[0;32m<ipython-input-40-615edd24ce56>\u001b[0m in \u001b[0;36mset_width\u001b[0;34m(self, width)\u001b[0m\n\u001b[1;32m     20\u001b[0m     \u001b[0;32mdef\u001b[0m \u001b[0mset_width\u001b[0m\u001b[0;34m(\u001b[0m\u001b[0mself\u001b[0m\u001b[0;34m,\u001b[0m\u001b[0mwidth\u001b[0m\u001b[0;34m)\u001b[0m\u001b[0;34m:\u001b[0m\u001b[0;34m\u001b[0m\u001b[0;34m\u001b[0m\u001b[0m\n\u001b[1;32m     21\u001b[0m         \u001b[0;32mif\u001b[0m \u001b[0mwidth\u001b[0m \u001b[0;34m<=\u001b[0m\u001b[0;36m0\u001b[0m\u001b[0;34m:\u001b[0m\u001b[0;34m\u001b[0m\u001b[0;34m\u001b[0m\u001b[0m\n\u001b[0;32m---> 22\u001b[0;31m             \u001b[0;32mraise\u001b[0m \u001b[0mValueError\u001b[0m\u001b[0;34m(\u001b[0m\u001b[0;34m'width must be positive, your input {0}'\u001b[0m\u001b[0;34m.\u001b[0m\u001b[0mformat\u001b[0m\u001b[0;34m(\u001b[0m\u001b[0mwidth\u001b[0m\u001b[0;34m)\u001b[0m\u001b[0;34m)\u001b[0m\u001b[0;34m\u001b[0m\u001b[0;34m\u001b[0m\u001b[0m\n\u001b[0m\u001b[1;32m     23\u001b[0m         \u001b[0;32melse\u001b[0m\u001b[0;34m:\u001b[0m\u001b[0;34m\u001b[0m\u001b[0;34m\u001b[0m\u001b[0m\n\u001b[1;32m     24\u001b[0m             \u001b[0mself\u001b[0m\u001b[0;34m.\u001b[0m\u001b[0m_width\u001b[0m\u001b[0;34m=\u001b[0m\u001b[0mwidth\u001b[0m\u001b[0;34m\u001b[0m\u001b[0;34m\u001b[0m\u001b[0m\n",
      "\u001b[0;31mValueError\u001b[0m: width must be positive, your input -10"
     ]
    }
   ],
   "source": [
    "r1.set_width(-10)"
   ]
  },
  {
   "cell_type": "code",
   "execution_count": 46,
   "metadata": {},
   "outputs": [
    {
     "data": {
      "text/plain": [
       "Rectangle(10,10)"
      ]
     },
     "execution_count": 46,
     "metadata": {},
     "output_type": "execute_result"
    }
   ],
   "source": [
    "r1"
   ]
  },
  {
   "cell_type": "markdown",
   "metadata": {},
   "source": [
    "BUT! in python actually not necessary to write get-ers and set-ers from the outset, use decorators with get-er function...\n",
    "    decorators: function after decorator is a property\n",
    "using properties helps avoid braking backward-compatibility"
   ]
  },
  {
   "cell_type": "code",
   "execution_count": null,
   "metadata": {},
   "outputs": [],
   "source": []
  }
 ],
 "metadata": {
  "kernelspec": {
   "display_name": "Python 3 (ipykernel)",
   "language": "python",
   "name": "python3"
  },
  "language_info": {
   "codemirror_mode": {
    "name": "ipython",
    "version": 3
   },
   "file_extension": ".py",
   "mimetype": "text/x-python",
   "name": "python",
   "nbconvert_exporter": "python",
   "pygments_lexer": "ipython3",
   "version": "3.9.7"
  }
 },
 "nbformat": 4,
 "nbformat_minor": 4
}
