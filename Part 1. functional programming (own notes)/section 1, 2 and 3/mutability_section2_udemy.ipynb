{
 "cells": [
  {
   "cell_type": "markdown",
   "metadata": {},
   "source": [
    "    Object mutability and immutability\n",
    "immutable datatypes: int, str, tuples, frozen sets.\n",
    "mutable datatypes: lists, dictionaries, sets.\n",
    "\n",
    "Examples of mutability:"
   ]
  },
  {
   "cell_type": "code",
   "execution_count": 9,
   "metadata": {},
   "outputs": [
    {
     "name": "stdout",
     "output_type": "stream",
     "text": [
      "0x7fae5e4a15a0\n",
      "0x7fae5e4a15a0\n",
      "0x7fae5e5ceeb0\n",
      "\n",
      " 0x7fae5e533aa0\n",
      "0x7fae5e533aa0\n"
     ]
    }
   ],
   "source": [
    "my_list=[1,2,3]\n",
    "print(hex(id(my_list)))\n",
    "my_list.append(4)\n",
    "print(hex(id(my_list))) #same memory address, object at that address changed ->mutated\n",
    "#but:\n",
    "my_list=my_list + [5]\n",
    "print(hex(id(my_list))) # different address since Python first evaluates right side, creates new list\n",
    "\n",
    "my_dic=dict(key1=1,key2=\"abc\")\n",
    "print(\"\\n\",hex(id(my_dic)))\n",
    "my_dic['key3']=0.45\n",
    "print(hex(id(my_dic))) #same memory address, changed object -> mutated"
   ]
  },
  {
   "cell_type": "markdown",
   "metadata": {},
   "source": [
    "    function arguments and mutability\n",
    "..."
   ]
  },
  {
   "cell_type": "code",
   "execution_count": null,
   "metadata": {},
   "outputs": [],
   "source": []
  }
 ],
 "metadata": {
  "kernelspec": {
   "display_name": "Python 3 (ipykernel)",
   "language": "python",
   "name": "python3"
  },
  "language_info": {
   "codemirror_mode": {
    "name": "ipython",
    "version": 3
   },
   "file_extension": ".py",
   "mimetype": "text/x-python",
   "name": "python",
   "nbconvert_exporter": "python",
   "pygments_lexer": "ipython3",
   "version": "3.9.7"
  }
 },
 "nbformat": 4,
 "nbformat_minor": 4
}
