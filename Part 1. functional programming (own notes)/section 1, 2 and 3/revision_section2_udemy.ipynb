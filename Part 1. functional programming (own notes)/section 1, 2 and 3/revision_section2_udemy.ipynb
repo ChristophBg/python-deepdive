{
 "cells": [
  {
   "cell_type": "markdown",
   "metadata": {},
   "source": [
    "                Section 2: A Quick Refresher "
   ]
  },
  {
   "cell_type": "markdown",
   "metadata": {},
   "source": [
    "Notes mixed with code for the udemy class \"Python 3: Deep Dive Part1\"\n",
    "\n",
    "Using Jupyter notebook so taht I can mix Code with comments.\n",
    "Test:"
   ]
  },
  {
   "cell_type": "code",
   "execution_count": 2,
   "metadata": {},
   "outputs": [
    {
     "name": "stdout",
     "output_type": "stream",
     "text": [
      "this is executable code\n"
     ]
    }
   ],
   "source": [
    "print(\"this is executable code\")"
   ]
  },
  {
   "cell_type": "markdown",
   "metadata": {},
   "source": [
    "Section 2: A Quick Refresher \n",
    "\n",
    "Multiline statements:"
   ]
  },
  {
   "cell_type": "code",
   "execution_count": 3,
   "metadata": {},
   "outputs": [
    {
     "name": "stdout",
     "output_type": "stream",
     "text": [
      "[1, 2, 3]\n",
      "[1, 2] [1, 2]\n",
      "True\n",
      "multiline strings\n",
      " test\n",
      "\t test\n",
      "test\n",
      "(doesn't strip newline character automatically)\n",
      "100 200\n"
     ]
    }
   ],
   "source": [
    "\n",
    "a=[1,\n",
    "2,\t\t# can comment inbetween\n",
    "3]\n",
    "print(a)\n",
    "b=[1, #comma before comment\n",
    "\t2]\n",
    "c=[1 #comma after comment\n",
    "\t,2]\n",
    "print(b,c)\n",
    "\n",
    "# \\ character for breaking up statements \"line continuation character\"\n",
    "if len(a) <4 \\\n",
    "and a[2]==3:\n",
    "\tprint(True)\n",
    "    \n",
    "print(\"\"\" test\n",
    "\\t test\n",
    "test\n",
    "(doesn't strip newline character automatically)\"\"\")\n",
    "\n",
    "# also works for functions\n",
    "def my_func(a,\n",
    "\t\tb):\n",
    "\tprint(a,b)\n",
    "\n",
    "my_func(100\n",
    "\t\t, 200)"
   ]
  },
  {
   "cell_type": "markdown",
   "metadata": {},
   "source": [
    "Ternary operator:"
   ]
  },
  {
   "cell_type": "code",
   "execution_count": 13,
   "metadata": {},
   "outputs": [
    {
     "data": {
      "text/plain": [
       "'y is bigger'"
      ]
     },
     "execution_count": 13,
     "metadata": {},
     "output_type": "execute_result"
    }
   ],
   "source": [
    "x=2\n",
    "y=3\n",
    "True if x>1  else False\n",
    "\"x is bigger\" if x>y else \"y is bigger\""
   ]
  },
  {
   "cell_type": "markdown",
   "metadata": {},
   "source": [
    "TO DO: READ PEP8 & PEP20 STYLE GUIDS\n",
    "\n",
    "Naming Conventions see PEP8:\n",
    "https://www.python.org/dev/peps/pep-0008/#prescriptive-naming-conventions"
   ]
  },
  {
   "cell_type": "markdown",
   "metadata": {},
   "source": [
    "    Functions\n",
    "input arguments' type doesn't have to be defined but it's possibel to write a comment as to what to expect:"
   ]
  },
  {
   "cell_type": "code",
   "execution_count": 17,
   "metadata": {},
   "outputs": [
    {
     "data": {
      "text/plain": [
       "'bbb'"
      ]
     },
     "execution_count": 17,
     "metadata": {},
     "output_type": "execute_result"
    }
   ],
   "source": [
    "def my_func1(a: int, b: int):\n",
    "    return a*b\n",
    "my_func1(2,4)\n",
    "my_func1(3,'b') # b is not expected type, but python doesn't care"
   ]
  },
  {
   "cell_type": "markdown",
   "metadata": {},
   "source": [
    "--> shows how flexible/ polymorphous Python is"
   ]
  },
  {
   "cell_type": "markdown",
   "metadata": {},
   "source": [
    "Lambdas, briefly:"
   ]
  },
  {
   "cell_type": "code",
   "execution_count": 19,
   "metadata": {},
   "outputs": [
    {
     "data": {
      "text/plain": [
       "16"
      ]
     },
     "execution_count": 19,
     "metadata": {},
     "output_type": "execute_result"
    }
   ],
   "source": [
    "quickf=lambda x: x**2\n",
    "quickf(4)"
   ]
  },
  {
   "cell_type": "markdown",
   "metadata": {},
   "source": [
    "    While loop\n",
    "standard pattern of while loop example:"
   ]
  },
  {
   "cell_type": "code",
   "execution_count": 21,
   "metadata": {},
   "outputs": [
    {
     "name": "stdin",
     "output_type": "stream",
     "text": [
      "enter name: 2\n",
      "enter name: 3\n",
      "enter name: w\n",
      "enter name: er3\n",
      "enter name: erg567\n",
      "enter name: Christoph\n"
     ]
    },
    {
     "name": "stdout",
     "output_type": "stream",
     "text": [
      "Hello, Christoph\n"
     ]
    }
   ],
   "source": [
    "#have user enter name with certain restricitions, prompt repeateldy until correct\n",
    "min_length=2\n",
    "while True:\n",
    "    name=input(\"enter name:\")\n",
    "    if len(name)>=min_length and name.isprintable() and name.isalpha():\n",
    "        break\n",
    "print(\"Hello, {0}\".format(name))"
   ]
  },
  {
   "cell_type": "markdown",
   "metadata": {},
   "source": [
    "\n",
    "using else with while loop:\n",
    "Example: check whether value is in list, if not append "
   ]
  },
  {
   "cell_type": "code",
   "execution_count": 24,
   "metadata": {},
   "outputs": [
    {
     "name": "stdout",
     "output_type": "stream",
     "text": [
      "[1, 2, 3, 4, 5, 10]\n"
     ]
    }
   ],
   "source": [
    "l=[1,2,3,4,5]\n",
    "val=10\n",
    "idx=0\n",
    "while idx<len(l):\n",
    "    if l[idx]==val:\n",
    "        break\n",
    "    idx+=1\n",
    "else:\n",
    "    l.append(val)\n",
    "print(l)"
   ]
  },
  {
   "cell_type": "markdown",
   "metadata": {},
   "source": [
    "    try, except and finally\n",
    "finally alwas runs, even when there's an exception"
   ]
  },
  {
   "cell_type": "code",
   "execution_count": 27,
   "metadata": {},
   "outputs": [
    {
     "name": "stdout",
     "output_type": "stream",
     "text": [
      "this runs always\n"
     ]
    }
   ],
   "source": [
    "a=10\n",
    "b=0\n",
    "try:\n",
    "    a/b\n",
    "except ZeroDivisionError: #only catching if this specific error occurs\n",
    "    print(\"division by 0\")\n",
    "finally:\n",
    "    print(\"this runs always\")"
   ]
  },
  {
   "cell_type": "markdown",
   "metadata": {},
   "source": [
    "combining while and else with try, except and finally:"
   ]
  },
  {
   "cell_type": "code",
   "execution_count": 41,
   "metadata": {},
   "outputs": [
    {
     "name": "stdout",
     "output_type": "stream",
     "text": [
      "...\n",
      "divided 5 by 2\n",
      "...\n",
      "divided 6 by 1\n",
      "...\n",
      "zero division error occured when dividing 7 by 0\n",
      "divided 7 by 0\n",
      "...\n",
      "divided 8 by -1\n",
      "no zero division error occurred\n"
     ]
    }
   ],
   "source": [
    "a=4\n",
    "b=3\n",
    "while a<8:\n",
    "    print(\"...\")\n",
    "    a+=1\n",
    "    b-=1\n",
    "    try:\n",
    "        a/b\n",
    "    except ZeroDivisionError:\n",
    "        print(\"zero division error occured when dividing {0} by {1}\".format(a,b))\n",
    "        continue # or break\n",
    "    finally:\n",
    "        print(\"divided {0} by {1}\".format(a,b)) \n",
    "else: #only works properly with break instead of continue here (why?)\n",
    "    print(\"no zero division error occurred\")"
   ]
  },
  {
   "cell_type": "markdown",
   "metadata": {},
   "source": [
    "read   \"divided {0} by {1}\".format(a,b)   as format first element ({0}) as a, second element{(1}) as b"
   ]
  },
  {
   "cell_type": "markdown",
   "metadata": {},
   "source": [
    "    for loop\n",
    "also for for loops, break and else can be combined"
   ]
  },
  {
   "cell_type": "code",
   "execution_count": 42,
   "metadata": {},
   "outputs": [
    {
     "name": "stdout",
     "output_type": "stream",
     "text": [
      "1\n",
      "2\n",
      "3\n",
      "4\n",
      "5\n",
      "6\n",
      "7\n",
      "7 is multiple of 7\n"
     ]
    }
   ],
   "source": [
    "for i in range(1,8):\n",
    "    print(i)\n",
    "    if i%7==0: #i.e. if i is a multiple of 7\n",
    "        print('{0} is multiple of 7'.format(i))\n",
    "        break\n",
    "else:\n",
    "    print('no multiples of 7 in string')"
   ]
  },
  {
   "cell_type": "markdown",
   "metadata": {},
   "source": [
    "using enumerate() in for loop:\n",
    "enumerate returns tuple of index and element for an iterable object."
   ]
  },
  {
   "cell_type": "code",
   "execution_count": 55,
   "metadata": {},
   "outputs": [
    {
     "name": "stdout",
     "output_type": "stream",
     "text": [
      "---\n",
      "0 H\n",
      "next character is e\n",
      "(0, 'h')\n",
      "---\n",
      "1 E\n",
      "next character is l\n",
      "(0, 'h')\n",
      "---\n",
      "2 L\n",
      "next character is l\n",
      "(0, 'h')\n",
      "---\n",
      "3 L\n",
      "next character is o\n",
      "(0, 'h')\n",
      "---\n",
      "4 O\n",
      "next character is  \n",
      "(0, 'h')\n",
      "---\n",
      "5  \n",
      "next character is t\n",
      "(0, 'h')\n",
      "---\n",
      "6 T\n",
      "next character is h\n",
      "(0, 'h')\n",
      "---\n",
      "7 H\n",
      "next character is e\n",
      "(0, 'h')\n",
      "---\n",
      "8 E\n",
      "next character is r\n",
      "(0, 'h')\n",
      "---\n",
      "9 R\n",
      "next character is e\n",
      "(0, 'h')\n",
      "---\n",
      "10 E\n"
     ]
    },
    {
     "ename": "IndexError",
     "evalue": "string index out of range",
     "output_type": "error",
     "traceback": [
      "\u001b[0;31m---------------------------------------------------------------------------\u001b[0m",
      "\u001b[0;31mIndexError\u001b[0m                                Traceback (most recent call last)",
      "\u001b[0;32m<ipython-input-55-767699d5b0e5>\u001b[0m in \u001b[0;36m<module>\u001b[0;34m\u001b[0m\n\u001b[1;32m      6\u001b[0m     \u001b[0mprint\u001b[0m\u001b[0;34m(\u001b[0m\u001b[0;34m\"---\"\u001b[0m\u001b[0;34m)\u001b[0m\u001b[0;34m\u001b[0m\u001b[0;34m\u001b[0m\u001b[0m\n\u001b[1;32m      7\u001b[0m     \u001b[0mprint\u001b[0m\u001b[0;34m(\u001b[0m\u001b[0mind\u001b[0m\u001b[0;34m,\u001b[0m \u001b[0mele\u001b[0m\u001b[0;34m.\u001b[0m\u001b[0mupper\u001b[0m\u001b[0;34m(\u001b[0m\u001b[0;34m)\u001b[0m\u001b[0;34m)\u001b[0m\u001b[0;34m\u001b[0m\u001b[0;34m\u001b[0m\u001b[0m\n\u001b[0;32m----> 8\u001b[0;31m     \u001b[0mprint\u001b[0m\u001b[0;34m(\u001b[0m\u001b[0;34m\"next character is {0}\"\u001b[0m\u001b[0;34m.\u001b[0m\u001b[0mformat\u001b[0m\u001b[0;34m(\u001b[0m\u001b[0ms\u001b[0m\u001b[0;34m[\u001b[0m\u001b[0mind\u001b[0m\u001b[0;34m+\u001b[0m\u001b[0;36m1\u001b[0m\u001b[0;34m]\u001b[0m\u001b[0;34m)\u001b[0m\u001b[0;34m)\u001b[0m\u001b[0;34m\u001b[0m\u001b[0;34m\u001b[0m\u001b[0m\n\u001b[0m\u001b[1;32m      9\u001b[0m     \u001b[0mprint\u001b[0m\u001b[0;34m(\u001b[0m\u001b[0mnext\u001b[0m\u001b[0;34m(\u001b[0m\u001b[0menumerate\u001b[0m\u001b[0;34m(\u001b[0m\u001b[0ms\u001b[0m\u001b[0;34m)\u001b[0m\u001b[0;34m)\u001b[0m\u001b[0;34m)\u001b[0m\u001b[0;34m\u001b[0m\u001b[0;34m\u001b[0m\u001b[0m\n",
      "\u001b[0;31mIndexError\u001b[0m: string index out of range"
     ]
    }
   ],
   "source": [
    "s=\"hello there\"\n",
    "#for tpl in enumerate(s):\n",
    "    #print(tpl)\n",
    "\n",
    "for ind,ele in enumerate(s): # <-- unpacking immediately\n",
    "    print(\"---\")\n",
    "    print(ind, ele.upper())\n",
    "    print(\"next character is {0}\".format(s[ind+1]))"
   ]
  },
  {
   "cell_type": "code",
   "execution_count": null,
   "metadata": {},
   "outputs": [],
   "source": []
  }
 ],
 "metadata": {
  "kernelspec": {
   "display_name": "Python 3 (ipykernel)",
   "language": "python",
   "name": "python3"
  },
  "language_info": {
   "codemirror_mode": {
    "name": "ipython",
    "version": 3
   },
   "file_extension": ".py",
   "mimetype": "text/x-python",
   "name": "python",
   "nbconvert_exporter": "python",
   "pygments_lexer": "ipython3",
   "version": "3.9.7"
  }
 },
 "nbformat": 4,
 "nbformat_minor": 4
}
