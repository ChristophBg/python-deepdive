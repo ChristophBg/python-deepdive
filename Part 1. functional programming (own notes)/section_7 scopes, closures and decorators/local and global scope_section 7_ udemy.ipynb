{
 "cells": [
  {
   "cell_type": "markdown",
   "metadata": {},
   "source": [
    "# local and global scope"
   ]
  },
  {
   "cell_type": "markdown",
   "metadata": {},
   "source": [
    "variable references that object can be said as \"a is bound to 10\" / \"a points to 10\". Name space of module is the mapping / table of variables and their bindings to objects."
   ]
  },
  {
   "cell_type": "markdown",
   "metadata": {},
   "source": [
    "scope where the binding of a variable to an object exists is called lexical scope of that variable."
   ]
  },
  {
   "cell_type": "markdown",
   "metadata": {},
   "source": [
    "global scope is essentially the module scope. Built-in and global variables can be used anywhere in module. Global scopes are nested inside built-in scope"
   ]
  },
  {
   "cell_type": "markdown",
   "metadata": {},
   "source": [
    "python looks for binding in enclosing scope, if it doesn't find it, python looks in higher hierarchical scope. during compile-time, if python creates a function it checks for every label whether it is found in global namespace, if not it considers it a local label. Any parameter of a function is local."
   ]
  },
  {
   "cell_type": "markdown",
   "metadata": {},
   "source": [
    "sidenote: \"compile time\" = when code is compiled, \"run time\" = when code is run --> \"run time error\""
   ]
  },
  {
   "cell_type": "code",
   "execution_count": 11,
   "metadata": {},
   "outputs": [
    {
     "name": "stdout",
     "output_type": "stream",
     "text": [
      "10\n",
      "0\n"
     ]
    }
   ],
   "source": [
    "#example:\n",
    "a=0\n",
    "\n",
    "def func(): #local scope\n",
    "    a=10\n",
    "    print(a)\n",
    "\n",
    "func() #in local scope\n",
    "\n",
    "# in global scope again\n",
    "print(a)"
   ]
  },
  {
   "cell_type": "markdown",
   "metadata": {},
   "source": [
    "### global keyword"
   ]
  },
  {
   "cell_type": "code",
   "execution_count": 12,
   "metadata": {},
   "outputs": [
    {
     "name": "stdout",
     "output_type": "stream",
     "text": [
      "10\n",
      "10\n"
     ]
    }
   ],
   "source": [
    "a=0\n",
    "\n",
    "def func():\n",
    "    global a\n",
    "    a=10\n",
    "    print(a)\n",
    "\n",
    "func()\n",
    "print(a)"
   ]
  },
  {
   "cell_type": "code",
   "execution_count": 13,
   "metadata": {},
   "outputs": [
    {
     "ename": "NameError",
     "evalue": "name 'var' is not defined",
     "output_type": "error",
     "traceback": [
      "\u001b[0;31m---------------------------------------------------------------------------\u001b[0m",
      "\u001b[0;31mNameError\u001b[0m                                 Traceback (most recent call last)",
      "\u001b[0;32m<ipython-input-13-96d4d6140bdd>\u001b[0m in \u001b[0;36m<module>\u001b[0;34m\u001b[0m\n\u001b[1;32m      3\u001b[0m     \u001b[0;32mglobal\u001b[0m \u001b[0mvar\u001b[0m\u001b[0;34m\u001b[0m\u001b[0;34m\u001b[0m\u001b[0m\n\u001b[1;32m      4\u001b[0m     \u001b[0mvar\u001b[0m\u001b[0;34m=\u001b[0m\u001b[0;34m\"global variable\"\u001b[0m\u001b[0;34m\u001b[0m\u001b[0;34m\u001b[0m\u001b[0m\n\u001b[0;32m----> 5\u001b[0;31m \u001b[0mprint\u001b[0m\u001b[0;34m(\u001b[0m\u001b[0mvar\u001b[0m\u001b[0;34m)\u001b[0m\u001b[0;34m\u001b[0m\u001b[0;34m\u001b[0m\u001b[0m\n\u001b[0m",
      "\u001b[0;31mNameError\u001b[0m: name 'var' is not defined"
     ]
    }
   ],
   "source": [
    "# can create global variable inside local scope w/o it existing in global scope before:\n",
    "def func():\n",
    "    global var\n",
    "    var=\"global variable\"\n",
    "print(var)"
   ]
  },
  {
   "cell_type": "code",
   "execution_count": 14,
   "metadata": {},
   "outputs": [
    {
     "name": "stdout",
     "output_type": "stream",
     "text": [
      "global variable\n"
     ]
    }
   ],
   "source": [
    "func()\n",
    "print(var)"
   ]
  },
  {
   "cell_type": "markdown",
   "metadata": {},
   "source": [
    "## non-local scopes\n",
    "not the same as global scopes. Relevant with nested functions."
   ]
  },
  {
   "cell_type": "code",
   "execution_count": 15,
   "metadata": {},
   "outputs": [],
   "source": [
    "glob_var=1\n",
    "\n",
    "def outer_f():\n",
    "    # code\n",
    "    var1=2\n",
    "    \n",
    "    def inner_f():\n",
    "        #some code\n",
    "        var2=3\n",
    "        return\n",
    "    \n",
    "    inner_f()\n",
    "    return\n",
    "    \n",
    "outer_f()"
   ]
  },
  {
   "cell_type": "markdown",
   "metadata": {},
   "source": [
    "### nonlocal keyword\n",
    "python considers variable local UNLESS specifically told that this variable is supposed to be non-local, then python looks one level up for variable."
   ]
  },
  {
   "cell_type": "code",
   "execution_count": 22,
   "metadata": {},
   "outputs": [
    {
     "name": "stdout",
     "output_type": "stream",
     "text": [
      "outermost\n",
      "mid\n",
      "innermost\n",
      "innermost\n"
     ]
    }
   ],
   "source": [
    "def outer_f():\n",
    "    x=\"outermost\"\n",
    "    print(x)\n",
    "    def inner_f1():\n",
    "        nonlocal x\n",
    "        x=\"mid\"\n",
    "        print(x)\n",
    "        def inner_f2():\n",
    "            nonlocal x\n",
    "            x=\"innermost\"\n",
    "        inner_f2()\n",
    "        print(x)\n",
    "    inner_f1()\n",
    "    print(x)\n",
    "outer_f()"
   ]
  },
  {
   "cell_type": "code",
   "execution_count": 23,
   "metadata": {},
   "outputs": [
    {
     "name": "stdout",
     "output_type": "stream",
     "text": [
      "outermost\n",
      "innermost\n",
      "outermost\n"
     ]
    }
   ],
   "source": [
    "def outer_f():\n",
    "    x=\"outermost\"\n",
    "    print(x)\n",
    "    def inner_f1():\n",
    "        x=\"mid\" #wird durch x in f2 überschrieben\n",
    "        def inner_f2():\n",
    "            nonlocal x\n",
    "            x=\"innermost\"\n",
    "        inner_f2()\n",
    "        print(x)\n",
    "    inner_f1()\n",
    "    print(x)\n",
    "outer_f()"
   ]
  },
  {
   "cell_type": "code",
   "execution_count": 24,
   "metadata": {},
   "outputs": [
    {
     "name": "stdout",
     "output_type": "stream",
     "text": [
      "inner: B\n",
      "outer: A\n"
     ]
    }
   ],
   "source": [
    "#further example of scope:\n",
    "def outer():\n",
    "    x=\"A\"\n",
    "    def inner():\n",
    "        x=\"B\"\n",
    "        print(\"inner:\",x)\n",
    "    inner()\n",
    "    print(\"outer:\",x)\n",
    "outer()"
   ]
  },
  {
   "cell_type": "code",
   "execution_count": 25,
   "metadata": {},
   "outputs": [
    {
     "name": "stdout",
     "output_type": "stream",
     "text": [
      "x before inner: A\n",
      "inner: B\n",
      "x after inner: B\n"
     ]
    }
   ],
   "source": [
    "# with nonlocal scope:\n",
    "def outer():\n",
    "    x=\"A\"\n",
    "    print(\"x before inner:\",x)\n",
    "    def inner():\n",
    "        nonlocal x\n",
    "        x=\"B\"\n",
    "        print(\"inner:\",x)\n",
    "    inner()\n",
    "    print(\"x after inner:\",x)\n",
    "outer()"
   ]
  },
  {
   "cell_type": "code",
   "execution_count": 29,
   "metadata": {},
   "outputs": [
    {
     "name": "stdout",
     "output_type": "stream",
     "text": [
      "C\n"
     ]
    }
   ],
   "source": [
    "# modified 2 levels deep:\n",
    "\n",
    "def outer():\n",
    "    x=\"A\"\n",
    "    def inner1():\n",
    "        nonlocal x   \n",
    "        x=\"B\"\n",
    "        def inner2():\n",
    "            nonlocal x\n",
    "            x=\"C\"\n",
    "        inner2()\n",
    "    inner1()\n",
    "    print(x)\n",
    "outer()"
   ]
  },
  {
   "cell_type": "code",
   "execution_count": 30,
   "metadata": {},
   "outputs": [
    {
     "name": "stdout",
     "output_type": "stream",
     "text": [
      "C\n"
     ]
    }
   ],
   "source": [
    "def outer():\n",
    "    x=\"A\"\n",
    "    def inner1():\n",
    "\n",
    "        def inner2():\n",
    "            nonlocal x\n",
    "            x=\"C\"\n",
    "        inner2()\n",
    "    inner1()\n",
    "    print(x)\n",
    "outer()"
   ]
  },
  {
   "cell_type": "code",
   "execution_count": null,
   "metadata": {},
   "outputs": [],
   "source": []
  }
 ],
 "metadata": {
  "kernelspec": {
   "display_name": "Python 3",
   "language": "python",
   "name": "python3"
  },
  "language_info": {
   "codemirror_mode": {
    "name": "ipython",
    "version": 3
   },
   "file_extension": ".py",
   "mimetype": "text/x-python",
   "name": "python",
   "nbconvert_exporter": "python",
   "pygments_lexer": "ipython3",
   "version": "3.8.5"
  }
 },
 "nbformat": 4,
 "nbformat_minor": 4
}
